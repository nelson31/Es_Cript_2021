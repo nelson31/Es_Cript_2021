{
 "cells": [
  {
   "cell_type": "markdown",
   "metadata": {},
   "source": [
    "# Trabalho Prático 0 de Estruturas Criptográficas"
   ]
  },
  {
   "cell_type": "markdown",
   "metadata": {},
   "source": [
    "#### Autores:\n",
    "\n",
    "      - Nelson Faria (A84727)\n",
    "      - Miguel Oliveira (A83819)"
   ]
  },
  {
   "cell_type": "markdown",
   "metadata": {},
   "source": [
    "> # Exercício 1"
   ]
  },
  {
   "cell_type": "code",
   "execution_count": 1,
   "metadata": {},
   "outputs": [],
   "source": [
    "import asyncio\n",
    "import os\n",
    "import socket\n",
    "import sys\n",
    "\n",
    "from cryptography.exceptions import InvalidSignature\n",
    "from cryptography.hazmat.primitives.ciphers.aead import AESGCM\n",
    "from cryptography.hazmat.primitives import hashes, hmac\n",
    "from cryptography.hazmat.primitives.kdf.hkdf import HKDF"
   ]
  },
  {
   "cell_type": "markdown",
   "metadata": {},
   "source": [
    "#### Derivar uma chave com uma KDF(Key Derivation Function) a partir de uma password\n",
    "\n",
    "> Para derivar uma chave com a password foi necessário usar uma KDF(no nosso caso usamos a HKDF da biblioteca python *cryptography.io*) para derivar uma chave com 256 bits(32 bytes)."
   ]
  },
  {
   "cell_type": "code",
   "execution_count": 2,
   "metadata": {},
   "outputs": [],
   "source": [
    "''' \n",
    "Funcao usada para derivar uma chave\n",
    "'''\n",
    "\n",
    "\n",
    "def derivationKey(password,salt):\n",
    "    info = None\n",
    "    hkdf = HKDF(\n",
    "        hashes.SHA256(),\n",
    "        32,\n",
    "        salt,\n",
    "        info,\n",
    "    )\n",
    "    return hkdf.derive(password)"
   ]
  },
  {
   "cell_type": "markdown",
   "metadata": {},
   "source": [
    "#### Verificar que o MAC da chave gerada pelo *Emitter* ou *Receiver* está correto\n",
    "\n",
    "> Para verificar o MAC da chave gerada pelo Receiver foi necessário usar o **HMAC** e a função *verify()* para verificar que o MAC que o receiver gerou é igual ao MAC gerado pelo emitter!"
   ]
  },
  {
   "cell_type": "code",
   "execution_count": 3,
   "metadata": {},
   "outputs": [],
   "source": [
    "''' \n",
    "Funcao que serve para verificar a chave que foi recebida pelo receiver \n",
    "'''\n",
    "\n",
    "\n",
    "def verifyKey(key2, key):\n",
    "    h = hmac.HMAC(key, hashes.SHA256())\n",
    "    h.update(key)\n",
    "    h.verify(key2)"
   ]
  },
  {
   "cell_type": "markdown",
   "metadata": {},
   "source": [
    "#### Funcao que serve para autenticar as chaves aquando da troca inicial entre as partes\n",
    "\n",
    "> O **HMAC** é usado somente para a autenticidade da troca de chaves entre o *Emitter* e o *Receiver*! Assim, a informação da chave é cifrada com a própria chave e, deste modo, o *Emitter* ou *Receiver* só podem acordar a chave a usar se e só se as chaves que estes tiverem são iguais. De lembrar que para que isso aconteça ambos têm de possuír a mesma *password* e o mesmo *salt*!!!"
   ]
  },
  {
   "cell_type": "code",
   "execution_count": 4,
   "metadata": {},
   "outputs": [],
   "source": [
    "''' \n",
    "Funcao que serve para autenticar a chave\n",
    "'''\n",
    "\n",
    "\n",
    "def authData(key2):\n",
    "    h = hmac.HMAC(key2, hashes.SHA256())\n",
    "    h.update(key2)\n",
    "    return h.finalize()"
   ]
  },
  {
   "cell_type": "markdown",
   "metadata": {},
   "source": [
    "#### Funcao que serve para cifrar uma mensagem usando a cifra AESGCM\n",
    "\n",
    "> A partir de uma chave, que foi gerada neste caso a partir da função *derivationKey*, da mensagem a cifrar e ainda de um nonce que deve ser gerado gerado de forma pseudo-aleatória através por exemplo do uso da função *os.urandom()*, esta função retorna o criptograma resultante. De notar que se está a usar também uma variável exemplo(**ASSOCIATED_DATA**) para colocar alguns dados que não serão cifrados mas serão autenticados."
   ]
  },
  {
   "cell_type": "code",
   "execution_count": 5,
   "metadata": {},
   "outputs": [],
   "source": [
    "'''\n",
    "Funcao usada para cifrar e autenticar a mensagem\n",
    "'''\n",
    "\n",
    "\n",
    "def cifraGCM(key, mensagem, nonce):\n",
    "    aesgcm = AESGCM(key)\n",
    "\n",
    "    ct = aesgcm.encrypt(nonce, mensagem, ASSOCIATED_DATA)\n",
    "\n",
    "    return ct"
   ]
  },
  {
   "cell_type": "markdown",
   "metadata": {},
   "source": [
    "#### Funcao que serve para decifrar uma mensagem usando a cifra AESGCM\n",
    "\n",
    "> A partir de uma chave, que foi gerada neste caso a partir da função *derivationKey*, do criptograma a decifrar e ainda de um nonce que neste caso foi recebido pela outra parte comunicante(*emitter* ou *receiver*) para que seja possível obter a mensagem original, esta função retorna o texto original. De notar que aqui também se está a usar uma variável exemplo (**ASSOCIATED_DATA**) que deve ser a mesma da que foi usada para cifrar."
   ]
  },
  {
   "cell_type": "code",
   "execution_count": 6,
   "metadata": {},
   "outputs": [],
   "source": [
    "'''\n",
    "Funcao usada para decifrar e autenticar a mensagem\n",
    "'''\n",
    "\n",
    "\n",
    "def decifraGCM(key, criptograma, nonce):\n",
    "    aesgcm = AESGCM(key)\n",
    "\n",
    "    msg = aesgcm.decrypt(nonce, criptograma, ASSOCIATED_DATA)\n",
    "\n",
    "    return msg"
   ]
  },
  {
   "cell_type": "markdown",
   "metadata": {},
   "source": [
    "### Validação das chaves entre o Emitter e o Receiver\n",
    "\n",
    "> Função usada para validar as chaves usadas durante a comunicação entre as partes. Deste modo, ambas as partes devem entrar em acordo relativamente à chave a usar, por isso é fundamental que a password introduzida tanto pelo *emitter* como pelo *receiver* seja igual. Por outro lado, como é o *emitter* que pretende enviar mensagens para o *receiver*, este deve enviar inicialmente o *salt* usado para gerar a chave a partir da password (neste caso, usou-se a *Key Derivation Function* **HKDF**). Além disso, deve haver uma autenticação das chaves(neste caso usou-se o **HMAC**) para que se tenha a certeza que ambas as partes estão em acordo com a chave e que ambos estejam a usar a mesma chave. Como o *emitter* gera a chave inicialmente, este pode fazer o MAC da chave com a chave que gerou e seguidamente enviar esse MAC para o *receiver* e ainda o salt que usou para gerar a chave, de forma a que o *receiver* consiga gerar a mesma chave e verificar a sua integridade. Assim, a negociação da chave a usar, que aqui está simulada, é feita da seguinte forma:\n",
    "\n",
    "> **Emitter** <--------------------------------> **Receiver**\n",
    "\n",
    "              *salt + MAC_key_(key)*\n",
    "              ---------------------->\n",
    "                  *MAC_key_(key)*\n",
    "              <----------------------\n",
    "           "
   ]
  },
  {
   "cell_type": "code",
   "execution_count": 7,
   "metadata": {},
   "outputs": [],
   "source": [
    "'''\n",
    "Funcao que serve para validar a chave entre o Emitter e o Receiver\n",
    "'''\n",
    "\n",
    "\n",
    "def validateKey(pwE,pwR):\n",
    "\n",
    "    '''EMITTER'''\n",
    "    # Geracao do salt para a derivacao da chave\n",
    "    saltE = os.urandom(16)\n",
    "    # Derivar a chave do Emitter\n",
    "    keyE = derivationKey(pwE.encode(\"utf-8\"), saltE)\n",
    "    print(\"Chave gerada pelo Emitter: \")\n",
    "    print(keyE)\n",
    "    # Autenticar a chave com a propria chave\n",
    "    keyEA = authData(keyE)\n",
    "    # Enviar o salt e o MAC(key) ao receiver\n",
    "    BUFFER = saltE + keyEA\n",
    "    '''RECEIVER'''\n",
    "    # Esperar pelo salt e o mac da chave do emitter\n",
    "    saltR = BUFFER[0:16]\n",
    "    keyEA_r = BUFFER[16:len(BUFFER)]\n",
    "    # Gerar a chave a partir da password do Receiver\n",
    "    keyR = derivationKey(pwR.encode(\"utf-8\"), saltR)\n",
    "    print(\"Chave gerada pelo Receiver: \")\n",
    "    print(keyR)\n",
    "    # Verificar se o Mac enviado pelo emitter corresponde ao mac da chave gerada\n",
    "    try:\n",
    "        verifyKey(keyEA_r, keyR)\n",
    "    except InvalidSignature as e:\n",
    "        print(\"The key sent by the emitter does not match: %s\" % e)\n",
    "        sys.exit(0)\n",
    "    # Autenticar a chave com a propria chave\n",
    "    keyRA = authData(keyR)\n",
    "    # Enviar o mac da chave que foi gerada\n",
    "    BUFFER = keyRA\n",
    "    '''EMITTER'''\n",
    "    # Comparar se a resposta é mesmo igual ao mac da chave do emitter\n",
    "    try:\n",
    "        verifyKey(BUFFER, keyE)\n",
    "    except InvalidSignature as e:\n",
    "        print(\"The key sent by the receiver does not match: %s\" % e)\n",
    "        sys.exit(0)\n",
    "\n",
    "    return keyE"
   ]
  },
  {
   "cell_type": "markdown",
   "metadata": {},
   "source": [
    "### Comunicação entre o Emitter e o Receiver\n",
    "\n",
    "> Função principal para haver a simulação da comunicação entre as duas entidades. Deste modo, primeiro é pedido que se introduza a password do *emitter* e depois a do *receiver*, que devem ser as mesmas. Depois, a função *validateKey* entra em ação para gerar as chaves para ambas as partes usarem. Se tudo correr bem, será possível que o *Emitter* envie uma mensagem ao *Receiver* e seguidamente que este receba a respetiva resposta. Como se pode ver pelos vários *prints* efetuados, poderá se ver quais os textos cifrados que foram feitos e ainda as mensagens trocadas."
   ]
  },
  {
   "cell_type": "code",
   "execution_count": 8,
   "metadata": {},
   "outputs": [],
   "source": [
    "ASSOCIATED_DATA = b\"Exemplo de Associated Data para o TP0 de EC\"\n",
    "\n",
    "BUFFER = b\"\"\n",
    "\n",
    "\n",
    "# Funcao que serve para dar inicio à comunicação entre o Emitter<->Receiver\n",
    "def communicate():\n",
    "    \n",
    "    # Introducao da password por parte do emitter\n",
    "    pwE = input(\"[Emitter] Introduza a password: \")\n",
    "    \n",
    "    # Introducao da password por parte do emitter\n",
    "    pwR = input(\"[Receiver] Introduza a password: \")\n",
    "    \n",
    "    if len(pwE) > 0 and len(pwR) > 0:\n",
    "        # Validar as chaves que foram geradas tanto pelo Emitter como o Receiver\n",
    "        key = validateKey(pwE,pwR)\n",
    "        \n",
    "        '''EMITTER'''\n",
    "        # Emitter escreve a mensagem para o receiver\n",
    "        pt = input(\"Emitter message: \")\n",
    "        if len(pt) > 0:\n",
    "            # Nonce usado para cifrar a mensagem\n",
    "            nonceE = os.urandom(12)\n",
    "            # Enviar a mensagem ao receiver\n",
    "            BUFFER = nonceE + cifraGCM(key, pt.encode(\"utf-8\"), nonceE)\n",
    "            print(\"Criptograma do Emitter: \")\n",
    "            print(BUFFER)\n",
    "            '''RECEIVER'''\n",
    "            # Receber a mensagem do emitter\n",
    "            nonceR = BUFFER[0:12]\n",
    "            crypto = BUFFER[12:len(BUFFER)]\n",
    "            # Decifrar a mensagem\n",
    "            msg = decifraGCM(key, crypto, nonceR).decode(\"utf-8\")\n",
    "            print(\"Mensagem enviada pelo Emitter: \" + msg)\n",
    "            # Receiver escreve a mensagem para o emitter\n",
    "            pt = input(\"Receiver message: \")\n",
    "            if len(pt) > 0:\n",
    "                # Nonce usado para cifrar a mensagem\n",
    "                nonceR = os.urandom(12)\n",
    "                # Enviar a resposta ao Emitter\n",
    "                BUFFER = nonceR + cifraGCM(key, pt.encode(\"utf-8\"), nonceR)\n",
    "                print(\"Criptograma do Receiver: \")\n",
    "                print(BUFFER)\n",
    "                '''EMITTER'''\n",
    "                # Receber a mensagem do receiver\n",
    "                nonceE = BUFFER[0:12]\n",
    "                crypto = BUFFER[12:len(BUFFER)]\n",
    "                # Decifrar a mensagem \n",
    "                msg = decifraGCM(key, crypto, nonceE).decode(\"utf-8\")\n",
    "                print(\"Mensagem enviada pelo Receiver: \" + msg)\n",
    "            else:\n",
    "                print(\"Insira uma mensagem válida\")\n",
    "        else:\n",
    "                print(\"Insira uma mensagem válida\")\n"
   ]
  },
  {
   "cell_type": "markdown",
   "metadata": {},
   "source": [
    "> Chamada da função *communicate* por onde se dá inicio ao processo de simulação da comunicação entre um **Emitter** e um **Receiver**. (Para isso, deve-se correr as funções todas que estão acima)"
   ]
  },
  {
   "cell_type": "code",
   "execution_count": 9,
   "metadata": {},
   "outputs": [
    {
     "name": "stdout",
     "output_type": "stream",
     "text": [
      "[Emitter] Introduza a password: informatica\n",
      "[Receiver] Introduza a password: informatica\n",
      "Chave gerada pelo Emitter: \n",
      "b'\\x13|m\\xd2\\x86]\\x98\\x14\\xbf\\x14 \\xbe\\xa7\\xe8\\xfc\\xbe\\xd8\\x17$\\xf4\\x81\\x80\\xa2\\x01\\xc4}Q\\xea_\\x120\\xba'\n",
      "Chave gerada pelo Receiver: \n",
      "b'\\x13|m\\xd2\\x86]\\x98\\x14\\xbf\\x14 \\xbe\\xa7\\xe8\\xfc\\xbe\\xd8\\x17$\\xf4\\x81\\x80\\xa2\\x01\\xc4}Q\\xea_\\x120\\xba'\n",
      "Emitter message: Olá, tudo bem contigo?\n",
      "Criptograma do Emitter: \n",
      "b'\\x1f7\\xea\\x0e@@n\\xf9\\xea{\\xf0\\xc6\\xad ![Wg6vl\\xa8:\\x13O\\xb0\\x8b\\xe7w\\xf8\\x92\\xd9\\x02\\xa4h%\\x0b\\xafh\\n\\x1ch\\xb6\"7\\x98\\x9e\\x1f\\xa5\\xde\\x11'\n",
      "Mensagem enviada pelo Emitter: Olá, tudo bem contigo?\n",
      "Receiver message: Sim, tudo perfeito! Obridado ;)\n",
      "Criptograma do Receiver: \n",
      "b'L\\xb1\\xfe*\\xe9V\\xaa4\\xc4\\xcd\\x1bAe\\x1as\\xdc\\xae\\x1bD\\xdb\\x8e\\x199\\xbf\\xca\\xfd\\xd3>\\xa6gI\\xef+\\t\\xd4qk\\xd0\\x12&\\xe1G\\xfd\\x98\\xfb;\\x985\\xfc.`\\x0f\\x80\"&0<\\x1b`'\n",
      "Mensagem enviada pelo Receiver: Sim, tudo perfeito! Obridado ;)\n"
     ]
    }
   ],
   "source": [
    "communicate()"
   ]
  },
  {
   "cell_type": "markdown",
   "metadata": {},
   "source": [
    "> # Exercício 2"
   ]
  },
  {
   "cell_type": "code",
   "execution_count": null,
   "metadata": {},
   "outputs": [],
   "source": []
  }
 ],
 "metadata": {
  "kernelspec": {
   "display_name": "Python 3",
   "language": "python",
   "name": "python3"
  },
  "language_info": {
   "codemirror_mode": {
    "name": "ipython",
    "version": 3
   },
   "file_extension": ".py",
   "mimetype": "text/x-python",
   "name": "python",
   "nbconvert_exporter": "python",
   "pygments_lexer": "ipython3",
   "version": "3.8.5"
  }
 },
 "nbformat": 4,
 "nbformat_minor": 4
}
