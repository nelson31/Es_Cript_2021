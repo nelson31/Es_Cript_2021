{
 "cells": [
  {
   "cell_type": "markdown",
   "metadata": {},
   "source": [
    "# Trabalho Prático 0 de Estruturas Criptográficas"
   ]
  },
  {
   "cell_type": "markdown",
   "metadata": {},
   "source": [
    "#### Autores:\n",
    "\n",
    "      - Nelson Faria (A84727)\n",
    "      - Miguel Oliveira (A83819)"
   ]
  },
  {
   "cell_type": "markdown",
   "metadata": {},
   "source": [
    "> # Exercício 1"
   ]
  },
  {
   "cell_type": "code",
   "execution_count": 4,
   "metadata": {},
   "outputs": [],
   "source": [
    "import asyncio\n",
    "import os\n",
    "import socket\n",
    "import sys\n",
    "\n",
    "from cryptography.exceptions import InvalidSignature\n",
    "from cryptography.hazmat.primitives.ciphers.aead import AESGCM\n",
    "from cryptography.hazmat.primitives import hashes, hmac\n",
    "from cryptography.hazmat.primitives.kdf.hkdf import HKDF"
   ]
  },
  {
   "cell_type": "markdown",
   "metadata": {},
   "source": [
    "#### Derivar uma chave com uma KDF(Key Derivation Function) a partir de uma password\n",
    "\n",
    "> Para derivar uma chave com a password foi necessário usar uma KDF(no nosso caso usamos a HKDF da biblioteca python *cryptography.io*) para derivar uma chave com 256 bits(32 bytes)."
   ]
  },
  {
   "cell_type": "code",
   "execution_count": 5,
   "metadata": {},
   "outputs": [],
   "source": [
    "''' \n",
    "Funcao usada para derivar uma chave\n",
    "'''\n",
    "\n",
    "\n",
    "def derivationKey(password,salt):\n",
    "    info = None\n",
    "    hkdf = HKDF(\n",
    "        hashes.SHA256(),\n",
    "        32,\n",
    "        salt,\n",
    "        info,\n",
    "    )\n",
    "    return hkdf.derive(password)"
   ]
  },
  {
   "cell_type": "markdown",
   "metadata": {},
   "source": [
    "#### Verificar que o MAC da chave gerada pelo *Emitter* ou *Receiver* está correto\n",
    "\n",
    "> Para verificar o MAC da chave gerada pelo Receiver foi necessário usar o **HMAC** e a função *verify()* para verificar que o MAC que o receiver gerou é igual ao MAC gerado pelo emitter!"
   ]
  },
  {
   "cell_type": "code",
   "execution_count": 6,
   "metadata": {},
   "outputs": [],
   "source": [
    "''' \n",
    "Funcao que serve para verificar a chave que foi recebida pelo receiver \n",
    "'''\n",
    "\n",
    "\n",
    "def verifyKey(key2, key):\n",
    "    h = hmac.HMAC(key, hashes.SHA256())\n",
    "    h.update(key)\n",
    "    h.verify(key2)"
   ]
  },
  {
   "cell_type": "markdown",
   "metadata": {},
   "source": [
    "#### Funcao que serve para autenticar as chaves aquando da troca inicial entre as partes\n",
    "\n",
    "> O **HMAC** é usado somente para a autenticidade da troca de chaves entre o *Emitter* e o *Receiver*! Assim, a informação da chave é cifrada com a própria chave e, deste modo, o *Emitter* ou *Receiver* só podem acordar a chave a usar se e só se as chaves que estes tiverem são iguais. De lembrar que para que isso aconteça ambos têm de possuír a mesma *password* e o mesmo *salt*!!!"
   ]
  },
  {
   "cell_type": "code",
   "execution_count": 7,
   "metadata": {},
   "outputs": [],
   "source": [
    "''' \n",
    "Funcao que serve para autenticar a chave\n",
    "'''\n",
    "\n",
    "\n",
    "def authData(key2):\n",
    "    h = hmac.HMAC(key2, hashes.SHA256())\n",
    "    h.update(key2)\n",
    "    return h.finalize()"
   ]
  },
  {
   "cell_type": "markdown",
   "metadata": {},
   "source": []
  },
  {
   "cell_type": "code",
   "execution_count": 8,
   "metadata": {},
   "outputs": [],
   "source": [
    "'''\n",
    "Funcao usada para cifrar e autenticar a mensagem\n",
    "'''\n",
    "\n",
    "\n",
    "def cifra(key, mensagem, nonce):\n",
    "    aesgcm = AESGCM(key)\n",
    "\n",
    "    ct = aesgcm.encrypt(nonce, mensagem, ASSOCIATED_DATA)\n",
    "\n",
    "    return ct"
   ]
  },
  {
   "cell_type": "markdown",
   "metadata": {},
   "source": []
  },
  {
   "cell_type": "code",
   "execution_count": 9,
   "metadata": {},
   "outputs": [],
   "source": [
    "'''\n",
    "Funcao usada para decifrar e autenticar a mensagem\n",
    "'''\n",
    "\n",
    "\n",
    "def decifra(key, criptograma, nonce):\n",
    "    aesgcm = AESGCM(key)\n",
    "\n",
    "    msg = aesgcm.decrypt(nonce, criptograma, ASSOCIATED_DATA)\n",
    "\n",
    "    return msg"
   ]
  },
  {
   "cell_type": "markdown",
   "metadata": {},
   "source": [
    "### Validação das chaves entre o Emitter e o Receiver"
   ]
  },
  {
   "cell_type": "code",
   "execution_count": 10,
   "metadata": {},
   "outputs": [],
   "source": [
    "'''\n",
    "Funcao que serve para validar a chave entre o Emitter e o Receiver\n",
    "'''\n",
    "\n",
    "\n",
    "def validateKey(pwE,pwR):\n",
    "\n",
    "    '''EMITTER'''\n",
    "    # Geracao do salt para a derivacao da chave\n",
    "    saltE = os.urandom(16)\n",
    "    # Derivar a chave do Emitter\n",
    "    keyE = derivationKey(pwE.encode(\"utf-8\"), saltE)\n",
    "    print(\"Chave gerada pelo Emitter: \")\n",
    "    print(keyE)\n",
    "    # Autenticar a chave com a propria chave\n",
    "    keyEA = authData(keyE)\n",
    "    # Enviar o salt e o MAC(key) ao receiver\n",
    "    BUFFER = saltE + keyEA\n",
    "    '''RECEIVER'''\n",
    "    # Esperar pelo salt e o mac da chave do emitter\n",
    "    saltR = BUFFER[0:16]\n",
    "    keyEA_r = BUFFER[16:len(BUFFER)]\n",
    "    # Gerar a chave a partir da password do Receiver\n",
    "    keyR = derivationKey(pwR.encode(\"utf-8\"), saltR)\n",
    "    print(\"Chave gerada pelo Receiver: \")\n",
    "    print(keyR)\n",
    "    # Verificar se o Mac enviado pelo emitter corresponde ao mac da chave gerada\n",
    "    try:\n",
    "        verifyKey(keyEA_r, keyR)\n",
    "    except InvalidSignature as e:\n",
    "        print(\"The key sent by the emitter does not match: %s\" % e)\n",
    "        sys.exit(0)\n",
    "    # Autenticar a chave com a propria chave\n",
    "    keyRA = authData(keyR)\n",
    "    # Enviar o mac da chave que foi gerada\n",
    "    BUFFER = keyRA\n",
    "    '''EMITTER'''\n",
    "    # Comparar se a resposta é mesmo igual ao mac da chave do emitter\n",
    "    try:\n",
    "        verifyKey(BUFFER, keyE)\n",
    "    except InvalidSignature as e:\n",
    "        print(\"The key sent by the receiver does not match: %s\" % e)\n",
    "        sys.exit(0)\n",
    "\n",
    "    return keyE"
   ]
  },
  {
   "cell_type": "markdown",
   "metadata": {},
   "source": [
    "### Comunicação entre o Emitter e o Receiver"
   ]
  },
  {
   "cell_type": "code",
   "execution_count": 11,
   "metadata": {},
   "outputs": [],
   "source": [
    "ASSOCIATED_DATA = b\"Exemplo de Associated Data para o TP0 de EC\"\n",
    "\n",
    "BUFFER = b\"\"\n",
    "\n",
    "\n",
    "# Funcao que serve para dar inicio à comunicação entre o Emitter<->Receiver\n",
    "def communicate():\n",
    "    \n",
    "    # Introducao da password por parte do emitter\n",
    "    pwE = input(\"[Emitter] Introduza a password: \")\n",
    "    \n",
    "    # Introducao da password por parte do emitter\n",
    "    pwR = input(\"[Receiver] Introduza a password: \")\n",
    "    \n",
    "    if len(pwE) > 0 and len(pwR) > 0:\n",
    "        # Validar as chaves que foram geradas tanto pelo Emitter como o Receiver\n",
    "        key = validateKey(pwE,pwR)\n",
    "        \n",
    "        '''EMITTER'''\n",
    "        # Emitter escreve a mensagem para o receiver\n",
    "        pt = input(\"Emitter message: \")\n",
    "        if len(pt) > 0:\n",
    "            # Nonce usado para cifrar a mensagem\n",
    "            nonceE = os.urandom(12)\n",
    "            # Enviar a mensagem ao receiver\n",
    "            BUFFER = nonceE + cifra(key, pt.encode(\"utf-8\"), nonceE)\n",
    "            print(\"Criptograma do Emitter: \")\n",
    "            print(BUFFER)\n",
    "            '''RECEIVER'''\n",
    "            # Receber a mensagem do emitter\n",
    "            nonceR = BUFFER[0:12]\n",
    "            crypto = BUFFER[12:len(BUFFER)]\n",
    "            # Decifrar a mensagem\n",
    "            msg = decifra(key, crypto, nonceR).decode(\"utf-8\")\n",
    "            print(\"Mensagem enviada pelo Emitter: \" + msg)\n",
    "            # Receiver escreve a mensagem para o emitter\n",
    "            pt = input(\"Receiver message: \")\n",
    "            if len(pt) > 0:\n",
    "                # Nonce usado para cifrar a mensagem\n",
    "                nonceR = os.urandom(12)\n",
    "                # Enviar a resposta ao Emitter\n",
    "                BUFFER = nonceR + cifra(key, pt.encode(\"utf-8\"), nonceR)\n",
    "                print(\"Criptograma do Receiver: \")\n",
    "                print(BUFFER)\n",
    "                '''EMITTER'''\n",
    "                # Receber a mensagem do receiver\n",
    "                nonceE = BUFFER[0:12]\n",
    "                crypto = BUFFER[12:len(BUFFER)]\n",
    "                # Decifrar a mensagem \n",
    "                msg = decifra(key, crypto, nonceE).decode(\"utf-8\")\n",
    "                print(\"Mensagem enviada pelo Receiver: \" + msg)\n",
    "            else:\n",
    "                print(\"Insira uma mensagem válida\")\n",
    "        else:\n",
    "                print(\"Insira uma mensagem válida\")\n"
   ]
  },
  {
   "cell_type": "code",
   "execution_count": 13,
   "metadata": {},
   "outputs": [
    {
     "name": "stdout",
     "output_type": "stream",
     "text": [
      "[Emitter] Introduza a password: informatica\n",
      "[Receiver] Introduza a password: informatica\n",
      "Chave gerada pelo Emitter: \n",
      "b'}\\xee\\xdbO\\nm~\\x98G\\x8a\\xfa\\xfeH\\xe5\\x1f\\xae\\x15xQB\\x8b\\xcc\\x95\\x03\\xec\\xe5\\x1dZ\\xa1\\x1c\\xa54'\n",
      "Chave gerada pelo Receiver: \n",
      "b'}\\xee\\xdbO\\nm~\\x98G\\x8a\\xfa\\xfeH\\xe5\\x1f\\xae\\x15xQB\\x8b\\xcc\\x95\\x03\\xec\\xe5\\x1dZ\\xa1\\x1c\\xa54'\n",
      "Emitter message: Ola, tudo bem?\n",
      "Criptograma do Emitter: \n",
      "b'\\xc0\\x83t\\xb3O\\xf05\\xa9j%D#\\x16{+\\xf0\\x1d\\x05\\x81\\x1c\\xc3\\x9a\\xd0l\\xf7\\xfa\\x93\\x9f\\xa8\\xa3\\xa8\\xb4\\x17V\\x10~\\xe5\\xce\\x13\\xe6(7'\n",
      "Mensagem enviada pelo Emitter: Ola, tudo bem?\n",
      "Receiver message: Sim, obrigado por perguntares :)\n",
      "Criptograma do Receiver: \n",
      "b'w\\x08\\xd2Lg\\x99\\x1d\\x15ST\\x08{\\x1d$k\\x03E\\x9e\\xedRS\\xc3\\x9c\\xc9\\x190*\\xbb\\x82\\xa0\\x0f]\\xfa\\x11SN\\xf5h\\xcf\\xc7kI\\x9c\\xf9|H\\xb8C\\xbb\\xfe\\x12\\xd5\\xb7\\xbc\\x86\\xe6\\xa0\\xc6\\x9d\\x94'\n",
      "Mensagem enviada pelo Receiver: Sim, obrigado por perguntares :)\n"
     ]
    }
   ],
   "source": [
    "communicate()"
   ]
  },
  {
   "cell_type": "markdown",
   "metadata": {},
   "source": [
    "> # Exercício 2"
   ]
  },
  {
   "cell_type": "code",
   "execution_count": null,
   "metadata": {},
   "outputs": [],
   "source": []
  }
 ],
 "metadata": {
  "kernelspec": {
   "display_name": "Python 3",
   "language": "python",
   "name": "python3"
  },
  "language_info": {
   "codemirror_mode": {
    "name": "ipython",
    "version": 3
   },
   "file_extension": ".py",
   "mimetype": "text/x-python",
   "name": "python",
   "nbconvert_exporter": "python",
   "pygments_lexer": "ipython3",
   "version": "3.8.5"
  }
 },
 "nbformat": 4,
 "nbformat_minor": 4
}
