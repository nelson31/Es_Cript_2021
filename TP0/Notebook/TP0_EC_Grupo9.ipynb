{
 "cells": [
  {
   "cell_type": "markdown",
   "metadata": {},
   "source": [
    "# Trabalho Prático 0 de Estruturas Criptográficas"
   ]
  },
  {
   "cell_type": "markdown",
   "metadata": {},
   "source": [
    "#### Autores:  (Grupo 9)\n",
    "\n",
    "      - Nelson Faria (A84727)\n",
    "      - Miguel Oliveira (A83819)"
   ]
  },
  {
   "cell_type": "markdown",
   "metadata": {},
   "source": [
    "# Exercício 1"
   ]
  },
  {
   "cell_type": "code",
   "execution_count": 1,
   "metadata": {},
   "outputs": [],
   "source": [
    "# Imports necessários à execução do código presente neste notebook\n",
    "\n",
    "import os\n",
    "import sys\n",
    "import timeit\n",
    "\n",
    "from cryptography.exceptions import InvalidSignature\n",
    "from cryptography.hazmat.primitives.ciphers.aead import AESGCM\n",
    "from cryptography.hazmat.primitives import hashes, hmac\n",
    "from cryptography.hazmat.primitives.kdf.hkdf import HKDF"
   ]
  },
  {
   "cell_type": "markdown",
   "metadata": {},
   "source": [
    "## Derivar uma chave com uma KDF(Key Derivation Function) a partir de uma password\n",
    "\n",
    "> Para derivar uma chave com a password foi necessário usar uma KDF(no nosso caso usamos a HKDF da biblioteca python *cryptography.io*) para derivar uma chave com 256 bits(32 bytes)."
   ]
  },
  {
   "cell_type": "code",
   "execution_count": 2,
   "metadata": {},
   "outputs": [],
   "source": [
    "''' \n",
    "Funcao usada para derivar uma chave\n",
    "'''\n",
    "\n",
    "\n",
    "def derivationKey(password,salt):\n",
    "    info = None\n",
    "    hkdf = HKDF(\n",
    "        hashes.SHA256(),\n",
    "        32,\n",
    "        salt,\n",
    "        info,\n",
    "    )\n",
    "    return hkdf.derive(password)"
   ]
  },
  {
   "cell_type": "markdown",
   "metadata": {},
   "source": [
    "## Verificar que o MAC da chave gerada pelo *Emitter* ou *Receiver* está correto\n",
    "\n",
    "> Para verificar o MAC da chave gerada pelo Receiver foi necessário usar o **HMAC** e a função *verify()* para verificar que o MAC que o receiver gerou é igual ao MAC gerado pelo emitter!"
   ]
  },
  {
   "cell_type": "code",
   "execution_count": 3,
   "metadata": {},
   "outputs": [],
   "source": [
    "''' \n",
    "Funcao que serve para verificar a chave que foi recebida pelo receiver \n",
    "'''\n",
    "\n",
    "\n",
    "def verifyKey(key2, key):\n",
    "    h = hmac.HMAC(key, hashes.SHA256())\n",
    "    h.update(key)\n",
    "    h.verify(key2)"
   ]
  },
  {
   "cell_type": "markdown",
   "metadata": {},
   "source": [
    "## Funcao que serve para autenticar as chaves aquando da troca inicial entre as partes\n",
    "\n",
    "> O **HMAC** é usado somente para a autenticidade da troca de chaves entre o *Emitter* e o *Receiver*! Assim, a informação da chave é cifrada com a própria chave e, deste modo, o *Emitter* ou *Receiver* só podem acordar a chave a usar se e só se as chaves que estes tiverem são iguais. De lembrar que para que isso aconteça ambos têm de possuír a mesma *password* e o mesmo *salt*!!!"
   ]
  },
  {
   "cell_type": "code",
   "execution_count": 4,
   "metadata": {},
   "outputs": [],
   "source": [
    "''' \n",
    "Funcao que serve para autenticar a chave\n",
    "'''\n",
    "\n",
    "\n",
    "def authData(key2):\n",
    "    h = hmac.HMAC(key2, hashes.SHA256())\n",
    "    h.update(key2)\n",
    "    return h.finalize()"
   ]
  },
  {
   "cell_type": "markdown",
   "metadata": {},
   "source": [
    "## Funcao que serve para cifrar uma mensagem usando a cifra AESGCM\n",
    "\n",
    "> A partir de uma chave, que foi gerada neste caso a partir da função *derivationKey*, da mensagem a cifrar e ainda de um nonce que deve ser gerado gerado de forma pseudo-aleatória através por exemplo do uso da função *os.urandom()*, esta função retorna o criptograma resultante. De notar que se está a usar também uma variável exemplo(**ASSOCIATED_DATA**) para colocar alguns dados que não serão cifrados mas serão autenticados."
   ]
  },
  {
   "cell_type": "code",
   "execution_count": 5,
   "metadata": {},
   "outputs": [],
   "source": [
    "'''\n",
    "Funcao usada para cifrar e autenticar a mensagem\n",
    "'''\n",
    "\n",
    "\n",
    "def cifraGCM(key, mensagem, nonce):\n",
    "    aesgcm = AESGCM(key)\n",
    "\n",
    "    ct = aesgcm.encrypt(nonce, mensagem, ASSOCIATED_DATA)\n",
    "\n",
    "    return ct"
   ]
  },
  {
   "cell_type": "markdown",
   "metadata": {},
   "source": [
    "## Funcao que serve para decifrar uma mensagem usando a cifra AESGCM\n",
    "\n",
    "> A partir de uma chave, que foi gerada neste caso a partir da função *derivationKey*, do criptograma a decifrar e ainda de um nonce que neste caso foi recebido pela outra parte comunicante(*emitter* ou *receiver*) para que seja possível obter a mensagem original, esta função retorna o texto original. De notar que aqui também se está a usar uma variável exemplo (**ASSOCIATED_DATA**) que deve ser a mesma da que foi usada para cifrar."
   ]
  },
  {
   "cell_type": "code",
   "execution_count": 6,
   "metadata": {},
   "outputs": [],
   "source": [
    "'''\n",
    "Funcao usada para decifrar e autenticar a mensagem\n",
    "'''\n",
    "\n",
    "\n",
    "def decifraGCM(key, criptograma, nonce):\n",
    "    aesgcm = AESGCM(key)\n",
    "\n",
    "    msg = aesgcm.decrypt(nonce, criptograma, ASSOCIATED_DATA)\n",
    "\n",
    "    return msg"
   ]
  },
  {
   "cell_type": "markdown",
   "metadata": {},
   "source": [
    "## Validação das chaves entre o Emitter e o Receiver\n",
    "\n",
    "> Função usada para validar as chaves usadas durante a comunicação entre as partes. Deste modo, ambas as partes devem entrar em acordo relativamente à chave a usar, por isso é fundamental que a password introduzida tanto pelo *emitter* como pelo *receiver* seja igual. Por outro lado, como é o *emitter* que pretende enviar mensagens para o *receiver*, este deve enviar inicialmente o *salt* usado para gerar a chave a partir da password (neste caso, usou-se a *Key Derivation Function* **HKDF**). Além disso, deve haver uma autenticação das chaves(neste caso usou-se o **HMAC**) para que se tenha a certeza que ambas as partes estão em acordo com a chave e que ambos estejam a usar a mesma chave. Como o *emitter* gera a chave inicialmente, este pode fazer o MAC da chave com a chave que gerou e seguidamente enviar esse MAC para o *receiver* e ainda o salt que usou para gerar a chave, de forma a que o *receiver* consiga gerar a mesma chave e verificar a sua integridade. \n",
    "\n",
    "> Assim, a negociação da chave a usar, que aqui está simulada, é feita da seguinte forma:\n",
    "\n",
    "\n",
    "    **Emitter** <--------------------------------> **Receiver**\n",
    "                      *salt + MAC_key_(key)*\n",
    "                  ----------------------------->\n",
    "                         *MAC_key_(key)*\n",
    "                  <-----------------------------"
   ]
  },
  {
   "cell_type": "code",
   "execution_count": 7,
   "metadata": {},
   "outputs": [],
   "source": [
    "'''\n",
    "Funcao que serve para validar a chave entre o Emitter e o Receiver\n",
    "'''\n",
    "\n",
    "\n",
    "def validateKey(pwE,pwR):\n",
    "\n",
    "    '''EMITTER'''\n",
    "    # Geracao do salt para a derivacao da chave\n",
    "    saltE = os.urandom(16)\n",
    "    # Derivar a chave do Emitter\n",
    "    keyE = derivationKey(pwE.encode(\"utf-8\"), saltE)\n",
    "    print(\"Chave gerada pelo Emitter: \")\n",
    "    print(keyE)\n",
    "    # Autenticar a chave com a propria chave\n",
    "    keyEA = authData(keyE)\n",
    "    # Enviar o salt e o MAC(key) ao receiver\n",
    "    BUFFER = saltE + keyEA\n",
    "    '''RECEIVER'''\n",
    "    # Esperar pelo salt e o mac da chave do emitter\n",
    "    saltR = BUFFER[0:16]\n",
    "    keyEA_r = BUFFER[16:len(BUFFER)]\n",
    "    # Gerar a chave a partir da password do Receiver\n",
    "    keyR = derivationKey(pwR.encode(\"utf-8\"), saltR)\n",
    "    print(\"Chave gerada pelo Receiver: \")\n",
    "    print(keyR)\n",
    "    # Verificar se o Mac enviado pelo emitter corresponde ao mac da chave gerada\n",
    "    try:\n",
    "        verifyKey(keyEA_r, keyR)\n",
    "    except InvalidSignature as e:\n",
    "        print(\"The key sent by the emitter does not match: %s\" % e)\n",
    "        sys.exit(0)\n",
    "    # Autenticar a chave com a propria chave\n",
    "    keyRA = authData(keyR)\n",
    "    # Enviar o mac da chave que foi gerada\n",
    "    BUFFER = keyRA\n",
    "    '''EMITTER'''\n",
    "    # Comparar se a resposta é mesmo igual ao mac da chave do emitter\n",
    "    try:\n",
    "        verifyKey(BUFFER, keyE)\n",
    "    except InvalidSignature as e:\n",
    "        print(\"The key sent by the receiver does not match: %s\" % e)\n",
    "        sys.exit(0)\n",
    "\n",
    "    return keyE"
   ]
  },
  {
   "cell_type": "markdown",
   "metadata": {},
   "source": [
    "## Comunicação entre o Emitter e o Receiver\n",
    "\n",
    "> Função principal para haver a simulação da comunicação entre as duas entidades. Deste modo, primeiro é pedido que se introduza a password do *emitter* e depois a do *receiver*, que devem ser as mesmas. Depois, a função *validateKey* entra em ação para gerar as chaves para ambas as partes usarem. Se tudo correr bem, será possível que o *Emitter* envie uma mensagem ao *Receiver* e seguidamente que este receba a respetiva resposta. Como se pode ver pelos vários *prints* efetuados, poderá se ver quais os textos cifrados que foram feitos e ainda as mensagens trocadas."
   ]
  },
  {
   "cell_type": "code",
   "execution_count": 8,
   "metadata": {},
   "outputs": [],
   "source": [
    "ASSOCIATED_DATA = b\"Exemplo de Associated Data para o TP0 de EC\"\n",
    "\n",
    "BUFFER = b\"\"\n",
    "\n",
    "\n",
    "# Funcao que serve para dar inicio à comunicação entre o Emitter<->Receiver\n",
    "def communicate():\n",
    "    \n",
    "    # Introducao da password por parte do emitter\n",
    "    pwE = input(\"[Emitter] Introduza a password: \")\n",
    "    \n",
    "    # Introducao da password por parte do emitter\n",
    "    pwR = input(\"[Receiver] Introduza a password: \")\n",
    "    \n",
    "    if len(pwE) > 0 and len(pwR) > 0:\n",
    "        # Validar as chaves que foram geradas tanto pelo Emitter como o Receiver\n",
    "        key = validateKey(pwE,pwR)\n",
    "        \n",
    "        '''EMITTER'''\n",
    "        # Emitter escreve a mensagem para o receiver\n",
    "        pt = input(\"Emitter message: \")\n",
    "        if len(pt) > 0:\n",
    "            # Nonce usado para cifrar a mensagem\n",
    "            nonceE = os.urandom(12)\n",
    "            # Enviar a mensagem ao receiver\n",
    "            BUFFER = nonceE + cifraGCM(key, pt.encode(\"utf-8\"), nonceE)\n",
    "            print(\"Criptograma do Emitter: \")\n",
    "            print(BUFFER)\n",
    "            '''RECEIVER'''\n",
    "            # Receber a mensagem do emitter\n",
    "            nonceR = BUFFER[0:12]\n",
    "            crypto = BUFFER[12:len(BUFFER)]\n",
    "            # Decifrar a mensagem\n",
    "            msg = decifraGCM(key, crypto, nonceR).decode(\"utf-8\")\n",
    "            print(\"Mensagem enviada pelo Emitter: \" + msg)\n",
    "            # Receiver escreve a mensagem para o emitter\n",
    "            pt = input(\"Receiver message: \")\n",
    "            if len(pt) > 0:\n",
    "                # Nonce usado para cifrar a mensagem\n",
    "                nonceR = os.urandom(12)\n",
    "                # Enviar a resposta ao Emitter\n",
    "                BUFFER = nonceR + cifraGCM(key, pt.encode(\"utf-8\"), nonceR)\n",
    "                print(\"Criptograma do Receiver: \")\n",
    "                print(BUFFER)\n",
    "                '''EMITTER'''\n",
    "                # Receber a mensagem do receiver\n",
    "                nonceE = BUFFER[0:12]\n",
    "                crypto = BUFFER[12:len(BUFFER)]\n",
    "                # Decifrar a mensagem \n",
    "                msg = decifraGCM(key, crypto, nonceE).decode(\"utf-8\")\n",
    "                print(\"Mensagem enviada pelo Receiver: \" + msg)\n",
    "            else:\n",
    "                print(\"Insira uma mensagem válida\")\n",
    "        else:\n",
    "                print(\"Insira uma mensagem válida\")\n"
   ]
  },
  {
   "cell_type": "markdown",
   "metadata": {},
   "source": [
    "> Chamada da função *communicate* por onde se dá inicio ao processo de simulação da comunicação entre um **Emitter** e um **Receiver**. (Para isso, deve-se correr as funções todas que estão acima)"
   ]
  },
  {
   "cell_type": "code",
   "execution_count": 9,
   "metadata": {},
   "outputs": [
    {
     "name": "stdout",
     "output_type": "stream",
     "text": [
      "[Emitter] Introduza a password: informatica\n",
      "[Receiver] Introduza a password: informatica\n",
      "Chave gerada pelo Emitter: \n",
      "b'7\\x0f1\\xda\\x0e\\xa9\\xff\\xed\\x96K\\xa2\\xb3\\x1c\\xd8\\xa3{R\\x0c/\\x9c^\\xd4C\\x9d\\xc3\\xd7\\xfe=+P^W'\n",
      "Chave gerada pelo Receiver: \n",
      "b'7\\x0f1\\xda\\x0e\\xa9\\xff\\xed\\x96K\\xa2\\xb3\\x1c\\xd8\\xa3{R\\x0c/\\x9c^\\xd4C\\x9d\\xc3\\xd7\\xfe=+P^W'\n",
      "Emitter message: Olá, tudo bem contigo?\n",
      "Criptograma do Emitter: \n",
      "b'UmO6|\\xa1\\xc3\\x19BG\\xd3:\\x01[\\xbcL\\xb82\\xc1\\t\\x80\\x82\\xcfe,%\\x08\"\\xd4\\xa0U\\x11\\xe5\\x9a\\xc4O\\x18>U\\x18\\xba!\\x92\\x1c\\xff\\x90\\xd9\\xc8[)\\xc5'\n",
      "Mensagem enviada pelo Emitter: Olá, tudo bem contigo?\n",
      "Receiver message: Sim, obrigado por perguntares :)\n",
      "Criptograma do Receiver: \n",
      "b\"\\xbd\\x8f\\xf9\\x13\\xd0\\xd1\\x9c`>\\x85Y\\xde6\\x17\\xe3\\xa0\\xa5:N\\xf5\\xd2X\\xe8\\x12\\xd0\\x88g\\xfd\\xb4{\\xc1\\xd7jO\\x82\\xcb\\xa0A~\\xdb'\\xeeQ\\x10TD1$\\x8dq\\xa0\\xe4\\x93\\xe2@@\\xb6\\x0c\\xdd\\xec\"\n",
      "Mensagem enviada pelo Receiver: Sim, obrigado por perguntares :)\n"
     ]
    }
   ],
   "source": [
    "communicate()"
   ]
  },
  {
   "cell_type": "markdown",
   "metadata": {},
   "source": [
    "# Exercício 2"
   ]
  },
  {
   "cell_type": "markdown",
   "metadata": {},
   "source": [
    "## Alínea a"
   ]
  },
  {
   "cell_type": "markdown",
   "metadata": {},
   "source": [
    "Nesta primeira alínea o objetivo era implementar um **gerador pseudo-aleatório do tipo XOF(\"*extened output function*\")** usando o **SHAKE256**, com a finalidade de gerar uma sequência de palavras de 64 bits.\n",
    "\n",
    "Com isto em mente, era necessário conhecer um **parâmetro N**, que influencia o número de palavras de 64 bits a serem geradas. De um modo mais concreto, o gerador é responsável por gerar $2^{N}$ palavras. Outro aspeto bastante relevante é a necessidade de ser conhecida uma **password**, a partir da qual será gerada uma **chave**, através do uso do **HKDF**, que será usada para a geração da sequência de palavras.\n",
    "\n",
    "A função responsável por derivar uma chave de 256 bits a partir de uma password já consta deste mesmo documento, a qual é designada de **derivationKey()**."
   ]
  },
  {
   "cell_type": "markdown",
   "metadata": {},
   "source": [
    "> Definimos uma macro que guarda então o tamanho de cada palavra gerada pelo PRNG"
   ]
  },
  {
   "cell_type": "code",
   "execution_count": 10,
   "metadata": {},
   "outputs": [],
   "source": [
    "SIZE_BLOCK = 8"
   ]
  },
  {
   "cell_type": "markdown",
   "metadata": {},
   "source": [
    "A função apresentada de seguida **(generateRandomWords())** é aquela que, mediante um **parêmtro N** e a chave gerada a partir da função mencionada anteriormente, é capaz de gerar $2^{N}$ palavras. Para o armazenamento destas palavras, o nosso grupo optou por usar uma **lista de string** e não **long integers** como era pedido, tendo em conta que tal tipo de dados já não consta do **python3**."
   ]
  },
  {
   "cell_type": "code",
   "execution_count": 11,
   "metadata": {},
   "outputs": [],
   "source": [
    "def gerador(seed, param_n):\n",
    "    # A sequencia de palavras tem de ter tamanho suficiente para as 2^n palavras\n",
    "    digest = hashes.Hash(hashes.SHAKE256(SIZE_BLOCK * (2 ** param_n)))\n",
    "    digest.update(seed)\n",
    "    return digest.finalize()\n",
    "\n",
    "def generateRandomWords(key, param_n):\n",
    "    # Sequencia aleatoria gerada pelo gerador\n",
    "    s = gerador(key, param_n)\n",
    "    # Criar as palavras como long integers\n",
    "    blocos = []\n",
    "    for i in range(2 ** param_n):\n",
    "        blocos.append(s[i * SIZE_BLOCK:i * SIZE_BLOCK + SIZE_BLOCK])\n",
    "    return blocos\n",
    "    "
   ]
  },
  {
   "cell_type": "markdown",
   "metadata": {},
   "source": [
    "## Alinea b"
   ]
  },
  {
   "cell_type": "markdown",
   "metadata": {},
   "source": [
    "> Obtendo essa lista de palavras através do **gerador pseudo-aleatório**, conseguiremos aplicar diretamente a cifra **One Time Pad (OTP)**. Para tal, em primeiro lugar foi necessário construir uma função em que, dadas duas sequencias de bytes, realizar o **xor** entre essas duas sequências e retornar o respetivo resultado dessa mesma operação. Essa função é apresentada de seguida."
   ]
  },
  {
   "cell_type": "code",
   "execution_count": 12,
   "metadata": {},
   "outputs": [],
   "source": [
    "def xor_str(str1, str2):\n",
    "    return bytes([_a ^ _b for _a, _b in zip(str1, str2)])"
   ]
  },
  {
   "cell_type": "markdown",
   "metadata": {},
   "source": [
    "> Exemplificamos o seu uso com um caso prático bastante simples:"
   ]
  },
  {
   "cell_type": "code",
   "execution_count": 13,
   "metadata": {},
   "outputs": [
    {
     "data": {
      "text/plain": [
       "b'\\x03\\x0c\\x0b\\x06\\n\\x02'"
      ]
     },
     "execution_count": 13,
     "metadata": {},
     "output_type": "execute_result"
    }
   ],
   "source": [
    "xor_str(b'miguel',b'nelson')"
   ]
  },
  {
   "cell_type": "code",
   "execution_count": 14,
   "metadata": {},
   "outputs": [
    {
     "data": {
      "text/plain": [
       "b'miguel'"
      ]
     },
     "execution_count": 14,
     "metadata": {},
     "output_type": "execute_result"
    }
   ],
   "source": [
    "xor_str(b'nelson',b'\\x03\\x0c\\x0b\\x06\\n\\x02')"
   ]
  },
  {
   "cell_type": "markdown",
   "metadata": {},
   "source": [
    "> Tendo isto, agora, era necessário partir a mensagem em **blocos de 64 bits**, de modo a realizar o xor com as respetivas **palavras geradas** pelo gerador pseudo-aleatório, quer aquando da **cifragem**, quer aquando da **decifragem** de mensagens. Mostramos então de seguida ambas as funções com a capacidade de cifrar ou decifrar, mediante a apresentação da **lista de palavras** geradas."
   ]
  },
  {
   "cell_type": "code",
   "execution_count": 15,
   "metadata": {},
   "outputs": [],
   "source": [
    "def cifrar(message, words):\n",
    "        i = 0\n",
    "        ciphertext = b''\n",
    "        for word in words:\n",
    "            ciphertext += xor_str(message[i * SIZE_BLOCK:(i + 1) * SIZE_BLOCK], word)\n",
    "            i += 1\n",
    "        return ciphertext"
   ]
  },
  {
   "cell_type": "code",
   "execution_count": 16,
   "metadata": {},
   "outputs": [],
   "source": [
    "def decifrar(ciphertext,words):\n",
    "        i = 0\n",
    "        plaintext = b''\n",
    "        for word in words:\n",
    "            plaintext += xor_str(ciphertext[i * SIZE_BLOCK:(i + 1) * SIZE_BLOCK], word)\n",
    "            i += 1\n",
    "        return plaintext"
   ]
  },
  {
   "cell_type": "markdown",
   "metadata": {},
   "source": [
    "> Apresentamos agora de seguida um exemplo prático da execução destes dois oráculos:"
   ]
  },
  {
   "cell_type": "code",
   "execution_count": 17,
   "metadata": {},
   "outputs": [
    {
     "name": "stdout",
     "output_type": "stream",
     "text": [
      "b'PlainText: Uma mensagem ultra secreta'\n",
      "b'CipherText: \\xb3.yV\\x15G\\xc4\\x02I\\xca\\x9a\\x96h\\x1c\\x94\\x94;;\\x0bU\\x01\\x81\\xcf\\xe1?\\xe9'\n",
      "b'DecipheredText: Uma mensagem ultra secreta'\n"
     ]
    }
   ],
   "source": [
    "key = derivationKey(b'password',os.urandom(12))\n",
    "words = generateRandomWords(key,2) # São geradas 2^2=4 palavras de 64-bits\n",
    "msg = b\"Uma mensagem ultra secreta\"\n",
    "\n",
    "ciphertext = cifrar(msg,words)\n",
    "decipheredtext = decifrar(ciphertext,words)\n",
    "\n",
    "print(b'PlainText: ' + msg)\n",
    "print(b'CipherText: ' + ciphertext)\n",
    "print(b'DecipheredText: ' + decipheredtext)\n"
   ]
  },
  {
   "cell_type": "markdown",
   "metadata": {},
   "source": [
    "## Alinea c"
   ]
  },
  {
   "cell_type": "markdown",
   "metadata": {},
   "source": [
    "No que à comparação de eficiência entre a cifra \"criada\" por nós e à usada no primeiro exercício deste trabalho prático, elaboramos o seguinte cenário de teste:\n",
    "\n",
    "> Para cada uma das cifrar, é testado o tempo que demora a **cifrar** e **decifrar** uma qualquer mensagem aleatória N vezes. De seguida apresentamos as respetivas funções que apresentam esse mesmo procedimento para cada uma das cifras."
   ]
  },
  {
   "cell_type": "code",
   "execution_count": 18,
   "metadata": {},
   "outputs": [],
   "source": [
    "N = 10  # Vamos ter sequencias de 1024 bytes\n",
    "\n",
    "\n",
    "def homeMadeCipher():\n",
    "    pwd = b\"password\"\n",
    "    key = derivationKey(pwd,os.urandom(12))\n",
    "    plaintext = os.urandom(2 ** N)\n",
    "    words = generateRandomWords(key,N)\n",
    "    ciphertext = cifrar(plaintext,words)\n",
    "    \n",
    "def aesgcmCipher():\n",
    "    pwd = b\"password\"\n",
    "    key = derivationKey(pwd,os.urandom(12))\n",
    "    nonce = os.urandom(12)\n",
    "    plaintext = os.urandom(2 ** N)\n",
    "    ciphertext = cifraGCM(key, plaintext, nonce)"
   ]
  },
  {
   "cell_type": "markdown",
   "metadata": {},
   "source": [
    "> Por fim, e de modo a analisar a eficiencia de cada uma das cifrar recorremos à biblioteca **timeit** do python. De seguida mostramos a função que nos permitiu obter os tempos de execução de cada uma das rotinas anteriores num número de **repetições** que é passado como parâmetro do método"
   ]
  },
  {
   "cell_type": "code",
   "execution_count": 19,
   "metadata": {},
   "outputs": [
    {
     "name": "stdout",
     "output_type": "stream",
     "text": [
      "> Iniciado processo de cifragem usando a nossa cifra...\n",
      "Done.\n",
      "> Iniciado processo de cifragem usando a cifra AESGCM...\n",
      "Done.\n",
      "\n",
      "[TIMES]\n",
      "Home made: 1.2257374999999975\n",
      "AESGCM: 0.07120000000000104\n"
     ]
    }
   ],
   "source": [
    "HM = '''\n",
    "homeMadeCipher()\n",
    "'''\n",
    "\n",
    "AESGCMM = '''\n",
    "aesgcmCipher()\n",
    "'''\n",
    "\n",
    "setup = '''\n",
    "from __main__ import homeMadeCipher\n",
    "from __main__ import aesgcmCipher\n",
    "'''\n",
    "\n",
    "def timeTester(repetitions):\n",
    "    print('> Iniciado processo de cifragem usando a nossa cifra...')\n",
    "    timeHM = timeit.timeit(stmt=HM, number=repetitions, setup=setup)\n",
    "    print(\"Done.\")\n",
    "\n",
    "    print('> Iniciado processo de cifragem usando a cifra AESGCM...')\n",
    "    timeAESGCM = timeit.timeit(stmt=AESGCMM, number=repetitions, setup=setup)\n",
    "    print(\"Done.\")\n",
    "\n",
    "    print(\"\\n[TIMES]\")\n",
    "    print(\"Home made: \" + str(timeHM))\n",
    "    print(\"AESGCM: \" + str(timeAESGCM))\n",
    "    \n",
    "    \n",
    "timeTester(1000)"
   ]
  },
  {
   "cell_type": "markdown",
   "metadata": {},
   "source": [
    "De facto, para mensagens com $2^{10}$ blocos de 64-bits, a execução das rotinas de cifragem e decifragem das mesmas 1000 vezes, mostra-nos claramente que a nossa cifra é mais ineficiente. De facto, e usando **One Time Pad** a chave gerada tem que ter o tamanho da mensagem, o que não acontece com o **AESGCM**, pelo que tal resultado já seria de esperar."
   ]
  }
 ],
 "metadata": {
  "kernelspec": {
   "display_name": "Python 3",
   "language": "python",
   "name": "python3"
  },
  "language_info": {
   "codemirror_mode": {
    "name": "ipython",
    "version": 3
   },
   "file_extension": ".py",
   "mimetype": "text/x-python",
   "name": "python",
   "nbconvert_exporter": "python",
   "pygments_lexer": "ipython3",
   "version": "3.7.7"
  }
 },
 "nbformat": 4,
 "nbformat_minor": 4
}
