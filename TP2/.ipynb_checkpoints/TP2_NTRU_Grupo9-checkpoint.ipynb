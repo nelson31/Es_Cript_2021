{
 "cells": [
  {
   "cell_type": "markdown",
   "metadata": {},
   "source": [
    "# Trabalho Prático 2 de Estruturas Criptográficas"
   ]
  },
  {
   "cell_type": "markdown",
   "metadata": {},
   "source": [
    "- **Autores:** (Grupo 9)\n",
    "     - Nelson Faria (A84727)\n",
    "     - Miguel Oliveira (A83819)"
   ]
  },
  {
   "cell_type": "markdown",
   "metadata": {},
   "source": [
    "## *Criptosistemas pós-quânticos PKE/KEM* - NTRU\n",
    "\n",
    "Implementar o esquema NTRU em classes *Python/SageMath* apresentando, para cada um, as versões **KEM-IND-CPA** e **PKE-IND-CCA**.\n",
    "\n",
    "Nota: Baseado no documento NTRU (https://ntru.org/f/ntru-20190330.pdf)"
   ]
  },
  {
   "cell_type": "markdown",
   "metadata": {},
   "source": [
    "### NTRU - KEM-IND-CPA\n",
    "\n"
   ]
  },
  {
   "cell_type": "code",
   "execution_count": null,
   "metadata": {},
   "outputs": [],
   "source": [
    "import random\n",
    "\n",
    "# Baseado no esquema da página 25 do documento https://ntru.org/f/ntru-20190330.pdf\n",
    "\n",
    "class NTRU_KEM_IND_CPA(object):\n",
    "    \n",
    "    def __init__(self, N, timeout=None):\n",
    "        \n",
    "        \n",
    "        \n",
    "          \n",
    "    # Retorna um primo aleatorio entre 2^(N-1) e 2^N - 1\n",
    "    def primoAleatorio(self, N):\n",
    "        \n",
    "        return random_prime(2**N-1,False,2**(N-1))\n",
    "    \n",
    "    \n",
    "    # Funcao usada para gerar o par de chaves pública e privada\n",
    "    def geraChaves(n=N, t=T, q=Q):\n",
    "        \n",
    "        while True:\n",
    "            F = _fromS() ; G = _fromS() ; f = 1 + 3 * _toR(F) ; g = 3 * _toR(G)\n",
    "            (flag, h) = _h(f,g)\n",
    "            if flag:\n",
    "                break\n",
    "        \n",
    "        return {'sk' : f , 'pk' : h} \n",
    "\n",
    "    \n",
    "    # Funcao que serve para encapsular a chave que for acordada a partir de uma chave publica\n",
    "    def encapsula(self, e, n):\n",
    "        \n",
    "    \n",
    "    \n",
    "    # Funcao usada para desencapsular uma chave, a partir do seu \"encapsulamento\"\n",
    "    def desencapsula(self, cs):\n",
    "        \n",
    "        \n",
    "        "
   ]
  }
 ],
 "metadata": {
  "kernelspec": {
   "display_name": "SageMath 9.2",
   "language": "sage",
   "name": "sagemath"
  },
  "language_info": {
   "codemirror_mode": {
    "name": "ipython",
    "version": 3
   },
   "file_extension": ".py",
   "mimetype": "text/x-python",
   "name": "python",
   "nbconvert_exporter": "python",
   "pygments_lexer": "ipython3",
   "version": "3.7.7"
  }
 },
 "nbformat": 4,
 "nbformat_minor": 4
}
