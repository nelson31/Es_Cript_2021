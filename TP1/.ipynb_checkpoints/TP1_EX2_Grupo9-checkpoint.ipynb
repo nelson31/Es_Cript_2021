{
 "cells": [
  {
   "cell_type": "markdown",
   "metadata": {},
   "source": [
    "# Trabalho Prático 1 de Estruturas Criptográficas"
   ]
  },
  {
   "cell_type": "markdown",
   "metadata": {},
   "source": [
    "  - **Autores:** (Grupo 9)\n",
    "      - Nelson Faria (A84727)\n",
    "      - Miguel Oliveira (A83819)"
   ]
  },
  {
   "cell_type": "markdown",
   "metadata": {},
   "source": [
    "## Exercício 2"
   ]
  },
  {
   "cell_type": "code",
   "execution_count": 139,
   "metadata": {},
   "outputs": [],
   "source": [
    "# Imports necessários à execução deste notebook\n",
    "import os, hashlib\n",
    "\n",
    "#from cryptography.hazmat.backends import default_backend\n",
    "#from cryptography.hazmat.primitives.ciphers.aead import AESGCM"
   ]
  },
  {
   "cell_type": "markdown",
   "metadata": {},
   "source": [
    "### Alínea a - Construir uma classe Python que implemente um KEM-RSA\n",
    "\n",
    "A classe deve:\n",
    "  - Inicializar cada instância recebendo  o parâmetro de segurança (tamanho em bits do módulo RSA) e gere as chaves pública e privada.\n",
    "  - Conter funções para encapsulamento e revelação da chave gerada."
   ]
  },
  {
   "cell_type": "code",
   "execution_count": 3,
   "metadata": {},
   "outputs": [],
   "source": [
    "# Classe que implementa o KEM_RSA (Key Encapsulation Mechanism) baseado no RSA\n",
    "# Baseamo-nos em: https://doc.sagemath.org/html/en/thematic_tutorials/numtheory_rsa.html\n",
    "#                 https://docs.python.org/3/library/hashlib.html\n",
    "\n",
    "class KEM_RSA(object):\n",
    "    \n",
    "    def __init__(self, N, timeout=None):\n",
    "        \n",
    "        # Obter um primo aleatorio para o parametro q do rsa no intervalo [2^(N-1);2^N-1]\n",
    "        self.q = self.primoAleatorio(N)\n",
    "        # Obter um primo aleatorio para o parametro p do rsa no intervalo [2^(N+1-1);2^(N+1)-1]\n",
    "        self.p = self.primoAleatorio(N + 1)\n",
    "        # n = p * q\n",
    "        self.n = self.p * self.q\n",
    "        # Funcao totiente de euler = (p-1)*(q-1)\n",
    "        self.phi = (self.p-1)*(self.q-1)\n",
    "        # Escolher um inteiro aleatorio e entre 1 < e < φ(n) e que e e φ(n) sejam relativamente primos\n",
    "        self.e = ZZ.random_element(self.phi)\n",
    "        while gcd(self.e, self.phi) != 1:\n",
    "            self.e = ZZ.random_element(self.phi)\n",
    "        \n",
    "        # Para calcular d, usamos o 'extended Euclidean algorithm': de−k⋅φ(n)=1 -> Assimm, so precisamos de descobrir d e -k\n",
    "        # xgcd(x, y) retorna um triplo (g, s, t) que satisfaz a identidade de Bézout: g=gcd(x,y)=sx+ty \n",
    "        self.bezout = xgcd(self.e, self.phi)\n",
    "        # d = mod(s,φ(n)), uma vez que 1 < d < φ(n)\n",
    "        self.d = Integer(mod(self.bezout[1], self.phi))\n",
    "        \n",
    "          \n",
    "    # Retorna um primo aleatorio entre 2^(N-1) e 2^N - 1\n",
    "    def primoAleatorio(self, N):\n",
    "        \n",
    "        return random_prime(2**N-1,False,2**(N-1))\n",
    "\n",
    "    \n",
    "    # Funcao que serve para encapsular a chave que for acordada a partir de uma chave publica\n",
    "    def encapsula(self, e, n):\n",
    "        \n",
    "        # Escolher um inteiro aleatorio r entre 0 < r < n \n",
    "        r = ZZ.random_element(n)\n",
    "        \n",
    "        # Criptograma com este inteiro usado para o encapsulamento da chave (c ← r^e mod n)\n",
    "        c = Integer(power_mod(r, e, n))\n",
    "        \n",
    "        # Gerar o salt para derivar a chave\n",
    "        salt = os.urandom(16)\n",
    "        # Geracao da chave simetrica a partir do r (W ← KDF(r))\n",
    "        w = hashlib.pbkdf2_hmac('sha256', str(r).encode(), salt, 100000)\n",
    "        \n",
    "        return (w, salt + str(c).encode())\n",
    "    \n",
    "    \n",
    "    # Funcao usada para desencapsular uma chave, a partir do seu \"encapsulamento\"\n",
    "    def desencapsula(self, cs):\n",
    "        \n",
    "        # Buscar os 16 primeiros bytes para obter o salt e o restante é o \"encapsulamento\" da chave\n",
    "        salt = cs[:16]\n",
    "        c = int(cs[16:].decode())\n",
    "        \n",
    "        # Obter o r (r ← c^d mod n) com o algoritmo power_mod\n",
    "        r = Integer(power_mod(c, self.d, self.n))\n",
    "        \n",
    "        # Geracao da chave simetrica a partir do r (W ← KDF(r))\n",
    "        w = hashlib.pbkdf2_hmac('sha256', str(r).encode(), salt, 100000)\n",
    "        \n",
    "        return w\n",
    "        "
   ]
  },
  {
   "cell_type": "markdown",
   "metadata": {},
   "source": [
    "**Testagem da classe definida acima:**"
   ]
  },
  {
   "cell_type": "code",
   "execution_count": 4,
   "metadata": {},
   "outputs": [
    {
     "name": "stdout",
     "output_type": "stream",
     "text": [
      "Chave devolvida pelo encapsulamento: \n",
      "b'\\xbe\\x8fp\\xe3\\xe2I\\xa3\\xca\\x8c\\xf1\\xa5\\xf0\\xb0R!\\x1f\\xaa\\xe7\\x1d\\xf0e\\xf0\\xaf,\\x17\\x19D\\xbf\\x04\\xf5rT'\n",
      "\n",
      "'Encapsulamento' da chave: \n",
      "b'\\x19\\x10\\xdb\\x0c\\x9e;\\x02N\\xec\\xfd2\\xdd\\xae\\xed\\x7f\\xe221022107257581224947288557096205648019279201850933679188454880369826699628577151787516501467549899306133629173196961097882905579825604186850976899614025863625491400124231164740174504940636425578697242456494002491744230151925328109926000626912358190313101086624054993376199724857116787653044832020700941989990887653238377296947988657244459896404112447253113695672447611168543089655846277841547420038055486700417825675514566082253861731660306597465307306247622189145196853316898875416448256734076756221004434612584511398359623463207113669849666232393318351535547639266799564539500712085710154048897316254638335427611821'\n",
      "\n",
      "Chave devolvida pelo desencapsulamento: \n",
      "b'\\xbe\\x8fp\\xe3\\xe2I\\xa3\\xca\\x8c\\xf1\\xa5\\xf0\\xb0R!\\x1f\\xaa\\xe7\\x1d\\xf0e\\xf0\\xaf,\\x17\\x19D\\xbf\\x04\\xf5rT'\n"
     ]
    }
   ],
   "source": [
    "# Parametro de seguranca\n",
    "N = 1024\n",
    "\n",
    "# Chave publica: (n,e)\n",
    "# Chave privada: (p,q,d)\n",
    "# Inicializacao da classe responsavel por implementar o KEM-RSA\n",
    "kemrsa = KEM_RSA(N)\n",
    "\n",
    "# Verificar que ed == 1 (mod φ(n))\n",
    "#print(mod(kemrsa.e * kemrsa.d, kemrsa.phi))\n",
    "\n",
    "# Procede-se ao encapsulamento\n",
    "(w,c) = kemrsa.encapsula(kemrsa.e, kemrsa.n)\n",
    "\n",
    "print(\"Chave devolvida pelo encapsulamento: \")\n",
    "print(w)\n",
    "print(\"\\n'Encapsulamento' da chave: \")\n",
    "print(c)\n",
    "\n",
    "# Procede-se ao desencapsulamento\n",
    "w1 = kemrsa.desencapsula(c)\n",
    "print(\"\\nChave devolvida pelo desencapsulamento: \")\n",
    "print(w1)"
   ]
  },
  {
   "cell_type": "markdown",
   "metadata": {},
   "source": [
    "### Alínea b - Construir,  a partir do KEM definido anteriormente e usando a transformação de Fujisaki-Okamoto, um PKE que seja IND-CCA seguro."
   ]
  },
  {
   "cell_type": "code",
   "execution_count": 5,
   "metadata": {},
   "outputs": [],
   "source": [
    "# Classe que implementa um PKE_IND_CCA (Public Key Encryption) a partir do KEM_RSA e da transformação de Fujisaki-Okamoto\n",
    "# Baseamo-nos em: https://doc.sagemath.org/html/en/thematic_tutorials/numtheory_rsa.html\n",
    "#                 https://docs.python.org/3/library/hashlib.html\n",
    "\n",
    "class PKE_IND_CCA(object):\n",
    "    \n",
    "    def __init__(self, N, timeout=None):\n",
    "        \n",
    "        self.kem = KEM_RSA(N)\n",
    "    \n",
    "    \n",
    "    # Funcao usada para cifrar que recebe a mensagem e uma chave publica (e,n)\n",
    "    def cifra(self, m, e, n):\n",
    "        \n",
    "        # Obter a chave e o seu 'encapsulamento'\n",
    "        (w,c) = self.kem.encapsula(e,n)\n",
    "        # Cifrar a mesagem com a chave simetrica\n",
    "        iv = os.urandom(12)\n",
    "        encryptor = Cipher(algorithms.AES(w),\n",
    "                           modes.GCM(iv),\n",
    "                           backend=default_backend()).encryptor()\n",
    "        ciphertext = encryptor.update(m) + encryptor.finalize()\n",
    "        return (c,ciphertext,encryptor.tag,iv)\n",
    "    \n",
    "    \n",
    "    # Funcao usada para decifrar que recebe o criptograma, o 'encapsulamento' da chave, a tag e o vetor inicializacao\n",
    "    def decifra(self, ciphertext, c, tag, iv):\n",
    "        \n",
    "        # Fazer o desencapsulamento da chave\n",
    "        w = self.kem.desencapsula(c)\n",
    "        # decifrar o criptograma a partir da chave obtida\n",
    "        decryptor = Cipher(algorithms.AES(w),\n",
    "                           modes.GCM(iv,tag),\n",
    "                           backend=default_backend()).decryptor()\n",
    "        return decryptor.update(ciphertext) + decryptor.finalize()\n",
    "        \n",
    "    "
   ]
  },
  {
   "cell_type": "code",
   "execution_count": 2,
   "metadata": {},
   "outputs": [
    {
     "ename": "NameError",
     "evalue": "name 'PKE_IND_CCA' is not defined",
     "output_type": "error",
     "traceback": [
      "\u001b[0;31m---------------------------------------------------------------------------\u001b[0m",
      "\u001b[0;31mNameError\u001b[0m                                 Traceback (most recent call last)",
      "\u001b[0;32m<ipython-input-2-e940de5e9db9>\u001b[0m in \u001b[0;36m<module>\u001b[0;34m\u001b[0m\n\u001b[0;32m----> 1\u001b[0;31m \u001b[0mpke\u001b[0m \u001b[0;34m=\u001b[0m \u001b[0mPKE_IND_CCA\u001b[0m\u001b[0;34m(\u001b[0m\u001b[0mInteger\u001b[0m\u001b[0;34m(\u001b[0m\u001b[0;36m1024\u001b[0m\u001b[0;34m)\u001b[0m\u001b[0;34m)\u001b[0m\u001b[0;34m\u001b[0m\u001b[0;34m\u001b[0m\u001b[0m\n\u001b[0m\u001b[1;32m      2\u001b[0m \u001b[0;34m\u001b[0m\u001b[0m\n\u001b[1;32m      3\u001b[0m \u001b[0;34m(\u001b[0m\u001b[0mc\u001b[0m\u001b[0;34m,\u001b[0m\u001b[0mciphertext\u001b[0m\u001b[0;34m,\u001b[0m\u001b[0mtag\u001b[0m\u001b[0;34m,\u001b[0m\u001b[0miv\u001b[0m\u001b[0;34m)\u001b[0m \u001b[0;34m=\u001b[0m \u001b[0mpke\u001b[0m\u001b[0;34m.\u001b[0m\u001b[0mcifra\u001b[0m\u001b[0;34m(\u001b[0m\u001b[0;34m\"Nelson Faria\"\u001b[0m\u001b[0;34m,\u001b[0m \u001b[0mpke\u001b[0m\u001b[0;34m.\u001b[0m\u001b[0mkem\u001b[0m\u001b[0;34m.\u001b[0m\u001b[0me\u001b[0m\u001b[0;34m,\u001b[0m \u001b[0mpke\u001b[0m\u001b[0;34m.\u001b[0m\u001b[0mkem\u001b[0m\u001b[0;34m.\u001b[0m\u001b[0mn\u001b[0m\u001b[0;34m)\u001b[0m\u001b[0;34m\u001b[0m\u001b[0;34m\u001b[0m\u001b[0m\n\u001b[1;32m      4\u001b[0m \u001b[0;34m\u001b[0m\u001b[0m\n\u001b[1;32m      5\u001b[0m \u001b[0mprint\u001b[0m\u001b[0;34m(\u001b[0m\u001b[0;34m\"Texto cifrado:\"\u001b[0m\u001b[0;34m)\u001b[0m\u001b[0;34m\u001b[0m\u001b[0;34m\u001b[0m\u001b[0m\n",
      "\u001b[0;31mNameError\u001b[0m: name 'PKE_IND_CCA' is not defined"
     ]
    }
   ],
   "source": [
    "pke = PKE_IND_CCA(1024)\n",
    "\n",
    "(c,ciphertext,tag,iv) = pke.cifra(\"Nelson Faria\", pke.kem.e, pke.kem.n)\n",
    "\n",
    "print(\"Texto cifrado:\")\n",
    "print(ciphertext)\n",
    "\n",
    "print(\"\\nTexto decifrado:\")\n",
    "print(pke.decifra(ciphertext, c, tag, iv))"
   ]
  },
  {
   "cell_type": "markdown",
   "metadata": {},
   "source": [
    "### Alínea c - Construir uma classe Python que implemente o DSA (*Digital Signature Algorithm*). \n",
    "\n",
    "A implementação deve:\n",
    "  - na inicialização,  receber como parâmetros o tamanho  dos primos $p$ e $q$; \n",
    "  - deve conter funções para assinar digitalmente e verificar a assinatura."
   ]
  },
  {
   "cell_type": "code",
   "execution_count": 143,
   "metadata": {},
   "outputs": [],
   "source": [
    "# Classe que implementa o algoritmo de assinatura digital(DSA) \n",
    "# Baseamo-nos em: https://en.wikipedia.org/wiki/Digital_Signature_Algorithm\n",
    "#                 https://doc.sagemath.org/html/en/developer/coding_in_python.html\n",
    "\n",
    "class DSA(object):\n",
    "    \n",
    "    def __init__(self, L, N, timeout=None):\n",
    "        \n",
    "        # Escolha de um numero primo q grande\n",
    "        self.q = Integer(self.primoAleatorio(N))\n",
    "        # Escolha de um numero primo p grande, em que p-1 seja multiplo de q\n",
    "        self.p = 1\n",
    "        while (not is_prime(self.p)):\n",
    "            # Como 2^(L-1) < p < 2^L e 2^(N-1) < q < 2^N, seguimos a logica seguinte: 2^(L-N) * 2^N = 2^(L-N+N) = 2^L\n",
    "            # Além disso, Se n for aleatorio, 2*n + 1 tambem é\n",
    "            # p := (2^(L-N-1) + 2*random(1,2^(L-N-2))) * q + 1\n",
    "            self.p = (2^(L-N-1) + 2*ZZ.random_element(1, 2^(L-N-2)))*self.q + 1  \n",
    "        # calcular o gerador g tal que tal que g := h^(p-1)/q mod p, com , com g != 1\n",
    "        self.g = 1\n",
    "        while self.g == 1:\n",
    "            # Escolher um inteiro aleatorio h entre 1 < h < p-1 \n",
    "            h = ZZ.random_element(2, self.p-1)\n",
    "            self.g = power_mod(h, (self.p-1) // self.q, self.p)\n",
    "        # Gerar a chave privada x aleatoriamente entre 1 e q-1\n",
    "        self.x = ZZ.random_element(1, self.q)\n",
    "        # Gerar a chave pública y := g^x mod p\n",
    "        self.y = Integer(power_mod(self.g, self.x, self.p))\n",
    "    \n",
    "    \n",
    "    # Retorna um primo aleatorio entre 2^(N-1) e 2^N\n",
    "    def primoAleatorio(self, N):\n",
    "        \n",
    "        return random_prime(2**N,False,2**(N-1))\n",
    "    \n",
    "    \n",
    "    # Funcao usada para assinar uma determinada mensagem\n",
    "    def assina(self, message):\n",
    "        \n",
    "        # Criacao do par da assinatura DSA (r,s)\n",
    "        r = 0   # r != 0\n",
    "        s = 0   # s != 0\n",
    "        while r == 0 or s == 0:\n",
    "            # Gerar um inteiro aleatorio k entre 1 e q-1\n",
    "            k = ZZ.random_element(1,self.q)\n",
    "            # r := (g^k mod p) mod q, com r != 0\n",
    "            #r = Integer(mod(power_mod(self.g, k, self.p), self.q))\n",
    "            r = ( ( power_mod(self.g, k, self.p) ) % self.p ) % self.q\n",
    "            # s := (k^-1 (H(m) + xr)) mod q, com s != 0\n",
    "            #s = Integer(mod(inverse_mod(k, self.q) * mod((hash(message) + self.x*r), self.q), self.q))\n",
    "            s = ( ( k^-1 ) * ( hash ( message ) + self.x * r ) ) % self.q\n",
    "    \n",
    "        # Assinatura = (r,s)\n",
    "        return (r,s)\n",
    "    \n",
    "    \n",
    "    # Funcao que verifica uma determinada assinatura a partir da mensagem original e da chave publica \n",
    "    def verifica(self, signature, message, y):\n",
    "        \n",
    "        # Retirar os valores de r e s\n",
    "        r = signature[0]\n",
    "        s = signature[1]\n",
    "        # Verificar que os valores de r e s estao entre 0 e q\n",
    "        if r > 0 and r < self.q and s > 0 and s < self.q:\n",
    "            \n",
    "            # Calcular w := s^-1 mod q\n",
    "            #w = Integer(inverse_mod(s, self.q))\n",
    "            w = (s^-1) % self.q\n",
    "            # Calcular u1 := H(m).w mod q\n",
    "            #u1 = Integer(mod(hash(message) * w, self.q))\n",
    "            u1 = (hash (message) * w) % self.q\n",
    "            # Calcular u2 := r.w mod q\n",
    "            #u2 = Integer(mod(r * w, self.q))\n",
    "            u2 = (r * w) % self.q\n",
    "            # Calcular v := (g^u1 * y^u2 mod p) mod q\n",
    "            #v = Integer(mod(mod(power_mod(self.g, u1, self.p) * power_mod(y, u2, self.p), self.p), self.q))\n",
    "            v = ( ( (power_mod(self.g, u1, self.p)) * power_mod(y, u2, self.p) ) % self.p ) % self.q\n",
    "            print(\"V = \" + str(v))\n",
    "        \n",
    "        else:\n",
    "            return False\n",
    "        \n",
    "        return v == r\n",
    "        "
   ]
  },
  {
   "cell_type": "markdown",
   "metadata": {},
   "source": [
    "**Testagem da classe definida acima:**"
   ]
  },
  {
   "cell_type": "code",
   "execution_count": 144,
   "metadata": {},
   "outputs": [
    {
     "name": "stdout",
     "output_type": "stream",
     "text": [
      "P = 18904007906427751475771653382390671427456117536678684590131700907418314493257473747706880882177604918942673738707316529737573457565615983882348854307588140001046569854369380792725630668159194312843710109664890930892325992712864072198845739023981659489744594404818048245007272750771678942519570798218796522219487665668405825235231662572143646947620114954115798692554581921715468476041656191620523471127702805088471092173976629930019658523204123109222384747313922865450858955589756447819635167976907346614005786034951941523201854551101662002789544939905372346939949235536574448459006207124532612881382304571969817671801\n",
      "Q = 114046340095763589444095719056832519406911712225671706838080803066917021927869\n",
      "\n",
      "Insira a mensagem a assinar:Estruturas Criptograficas\n",
      "R = 40781290528535472415767565551845897138448518992722504682746234657617618043237\n",
      "S = 89861858744162103852627834409273659704993983796280598734186431625808330775679\n",
      "V = 40781290528535472415767565551845897138448518992722504682746234657617618043237\n",
      "A assinatura é válida!!!!\n"
     ]
    }
   ],
   "source": [
    "# Tamanhos para os parametros p e q\n",
    "L = 2048\n",
    "N = 256\n",
    "\n",
    "dsa = DSA(L,N)\n",
    "\n",
    "print(\"P = \" + str(dsa.p))\n",
    "print(\"Q = \" + str(dsa.q))\n",
    "\n",
    "# Teste de uma assinatura e verificacao\n",
    "message = input(\"\\nInsira a mensagem a assinar:\")\n",
    "assinatura = dsa.assina(message.encode(\"utf-8\"))\n",
    "print(\"R = \" + str(assinatura[0]))\n",
    "print(\"S = \" + str(assinatura[1]))\n",
    "if dsa.verifica(assinatura, message.encode(\"utf-8\"), dsa.y):\n",
    "    print(\"A assinatura é válida!!!!\")\n",
    "else:\n",
    "    print(\"A assinatura é inválida!!!!\")\n"
   ]
  },
  {
   "cell_type": "markdown",
   "metadata": {},
   "source": [
    "**Geração do parâmetro $p$**\n",
    "\n",
    "Se dissermos que $q$ é então um número primo aleatório, então p = $2*q + 1$ pode ser testado para ver se é primo, sendo que tem ainda garantida a característica de $p-1$ ser múltiplo de $q$.\n",
    "\n",
    "Dentro disto, aquilo que fizemos foi precisamente isto, mas de forma a que este valor esteja no intervalo $[2^{L-1},2^{L}]$ e, além disso seja primo e aleatório!!!\n",
    "\n",
    "Por isso, o que se pensou fazer para $p$ foi múltiplicar o 2 por um número aleatório entre $[1,2^{L-N-2}]$ e somar-lhe o limite inferior para o parâmetro $p$, pelo que depois foi só seguir a seguinte regra da matemática:\n",
    "\n",
    "$2^X + 2*(2^Y) <=> 2^{X+Y+1}$\n",
    "\n",
    "Se X = 47 e Y = 16, então $2^{47} + 2*(2^{16}) = 2^{47+16+1} = 2^{64}$\n",
    "\n",
    "Com isto conseguimos arranjar a seguinte solução mais ou menos eficiente: $p := (2^{L-N-1} + 2*random(1,2^{L-N-2})) * q + 1$\n",
    "\n"
   ]
  },
  {
   "cell_type": "code",
   "execution_count": 67,
   "metadata": {},
   "outputs": [
    {
     "data": {
      "text/plain": [
       "211106232532992"
      ]
     },
     "execution_count": 67,
     "metadata": {},
     "output_type": "execute_result"
    }
   ],
   "source": [
    "2^47 + 2*(2^45)"
   ]
  },
  {
   "cell_type": "code",
   "execution_count": 71,
   "metadata": {},
   "outputs": [
    {
     "data": {
      "text/plain": [
       "2048"
      ]
     },
     "execution_count": 71,
     "metadata": {},
     "output_type": "execute_result"
    }
   ],
   "source": [
    "22407789862361023859096284877495259451480911399786420417538618489888479295705654809007233475142541012408059237288250887486895837024575233491109457866966165229736273511052471859485475056031065307370860430671226443174352174126026687920794417250018346550506262344964006938657377532082034248957867827939217463326134568140070988592400143387310477786348610266226559120676023300928779493342560813843816870537967633975584895434585042598221250477067553462919811727546073458651803543618760419893957487474942191685467265688898373236269088341242290549723432854036771504474017083557902781753459422705237714282202067971938020296949.nbits()"
   ]
  },
  {
   "cell_type": "markdown",
   "metadata": {},
   "source": [
    "### Alínea d -  Construir uma classe Python que implemente o ECDSA (*Elliptic Curve Digital Signature Algorithm*) usando uma das curvas elípticas primas definidas no FIPS186-4  (escolhida  na iniciação da classe).\n",
    "\n",
    "Documento em que nos baseamos: https://nvlpubs.nist.gov/nistpubs/FIPS/NIST.FIPS.186-4.pdf\n",
    "\n",
    "Mais referencias: https://pt.wikipedia.org/wiki/ECDSA\n",
    "\n",
    "De acordo com o ficheiro mencionado acima da *FEDERAL INFORMATION PROCESSING STANDARDS PUBLICATION* (**FIPS PUB 186-4**) sobre standards de assinaturas digitais, existem várias opções para a escolha da curva elítica prima. A curva elítica que escolhemos foi a **P-256**, sendo que esta possuí os seus próprios valores standard para os parâmetros da curva descritos nesse mesmo documento. Estes parâmetros assumem um papel fundamental e representam, de forma sucinta, a curva, o ponto base da curva $G$ e ainda $n$, que é a ordem inteira de $G$ (notar que $n*G = O$, sendo $O$ o elemento identidade). Assim, procedemos aos vários passos do DSA, mas em modo de curvas elíticas.\n",
    "\n",
    "**Criação do par de chaves pública e privada(feito na inicialização da classe)** (baseado na pág 62)\n",
    "\n",
    "A chave pública $Q$, a chave privada $d$  e os parâmetros do domínio da curva elítica estão matemáticamente relacionados uns com os outros. Deste modo, para a criação deste par de chaves é necessário:\n",
    "\n",
    "  - Chave Privada $d$: é um inteiro gerado de forma aleatória no intervalo de [1,n-1]\n",
    "  - Chave Pública $Q$: dado um ponto gerador (ou ponto base) $G$ da curva elítica, $Q$ é um ponto na curva elítica que obedece à seguinte relação: $Q := d * G$\n",
    "  \n",
    "**Assinatura digital da mensagem(função *assina()*)** (baseado na página da wikipedia)\n",
    "\n",
    "De seguida serão descritos todos os passos que foram efetuados para assinar $(r,s)$ um dada mensagem recebida como input.\n",
    "\n",
    "   - Calcular $e = HASH(m)$ (no nosso caso a função de hash que vamos usar é o SHA-256)\n",
    "   - Considerar $z$ como sendo os $L_{n}$ bits mais à esquerda de $e$, em que $L_{n}$ é o comprimento de bit da ordem do grupo $n$. (Nota só para o facto de que $z$ pode ser maior do que $n$ mas não mais longo. Além disso, referir o facto de como o hash que usamos é o SHA-256 e a curva possuí um $n$ de 256 bits, então no nosso caso $z==e$)\n",
    "   - Geração de um número inteiro aleatório $k$ entre o intervalo [1,n-1];\n",
    "   - Calcular um ponto na curva tal que: $(x1, y1) = k * G$, em que $G$ continua a ser um ponto gerador da curva que foi definido inicialmente;\n",
    "   - Calcular então o valor de $r$ tal que $r = x1$ $mod$ $n$. Se $r = 0$, então voltar a gerar um $k$ e consequentemente o ponto $(x1,y1)$;\n",
    "   - Por fim, calcular o valor de $s$ que é igual a $s = k^{-1} * (z + r*d)$ $mod$ $n$. Se $s = 0$, então voltar a gerar um $k$ e consequentemente o ponto $(x1,y1)$;\n",
    "   - A assinatura é o par $(r,s)$. $(E (r,-s$ $mod$ $n)$ também é uma assinatura válida.)\n",
    "\n",
    "Um dos pontos importantes é a geração do número aleatório $k$. Se duas mensagens diferentes utilizarem na geração um $k$ igual, podem ocorrer ataques que podem resultar na extração da chave de assinatura. Assim, para garantir que $k$ é único para cada mensagem, pode-se ignorar completamente a geração de números aleatórios e gerar assinaturas determinísticas derivando $k$ tanto da mensagem quanto da chave privada.\n",
    "\n",
    "**Verificação da assinatura digital(função *verifica()*)** (baseado na página da wikipedia)\n",
    "\n",
    "Antes de mais nada, para efetuar a verificação da assinatura de uma dada mensagem, deve-se ter uma cópia da chave pública de ponto da curva $Q$. Nós podemos verificar que $Q$ é um ponto válido da curva da seguinte forma:\n",
    "\n",
    "   - Verificar que $Q$ não é igual ao elemento identidade $O$, e as suas coordenadas são, de outra forma válida;\n",
    "   - Verificar que $Q$ está sobre a curva;\n",
    "   - Verificar que $n * Q = O$.\n",
    "\n",
    "Depois de verificarmos isto, podemos seguir para os passos seguintes de verificação da assinatura:\n",
    "\n",
    "   - Verificar que $r$ e $s$ são números inteiros em $[1,n-1]$. Se não, a assinatura é inválida;\n",
    "   - Calcular $e = HASH(m)$ (este hash que é feito aqui deve ser o mesmo que foi usado na assinatura da mensagem);\n",
    "   - Considerar $z$ como os $L_{n}$ bits mais à esquerda de $e$;\n",
    "   - Calcular $w=s^{-1} $$mod$ $n$;\n",
    "   - Calcular $u_{1}=zw$ $mod$ $n$;\n",
    "   - Calcular $u_{2}=rw$ $mod$ $n$;\n",
    "   - Calcular o ponto da curva $(x_{1},y_{1})=u_{1} * G+u_{2} * Q$. Se $(x_{1},y_{1})=O$, então a assinatura é inválida.\n",
    "   - A assinatura é válida se $r\\equiv x_{1}$ $mod$ $n$, e inválida caso contrário."
   ]
  },
  {
   "cell_type": "code",
   "execution_count": 127,
   "metadata": {},
   "outputs": [],
   "source": [
    "# Classe que implementa o Algoritmo de Assinatura Digital de Curvas Elípticas(ECDSA)\n",
    "# Baseado no documento(durante o codigo, tem referencias a paginas deste documento): \n",
    "# https://nvlpubs.nist.gov/nistpubs/FIPS/NIST.FIPS.186-4.pdf\n",
    "# https://doc.sagemath.org/html/en/reference/finite_rings/sage/rings/finite_rings/finite_field_constructor.html\n",
    "# https://doc.sagemath.org/html/en/reference/arithmetic_curves/sage/schemes/elliptic_curves/constructor.html\n",
    "\n",
    "class ECDSA(object):\n",
    "    \n",
    "    def __init__(self, timeout=None):\n",
    "        \n",
    "        # Parâmetros da Curva Elíptica P-256 (ver pag. 91)\n",
    "        # p e n são números primos de 256 bits\n",
    "        self.p = 115792089210356248762697446949407573530086143415290314195533631308867097853951\n",
    "        self.n = 115792089210356248762697446949407573529996955224135760342422259061068512044369\n",
    "        # A seleção a ≡ -3 para o coeficiente de x foi feita por razões de eficiência(ver pag.89); consulte IEEE Std 1363-2000\n",
    "        self.a = -3\n",
    "        # Este parametro esta em hexadecimal\n",
    "        self.b = 0x5ac635d8aa3a93e7b3ebbd55769886bc651d06b0cc53b0f63bce3c3e27d2604b\n",
    "        # Este parametro esta em hexadecimal\n",
    "        self.Gx = 0x6b17d1f2e12c4247f8bce6e563a440f277037d812deb33a0f4a13945d898c296\n",
    "        # Este parametro esta em hexadecimal\n",
    "        self.Gy = 0x4fe342e2fe1a7f9b8ee7eb4a7c0f9e162bce33576b315ececbb6406837bf51f5\n",
    "        \n",
    "        # Criacao do corpo finito em torno do numero primo p\n",
    "        Fp = GF(self.p)\n",
    "        # Equacao de Weierstrass:  y^2 + a_1xy + a3y = x^3 + a2^2 + a4x + a6\n",
    "        # Curva Elíptica E sobre o corpo finito Fp, onde a1=a2=a3=0, a4 = a mod p e a6 = b mod p\n",
    "        self.E = EllipticCurve(Fp, [self.a, int(self.b)])\n",
    "        # Ponto Gerador G pertencente à Curva Elíptica E\n",
    "        self.G = self.E((self.Gx,self.Gy))\n",
    "        \n",
    "        # Criacao do par de chaves publica e privada (Q,d)\n",
    "        # Chave privada -> inteiro gerado de forma aleatória no intervalo de [1,n-1]\n",
    "        self.d = ZZ.random_element(1, self.n)\n",
    "        # Chave publica -> Q := d * G\n",
    "        self.Q = self.d * self.G\n",
    "        \n",
    "    \n",
    "    # Funcao usada para assinar uma determinada mensagem\n",
    "    def assina(self, message):\n",
    "        \n",
    "        # Calcular e=HASH(m) \n",
    "        e = Integer('0x' + hashlib.sha256(message).hexdigest())\n",
    "        # Criacao do corpo finito em torno do numero primo n\n",
    "        Fn = GF(self.n)\n",
    "        # r e s nao podem ser 0, sendo unicamento inicializado a 0 para controlar o ciclo\n",
    "        r = 0\n",
    "        s = 0\n",
    "        while r==0 or s==0:\n",
    "            \n",
    "            # Geracao de um numero aleatorio k no intervalo de [1,n-1]\n",
    "            k = ZZ.random_element(1, self.n)\n",
    "            # (x1,y1)=k∗G\n",
    "            (x1,y1) = (k * self.G).xy()\n",
    "            # Calcular r tal que r=x1  mod n, em que r!=0 (Decimos aplicar um corpo finito em torno de n, que vai ter ao mesmo)\n",
    "            r = Integer(Fn(x1))\n",
    "            # Calcular s tal que s=k−1∗(z+r∗d) mod n, em que s!=0. No nosso caso, z==e\n",
    "            s = Fn(k^-1 * (e + r*self.d))\n",
    "        \n",
    "        # Assinatura = (r,s)\n",
    "        return (r,s)\n",
    "    \n",
    "    \n",
    "    # Funcao que verifica uma determinada assinatura a partir da mensagem original e da chave publica\n",
    "    def verifica(self, signature, message, Q):\n",
    "        \n",
    "        # Antes de verificar a assinatura, verificar o Q recebido como parâmetro (sabendo que n*G = O)\n",
    "        if Q == self.n*self.G or self.n*Q != self.n*self.G:\n",
    "            return False\n",
    "        # Verificar de Q pertence à curva\n",
    "        try:\n",
    "            self.E(Q)\n",
    "        except TypeError as e:\n",
    "            return False\n",
    "        # Retirar os valores de r e s\n",
    "        r = signature[0]\n",
    "        s = signature[1]\n",
    "        # Verificar que r e s são números inteiros em [1,n−1]. Se não, a assinatura é inválida\n",
    "        if r>=1 and r<=self.n-1 and s>=1 and s<=self.n-1:\n",
    "            \n",
    "            # Calcular e=HASH(m), que deve ser feito da mesma forma que foi feito na assinatura\n",
    "            e = Integer('0x' + hashlib.sha256(message).hexdigest())\n",
    "            # Criacao do corpo finito em torno do numero primo n\n",
    "            Fn = GF(self.n)\n",
    "            # Calcular w=s−1 mod n\n",
    "            w = Fn(s^-1)\n",
    "            # Calcular u1=zw mod n, no nosso caso, z==e\n",
    "            u1 = Integer(Fn(e*w))\n",
    "            # Calcular u2=rw mod n\n",
    "            u2 = Integer(Fn(r*w))\n",
    "            # Calcular (x1,y1)=u1∗G+u2∗Q\n",
    "            XY = u1*self.G + u2*self.Q\n",
    "            (x1,y2) = XY.xy()\n",
    "            if XY == self.n*self.G:\n",
    "                return False\n",
    "            \n",
    "        else:\n",
    "            return False\n",
    "        \n",
    "        print(\"Fn(x1): \" + str(Fn(x1)))\n",
    "        \n",
    "        return r == Fn(x1)\n",
    "        "
   ]
  },
  {
   "cell_type": "markdown",
   "metadata": {},
   "source": [
    "**Testagem da classe definida acima:**"
   ]
  },
  {
   "cell_type": "code",
   "execution_count": 131,
   "metadata": {},
   "outputs": [
    {
     "name": "stdout",
     "output_type": "stream",
     "text": [
      "Chave Pública Q = (4555641955139341475224523377655108026266087735745538625900877473359331045111 : 97764967808593152646036391463553295515531051334455677068878707889858309280062 : 1)\n",
      "Chave Privada d = 69909407431056506683797688664067500401995221543305219509887172215626370147149\n",
      "\n",
      "Insira a mensagem a assinar:Estruturas Criptograficas\n",
      "R = 9336060639534185937920604680493772355948103276036181111537289771195944370863\n",
      "S = 98579512969146056306827609269356886950084123229977461183797450995409441904599\n",
      "Fn(x1): 9336060639534185937920604680493772355948103276036181111537289771195944370863\n",
      "A assinatura é válida!!!!\n"
     ]
    }
   ],
   "source": [
    "# Iniciar a classe\n",
    "ecdsa = ECDSA()\n",
    "\n",
    "print(\"Chave Pública Q = \" + str(ecdsa.Q))\n",
    "print(\"Chave Privada d = \" + str(ecdsa.d))\n",
    "\n",
    "# Teste de uma assinatura e verificacao\n",
    "message = input(\"\\nInsira a mensagem a assinar:\")\n",
    "assinatura = ecdsa.assina(message.encode(\"utf-8\"))\n",
    "print(\"R = \" + str(assinatura[0]))\n",
    "print(\"S = \" + str(assinatura[1]))\n",
    "if ecdsa.verifica(assinatura, message.encode(\"utf-8\"), ecdsa.Q):\n",
    "    print(\"A assinatura é válida!!!!\")\n",
    "else:\n",
    "    print(\"A assinatura é inválida!!!!\")"
   ]
  },
  {
   "cell_type": "markdown",
   "metadata": {},
   "source": [
    "**O que esta a baixo foi so usado para testar enquanto se fazia o codigo**"
   ]
  },
  {
   "cell_type": "code",
   "execution_count": 141,
   "metadata": {},
   "outputs": [
    {
     "name": "stdout",
     "output_type": "stream",
     "text": [
      "(48439561293906451759052585252797914202762949526041747995844080717082404635286 : 36134250956749795798585127919587881956611106672985015071877198253568414405109 : 1)\n",
      "64764433736378911609383027468775850004321411368511634099974414406913602036404\n",
      "(96329905282923523670773425767487256645822277174055698677334922194922888387799 : 35184277405363381935918298199339261970409857779165953306001129918777389768479 : 1)\n",
      "(73015315955985244871978173278400868816438462238849626218346606711791713151601 : 67412148190889784829947528640363189717997552952180532878252794968746303454157 : 1)\n",
      "(73015315955985244871978173278400868816438462238849626218346606711791713151601, 67412148190889784829947528640363189717997552952180532878252794968746303454157)\n",
      "(0 : 1 : 0)\n",
      "(0 : 1 : 0)\n",
      "True\n",
      "Ola\n"
     ]
    }
   ],
   "source": [
    "p = 115792089210356248762697446949407573530086143415290314195533631308867097853951\n",
    "n = 115792089210356248762697446949407573529996955224135760342422259061068512044369\n",
    "# A seleção a ≡ -3 para o coeficiente de x foi feita por razões de eficiência(ver pag.89); consulte IEEE Std 1363-2000\n",
    "a = -3\n",
    "# Este parametro esta em hexadecimal\n",
    "b = 0x5ac635d8aa3a93e7b3ebbd55769886bc651d06b0cc53b0f63bce3c3e27d2604b\n",
    "# Este parametro esta em hexadecimal\n",
    "Gx = 0x6b17d1f2e12c4247f8bce6e563a440f277037d812deb33a0f4a13945d898c296\n",
    "Gy = 0x4fe342e2fe1a7f9b8ee7eb4a7c0f9e162bce33576b315ececbb6406837bf51f5\n",
    "\n",
    "# Criacao do corpo finito em torno do numero primo p\n",
    "Fp = GF(p)\n",
    "# Equacao de Weierstrass:  y^2 + a_1xy + a3y = x^3 + a2^2 + a4x + a6\n",
    "# Curva Elíptica E sobre o corpo finito Fp, onde a1=a2=a3=0, a4 = a mod p e a6 = b mod p\n",
    "E = EllipticCurve(Fp, [a, int(b)])\n",
    "# Ponto Gerador G pertencente à Curva Elíptica E\n",
    "G = E(Gx,Gy)\n",
    "\n",
    "print(G)\n",
    "\n",
    "d = ZZ.random_element(1, n)\n",
    "# Chave publica -> Q := d * G\n",
    "Q = d * G\n",
    "\n",
    "print(d)\n",
    "print(Q)\n",
    "\n",
    "Fn = GF(n)\n",
    "k = ZZ.random_element(1, n)\n",
    "e = Integer('0x' + hashlib.sha256(b\"Nelson\").hexdigest())\n",
    "(x1,y1,l) = k * G\n",
    "r = Fn(x1)\n",
    "s = Fn(k)^(-1) * (e + (r*d))\n",
    "w = Fn(s^-1)\n",
    "# Calcular u1=zw mod n, no nosso caso, z==e\n",
    "u1 = Integer(Fn(e*w))\n",
    "# Calcular u2=rw mod n\n",
    "u2 = Integer(Fn(r*w))\n",
    "I = u1*G\n",
    "U = (u2*Q)\n",
    "P = u1*G + (u2*Q)\n",
    "\n",
    "print(P)\n",
    "print(P.xy())\n",
    "print(n * Q)\n",
    "print(n * G)\n",
    "print(Q != n*G)\n",
    "\n",
    "try:\n",
    "    E(Q-G/7)\n",
    "except TypeError as e:\n",
    "    print(\"Ola\")"
   ]
  },
  {
   "cell_type": "code",
   "execution_count": 47,
   "metadata": {},
   "outputs": [
    {
     "name": "stdout",
     "output_type": "stream",
     "text": [
      "13543130568159233805324317362418584210927670289778620905227662235190565188472\n"
     ]
    }
   ],
   "source": [
    "import hashlib\n",
    "\n",
    "message = b\"Nelson Faria\"\n",
    "e = Integer('0x' + hashlib.sha256(message).hexdigest())\n",
    "\n",
    "print(e)"
   ]
  },
  {
   "cell_type": "code",
   "execution_count": 55,
   "metadata": {},
   "outputs": [
    {
     "name": "stdout",
     "output_type": "stream",
     "text": [
      "256\n",
      "False\n"
     ]
    }
   ],
   "source": [
    "Fn = GF(115792089210356248762697446949407573529996955224135760342422259061068512044369)\n",
    "\n",
    "print(Fn.order().nbits())\n",
    "\n",
    "print(Fn(13) == mod(13,7))"
   ]
  }
 ],
 "metadata": {
  "kernelspec": {
   "display_name": "SageMath 9.2",
   "language": "sage",
   "name": "sagemath"
  },
  "language_info": {
   "codemirror_mode": {
    "name": "ipython",
    "version": 3
   },
   "file_extension": ".py",
   "mimetype": "text/x-python",
   "name": "python",
   "nbconvert_exporter": "python",
   "pygments_lexer": "ipython3",
   "version": "3.7.7"
  }
 },
 "nbformat": 4,
 "nbformat_minor": 4
}
