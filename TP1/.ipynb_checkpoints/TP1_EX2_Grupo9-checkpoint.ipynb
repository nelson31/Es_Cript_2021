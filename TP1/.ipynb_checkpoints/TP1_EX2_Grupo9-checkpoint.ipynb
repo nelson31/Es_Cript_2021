{
 "cells": [
  {
   "cell_type": "markdown",
   "metadata": {},
   "source": [
    "# Trabalho Prático 1 de Estruturas Criptográficas"
   ]
  },
  {
   "cell_type": "markdown",
   "metadata": {},
   "source": [
    "  - **Autores:** (Grupo 9)\n",
    "      - Nelson Faria (A84727)\n",
    "      - Miguel Oliveira (A83819)"
   ]
  },
  {
   "cell_type": "markdown",
   "metadata": {},
   "source": [
    "## Exercício 2"
   ]
  },
  {
   "cell_type": "code",
   "execution_count": 139,
   "metadata": {},
   "outputs": [],
   "source": [
    "# Imports necessários à execução deste notebook\n",
    "import os, hashlib\n",
    "\n",
    "#from cryptography.hazmat.backends import default_backend\n",
    "#from cryptography.hazmat.primitives.ciphers.aead import AESGCM"
   ]
  },
  {
   "cell_type": "markdown",
   "metadata": {},
   "source": [
    "### Alínea a - Construir uma classe Python que implemente um KEM-RSA\n",
    "\n",
    "A classe deve:\n",
    "  - Inicializar cada instância recebendo  o parâmetro de segurança (tamanho em bits do módulo RSA) e gere as chaves pública e privada.\n",
    "  - Conter funções para encapsulamento e revelação da chave gerada."
   ]
  },
  {
   "cell_type": "code",
   "execution_count": 3,
   "metadata": {},
   "outputs": [],
   "source": [
    "# Classe que implementa o KEM_RSA (Key Encapsulation Mechanism) baseado no RSA\n",
    "# Baseamo-nos em: https://doc.sagemath.org/html/en/thematic_tutorials/numtheory_rsa.html\n",
    "#                 https://docs.python.org/3/library/hashlib.html\n",
    "\n",
    "class KEM_RSA(object):\n",
    "    \n",
    "    def __init__(self, N, timeout=None):\n",
    "        \n",
    "        # Obter um primo aleatorio para o parametro q do rsa no intervalo [2^(N-1);2^N-1]\n",
    "        self.q = self.primoAleatorio(N)\n",
    "        # Obter um primo aleatorio para o parametro p do rsa no intervalo [2^(N+1-1);2^(N+1)-1]\n",
    "        self.p = self.primoAleatorio(N + 1)\n",
    "        # n = p * q\n",
    "        self.n = self.p * self.q\n",
    "        # Funcao totiente de euler = (p-1)*(q-1)\n",
    "        self.phi = (self.p-1)*(self.q-1)\n",
    "        # Escolher um inteiro aleatorio e entre 1 < e < φ(n) e que e e φ(n) sejam relativamente primos\n",
    "        self.e = ZZ.random_element(self.phi)\n",
    "        while gcd(self.e, self.phi) != 1:\n",
    "            self.e = ZZ.random_element(self.phi)\n",
    "        \n",
    "        # Para calcular d, usamos o 'extended Euclidean algorithm': de−k⋅φ(n)=1 -> Assimm, so precisamos de descobrir d e -k\n",
    "        # xgcd(x, y) retorna um triplo (g, s, t) que satisfaz a identidade de Bézout: g=gcd(x,y)=sx+ty \n",
    "        self.bezout = xgcd(self.e, self.phi)\n",
    "        # d = mod(s,φ(n)), uma vez que 1 < d < φ(n)\n",
    "        self.d = Integer(mod(self.bezout[1], self.phi))\n",
    "        \n",
    "          \n",
    "    # Retorna um primo aleatorio entre 2^(N-1) e 2^N - 1\n",
    "    def primoAleatorio(self, N):\n",
    "        \n",
    "        return random_prime(2**N-1,False,2**(N-1))\n",
    "\n",
    "    \n",
    "    # Funcao que serve para encapsular a chave que for acordada a partir de uma chave publica\n",
    "    def encapsula(self, e, n):\n",
    "        \n",
    "        # Escolher um inteiro aleatorio r entre 0 < r < n \n",
    "        r = ZZ.random_element(n)\n",
    "        \n",
    "        # Criptograma com este inteiro usado para o encapsulamento da chave (c ← r^e mod n)\n",
    "        c = Integer(power_mod(r, e, n))\n",
    "        \n",
    "        # Gerar o salt para derivar a chave\n",
    "        salt = os.urandom(16)\n",
    "        # Geracao da chave simetrica a partir do r (W ← KDF(r))\n",
    "        w = hashlib.pbkdf2_hmac('sha256', str(r).encode(), salt, 100000)\n",
    "        \n",
    "        return (w, salt + str(c).encode())\n",
    "    \n",
    "    \n",
    "    # Funcao usada para desencapsular uma chave, a partir do seu \"encapsulamento\"\n",
    "    def desencapsula(self, cs):\n",
    "        \n",
    "        # Buscar os 16 primeiros bytes para obter o salt e o restante é o \"encapsulamento\" da chave\n",
    "        salt = cs[:16]\n",
    "        c = int(cs[16:].decode())\n",
    "        \n",
    "        # Obter o r (r ← c^d mod n) com o algoritmo power_mod\n",
    "        r = Integer(power_mod(c, self.d, self.n))\n",
    "        \n",
    "        # Geracao da chave simetrica a partir do r (W ← KDF(r))\n",
    "        w = hashlib.pbkdf2_hmac('sha256', str(r).encode(), salt, 100000)\n",
    "        \n",
    "        return w\n",
    "        "
   ]
  },
  {
   "cell_type": "markdown",
   "metadata": {},
   "source": [
    "**Testagem da classe definida acima:**"
   ]
  },
  {
   "cell_type": "code",
   "execution_count": 4,
   "metadata": {},
   "outputs": [
    {
     "name": "stdout",
     "output_type": "stream",
     "text": [
      "Chave devolvida pelo encapsulamento: \n",
      "b'\\xbe\\x8fp\\xe3\\xe2I\\xa3\\xca\\x8c\\xf1\\xa5\\xf0\\xb0R!\\x1f\\xaa\\xe7\\x1d\\xf0e\\xf0\\xaf,\\x17\\x19D\\xbf\\x04\\xf5rT'\n",
      "\n",
      "'Encapsulamento' da chave: \n",
      "b'\\x19\\x10\\xdb\\x0c\\x9e;\\x02N\\xec\\xfd2\\xdd\\xae\\xed\\x7f\\xe221022107257581224947288557096205648019279201850933679188454880369826699628577151787516501467549899306133629173196961097882905579825604186850976899614025863625491400124231164740174504940636425578697242456494002491744230151925328109926000626912358190313101086624054993376199724857116787653044832020700941989990887653238377296947988657244459896404112447253113695672447611168543089655846277841547420038055486700417825675514566082253861731660306597465307306247622189145196853316898875416448256734076756221004434612584511398359623463207113669849666232393318351535547639266799564539500712085710154048897316254638335427611821'\n",
      "\n",
      "Chave devolvida pelo desencapsulamento: \n",
      "b'\\xbe\\x8fp\\xe3\\xe2I\\xa3\\xca\\x8c\\xf1\\xa5\\xf0\\xb0R!\\x1f\\xaa\\xe7\\x1d\\xf0e\\xf0\\xaf,\\x17\\x19D\\xbf\\x04\\xf5rT'\n"
     ]
    }
   ],
   "source": [
    "# Parametro de seguranca\n",
    "N = 1024\n",
    "\n",
    "# Chave publica: (n,e)\n",
    "# Chave privada: (p,q,d)\n",
    "# Inicializacao da classe responsavel por implementar o KEM-RSA\n",
    "kemrsa = KEM_RSA(N)\n",
    "\n",
    "# Verificar que ed == 1 (mod φ(n))\n",
    "#print(mod(kemrsa.e * kemrsa.d, kemrsa.phi))\n",
    "\n",
    "# Procede-se ao encapsulamento\n",
    "(w,c) = kemrsa.encapsula(kemrsa.e, kemrsa.n)\n",
    "\n",
    "print(\"Chave devolvida pelo encapsulamento: \")\n",
    "print(w)\n",
    "print(\"\\n'Encapsulamento' da chave: \")\n",
    "print(c)\n",
    "\n",
    "# Procede-se ao desencapsulamento\n",
    "w1 = kemrsa.desencapsula(c)\n",
    "print(\"\\nChave devolvida pelo desencapsulamento: \")\n",
    "print(w1)"
   ]
  },
  {
   "cell_type": "markdown",
   "metadata": {},
   "source": [
    "### Alínea b - Construir,  a partir do KEM definido anteriormente e usando a transformação de Fujisaki-Okamoto, um PKE que seja IND-CCA seguro."
   ]
  },
  {
   "cell_type": "code",
   "execution_count": 5,
   "metadata": {},
   "outputs": [],
   "source": [
    "# Classe que implementa um PKE_IND_CCA (Public Key Encryption) a partir do KEM_RSA e da transformação de Fujisaki-Okamoto\n",
    "# Baseamo-nos em: https://doc.sagemath.org/html/en/thematic_tutorials/numtheory_rsa.html\n",
    "#                 https://docs.python.org/3/library/hashlib.html\n",
    "\n",
    "class PKE_IND_CCA(object):\n",
    "    \n",
    "    def __init__(self, N, timeout=None):\n",
    "        \n",
    "        self.kem = KEM_RSA(N)\n",
    "    \n",
    "    \n",
    "    # Funcao usada para cifrar que recebe a mensagem e uma chave publica (e,n)\n",
    "    def cifra(self, m, e, n):\n",
    "        \n",
    "        # Obter a chave e o seu 'encapsulamento'\n",
    "        (w,c) = self.kem.encapsula(e,n)\n",
    "        # Cifrar a mesagem com a chave simetrica\n",
    "        iv = os.urandom(12)\n",
    "        encryptor = Cipher(algorithms.AES(w),\n",
    "                           modes.GCM(iv),\n",
    "                           backend=default_backend()).encryptor()\n",
    "        ciphertext = encryptor.update(m) + encryptor.finalize()\n",
    "        return (c,ciphertext,encryptor.tag,iv)\n",
    "    \n",
    "    \n",
    "    # Funcao usada para decifrar que recebe o criptograma, o 'encapsulamento' da chave, a tag e o vetor inicializacao\n",
    "    def decifra(self, ciphertext, c, tag, iv):\n",
    "        \n",
    "        # Fazer o desencapsulamento da chave\n",
    "        w = self.kem.desencapsula(c)\n",
    "        # decifrar o criptograma a partir da chave obtida\n",
    "        decryptor = Cipher(algorithms.AES(w),\n",
    "                           modes.GCM(iv,tag),\n",
    "                           backend=default_backend()).decryptor()\n",
    "        return decryptor.update(ciphertext) + decryptor.finalize()\n",
    "        \n",
    "    "
   ]
  },
  {
   "cell_type": "code",
   "execution_count": 2,
   "metadata": {},
   "outputs": [
    {
     "ename": "NameError",
     "evalue": "name 'PKE_IND_CCA' is not defined",
     "output_type": "error",
     "traceback": [
      "\u001b[0;31m---------------------------------------------------------------------------\u001b[0m",
      "\u001b[0;31mNameError\u001b[0m                                 Traceback (most recent call last)",
      "\u001b[0;32m<ipython-input-2-e940de5e9db9>\u001b[0m in \u001b[0;36m<module>\u001b[0;34m\u001b[0m\n\u001b[0;32m----> 1\u001b[0;31m \u001b[0mpke\u001b[0m \u001b[0;34m=\u001b[0m \u001b[0mPKE_IND_CCA\u001b[0m\u001b[0;34m(\u001b[0m\u001b[0mInteger\u001b[0m\u001b[0;34m(\u001b[0m\u001b[0;36m1024\u001b[0m\u001b[0;34m)\u001b[0m\u001b[0;34m)\u001b[0m\u001b[0;34m\u001b[0m\u001b[0;34m\u001b[0m\u001b[0m\n\u001b[0m\u001b[1;32m      2\u001b[0m \u001b[0;34m\u001b[0m\u001b[0m\n\u001b[1;32m      3\u001b[0m \u001b[0;34m(\u001b[0m\u001b[0mc\u001b[0m\u001b[0;34m,\u001b[0m\u001b[0mciphertext\u001b[0m\u001b[0;34m,\u001b[0m\u001b[0mtag\u001b[0m\u001b[0;34m,\u001b[0m\u001b[0miv\u001b[0m\u001b[0;34m)\u001b[0m \u001b[0;34m=\u001b[0m \u001b[0mpke\u001b[0m\u001b[0;34m.\u001b[0m\u001b[0mcifra\u001b[0m\u001b[0;34m(\u001b[0m\u001b[0;34m\"Nelson Faria\"\u001b[0m\u001b[0;34m,\u001b[0m \u001b[0mpke\u001b[0m\u001b[0;34m.\u001b[0m\u001b[0mkem\u001b[0m\u001b[0;34m.\u001b[0m\u001b[0me\u001b[0m\u001b[0;34m,\u001b[0m \u001b[0mpke\u001b[0m\u001b[0;34m.\u001b[0m\u001b[0mkem\u001b[0m\u001b[0;34m.\u001b[0m\u001b[0mn\u001b[0m\u001b[0;34m)\u001b[0m\u001b[0;34m\u001b[0m\u001b[0;34m\u001b[0m\u001b[0m\n\u001b[1;32m      4\u001b[0m \u001b[0;34m\u001b[0m\u001b[0m\n\u001b[1;32m      5\u001b[0m \u001b[0mprint\u001b[0m\u001b[0;34m(\u001b[0m\u001b[0;34m\"Texto cifrado:\"\u001b[0m\u001b[0;34m)\u001b[0m\u001b[0;34m\u001b[0m\u001b[0;34m\u001b[0m\u001b[0m\n",
      "\u001b[0;31mNameError\u001b[0m: name 'PKE_IND_CCA' is not defined"
     ]
    }
   ],
   "source": [
    "pke = PKE_IND_CCA(1024)\n",
    "\n",
    "(c,ciphertext,tag,iv) = pke.cifra(\"Nelson Faria\", pke.kem.e, pke.kem.n)\n",
    "\n",
    "print(\"Texto cifrado:\")\n",
    "print(ciphertext)\n",
    "\n",
    "print(\"\\nTexto decifrado:\")\n",
    "print(pke.decifra(ciphertext, c, tag, iv))"
   ]
  },
  {
   "cell_type": "markdown",
   "metadata": {},
   "source": [
    "### Alínea c - Construir uma classe Python que implemente o DSA (*Digital Signature Algorithm*). \n",
    "\n",
    "A implementação deve:\n",
    "  - na inicialização,  receber como parâmetros o tamanho  dos primos $p$ e $q$; \n",
    "  - deve conter funções para assinar digitalmente e verificar a assinatura."
   ]
  },
  {
   "cell_type": "code",
   "execution_count": 69,
   "metadata": {},
   "outputs": [],
   "source": [
    "# Classe que implementa o algoritmo de assinatura digital(DSA) \n",
    "# Baseamo-nos em: https://en.wikipedia.org/wiki/Digital_Signature_Algorithm\n",
    "#                 https://doc.sagemath.org/html/en/developer/coding_in_python.html\n",
    "\n",
    "class DSA(object):\n",
    "    \n",
    "    def __init__(self, L, N, timeout=None):\n",
    "        \n",
    "        # Escolha de um numero primo q grande\n",
    "        self.q = Integer(self.primoAleatorio(N))\n",
    "        # Escolha de um numero primo p grande, em que p-1 seja multiplo de q\n",
    "        self.p = 1\n",
    "        while (not is_prime(self.p)):\n",
    "            # Como 2^(L-1) < p < 2^L e 2^(N-1) < q < 2^N, seguimos a logica seguinte: 2^(L-N) * 2^N = 2^(L-N+N) = 2^L\n",
    "            # Além disso, Se n for aleatorio, 2*n + 1 tambem é\n",
    "            # p := (2^(L-N-1) + 2*random(1,2^(L-N-2))) * q + 1\n",
    "            self.p = (2^(L-N-1) + 2*ZZ.random_element(1, 2^(L-N-2)))*self.q + 1  \n",
    "        # calcular o gerador g tal que tal que g := h^(p-1)/q mod p, com , com g != 1\n",
    "        self.g = 1\n",
    "        while self.g == 1:\n",
    "            # Escolher um inteiro aleatorio h entre 1 < h < p-1 \n",
    "            h = ZZ.random_element(2, self.p-1)\n",
    "            self.g = power_mod(h, (self.p-1) // self.q, self.p)\n",
    "        # Gerar a chave privada x aleatoriamente entre 1 e q-1\n",
    "        self.x = ZZ.random_element(1, self.q)\n",
    "        # Gerar a chave pública y := g^x mod p\n",
    "        self.y = Integer(power_mod(self.g, self.x, self.p))\n",
    "    \n",
    "    \n",
    "    # Retorna um primo aleatorio entre 2^(N-1) e 2^N\n",
    "    def primoAleatorio(self, N):\n",
    "        \n",
    "        return random_prime(2**N,False,2**(N-1))\n",
    "    \n",
    "    \n",
    "    # Funcao usada para assinar uma determinada mensagem\n",
    "    def assina(self, message):\n",
    "        \n",
    "        # Criacao do par da assinatura DSA (r,s)\n",
    "        r = 0   # r != 0\n",
    "        s = 0   # s != 0\n",
    "        while r == 0 or s == 0:\n",
    "            # Gerar um inteiro aleatorio k entre 1 e q-1\n",
    "            k = ZZ.random_element(1,self.q)\n",
    "            # r := (g^k mod p) mod q, com r != 0\n",
    "            #r = Integer(mod(power_mod(self.g, k, self.p), self.q))\n",
    "            r = ( ( power_mod(self.g, k, self.p) ) % self.p ) % self.q\n",
    "            # s := (k^-1 (H(m) + xr)) mod q, com s != 0\n",
    "            #s = Integer(mod(inverse_mod(k, self.q) * mod((hash(message) + self.x*r), self.q), self.q))\n",
    "            s = ( ( k^-1 ) * ( hash ( message ) + self.x * r ) ) % self.q\n",
    "    \n",
    "        # Assinatura = (r,s)\n",
    "        return (r,s)\n",
    "    \n",
    "    \n",
    "    # Funcao que verifica uma determinada assinatura a partir da mensagem original e da chave publica \n",
    "    def verifica(self, signature, message, y):\n",
    "        \n",
    "        # Retirar os valores de r e s\n",
    "        r = signature[0]\n",
    "        s = signature[1]\n",
    "        # Verificar que os valores de r e s estao entre 0 e q\n",
    "        if r > 0 and r < self.q and s > 0 and s < self.q:\n",
    "            \n",
    "            # Calcular w := s^-1 mod q\n",
    "            #w = Integer(inverse_mod(s, self.q))\n",
    "            w = (s^-1) % self.q\n",
    "            # Calcular u1 := H(m).w mod q\n",
    "            #u1 = Integer(mod(hash(message) * w, self.q))\n",
    "            u1 = (hash (message) * w) % self.q\n",
    "            # Calcular u2 := r.w mod q\n",
    "            #u2 = Integer(mod(r * w, self.q))\n",
    "            u2 = (r * w) % self.q\n",
    "            # Calcular v := (g^u1 * y^u2 mod p) mod q\n",
    "            #v = Integer(mod(mod(power_mod(self.g, u1, self.p) * power_mod(y, u2, self.p), self.p), self.q))\n",
    "            v = ( ( (power_mod(self.g, u1, self.p)) * power_mod(y, u2, self.p) ) % self.p ) % self.q\n",
    "            print(\"V = \" + str(v))\n",
    "        \n",
    "        else:\n",
    "            return False\n",
    "        \n",
    "        return v == r\n",
    "        "
   ]
  },
  {
   "cell_type": "markdown",
   "metadata": {},
   "source": [
    "**Testagem da classe definida acima:**"
   ]
  },
  {
   "cell_type": "code",
   "execution_count": 70,
   "metadata": {},
   "outputs": [
    {
     "name": "stdout",
     "output_type": "stream",
     "text": [
      "P = 22407789862361023859096284877495259451480911399786420417538618489888479295705654809007233475142541012408059237288250887486895837024575233491109457866966165229736273511052471859485475056031065307370860430671226443174352174126026687920794417250018346550506262344964006938657377532082034248957867827939217463326134568140070988592400143387310477786348610266226559120676023300928779493342560813843816870537967633975584895434585042598221250477067553462919811727546073458651803543618760419893957487474942191685467265688898373236269088341242290549723432854036771504474017083557902781753459422705237714282202067971938020296949\n",
      "Q = 102619326894726651758768312865982247770204777742697595988351041844766998188219\n",
      "Insira a mensagem a assinar:Estruturas Criptográficas\n",
      "R = 29343814065905615446011671779628398128065525118167652408177523043125943998396\n",
      "S = 1630009452543416293214153847161104177151392832322679073833821494308696031419\n",
      "V = 29343814065905615446011671779628398128065525118167652408177523043125943998396\n",
      "A assinatura é válida!!!!\n"
     ]
    }
   ],
   "source": [
    "# Tamanhos para os parametros p e q\n",
    "L = 2048\n",
    "N = 256\n",
    "\n",
    "dsa = DSA(L,N)\n",
    "\n",
    "print(\"P = \" + str(dsa.p))\n",
    "print(\"Q = \" + str(dsa.q))\n",
    "\n",
    "# Teste de uma assinatura e verificacao\n",
    "message = input(\"Insira a mensagem a assinar:\")\n",
    "assinatura = dsa.assina(message.encode(\"utf-8\"))\n",
    "print(\"R = \" + str(assinatura[0]))\n",
    "print(\"S = \" + str(assinatura[1]))\n",
    "if dsa.verifica(assinatura, message.encode(\"utf-8\"), dsa.y):\n",
    "    print(\"A assinatura é válida!!!!\")\n",
    "else:\n",
    "    print(\"A assinatura é inválida!!!!\")\n"
   ]
  },
  {
   "cell_type": "markdown",
   "metadata": {},
   "source": [
    "**Geração do parâmetro $p$**\n",
    "\n",
    "Se dissermos que $q$ é então um número primo aleatório, então p = $2*q + 1$ pode ser testado para ver se é primo, sendo que tem ainda garantida a característica de $p-1$ ser múltiplo de $q$.\n",
    "\n",
    "Dentro disto, aquilo que fizemos foi precisamente isto, mas de forma a que este valor esteja no intervalo $[2^{L-1},2^{L}]$ e, além disso seja primo e aleatório!!!\n",
    "\n",
    "Por isso, o que se pensou fazer para $p$ foi múltiplicar o 2 por um número aleatório entre $[1,2^{L-N-2}]$ e somar-lhe o limite inferior para o parâmetro $p$, pelo que depois foi só seguir a seguinte regra da matemática:\n",
    "\n",
    "$2^X + 2*(2^Y) <=> 2^{X+Y+1}$\n",
    "\n",
    "Se X = 47 e Y = 16, então $2^{47} + 2*(2^{16}) = 2^{47+16+1} = 2^{64}$\n",
    "\n",
    "Com isto conseguimos arranjar a seguinte solução mais ou menos eficiente: $p := (2^{L-N-1} + 2*random(1,2^{L-N-2})) * q + 1$\n",
    "\n"
   ]
  },
  {
   "cell_type": "code",
   "execution_count": 67,
   "metadata": {},
   "outputs": [
    {
     "data": {
      "text/plain": [
       "211106232532992"
      ]
     },
     "execution_count": 67,
     "metadata": {},
     "output_type": "execute_result"
    }
   ],
   "source": [
    "2^47 + 2*(2^45)"
   ]
  },
  {
   "cell_type": "code",
   "execution_count": 71,
   "metadata": {},
   "outputs": [
    {
     "data": {
      "text/plain": [
       "2048"
      ]
     },
     "execution_count": 71,
     "metadata": {},
     "output_type": "execute_result"
    }
   ],
   "source": [
    "22407789862361023859096284877495259451480911399786420417538618489888479295705654809007233475142541012408059237288250887486895837024575233491109457866966165229736273511052471859485475056031065307370860430671226443174352174126026687920794417250018346550506262344964006938657377532082034248957867827939217463326134568140070988592400143387310477786348610266226559120676023300928779493342560813843816870537967633975584895434585042598221250477067553462919811727546073458651803543618760419893957487474942191685467265688898373236269088341242290549723432854036771504474017083557902781753459422705237714282202067971938020296949.nbits()"
   ]
  },
  {
   "cell_type": "markdown",
   "metadata": {},
   "source": [
    "### Alínea d -  Construir uma classe Python que implemente o ECDSA usando uma das curvas elípticas primas definidas no FIPS186-4  (escolhida  na iniciação da classe).\n"
   ]
  },
  {
   "cell_type": "code",
   "execution_count": null,
   "metadata": {},
   "outputs": [],
   "source": []
  }
 ],
 "metadata": {
  "kernelspec": {
   "display_name": "SageMath 9.2",
   "language": "sage",
   "name": "sagemath"
  },
  "language_info": {
   "codemirror_mode": {
    "name": "ipython",
    "version": 3
   },
   "file_extension": ".py",
   "mimetype": "text/x-python",
   "name": "python",
   "nbconvert_exporter": "python",
   "pygments_lexer": "ipython3",
   "version": "3.7.7"
  }
 },
 "nbformat": 4,
 "nbformat_minor": 4
}
