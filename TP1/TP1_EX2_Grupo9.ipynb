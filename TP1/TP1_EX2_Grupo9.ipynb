{
 "cells": [
  {
   "cell_type": "markdown",
   "metadata": {},
   "source": [
    "# Trabalho Prático 1 de Estruturas Criptográficas"
   ]
  },
  {
   "cell_type": "markdown",
   "metadata": {},
   "source": [
    "  - **Autores:** (Grupo 9)\n",
    "      - Nelson Faria (A84727)\n",
    "      - Miguel Oliveira (A83819)"
   ]
  },
  {
   "cell_type": "markdown",
   "metadata": {},
   "source": [
    "## Exercício 2"
   ]
  },
  {
   "cell_type": "code",
   "execution_count": 1,
   "metadata": {},
   "outputs": [],
   "source": [
    "# Imports necessários à execução deste notebook\n",
    "import os, hashlib"
   ]
  },
  {
   "cell_type": "markdown",
   "metadata": {},
   "source": [
    "### Construir uma classe Python que implemente um KEM-RSA\n",
    "\n",
    "A classe deve:\n",
    "  - Inicializar cada instância recebendo  o parâmetro de segurança (tamanho em bits do módulo RSA) e gere as chaves pública e privada.\n",
    "  - Conter funções para encapsulamento e revelação da chave gerada."
   ]
  },
  {
   "cell_type": "code",
   "execution_count": 88,
   "metadata": {},
   "outputs": [],
   "source": [
    "# Classe que implementa o KEM_RSA (Key Encapsulation Mechanism) baseado no RSA\n",
    "# Baseamo-nos em: https://doc.sagemath.org/html/en/thematic_tutorials/numtheory_rsa.html\n",
    "#                 https://docs.python.org/3/library/hashlib.html\n",
    "\n",
    "class KEM_RSA(object):\n",
    "    \n",
    "    def __init__(self, N, timeout=None):\n",
    "        \n",
    "        # Obter um primo aleatorio para o parametro q do rsa no intervalo [2^(N-1);2^N-1]\n",
    "        self.q = self.primoAleatorio(N)\n",
    "        # Obter um primo aleatorio para o parametro p do rsa no intervalo [2^(N+1-1);2^(N+1)-1]\n",
    "        self.p = self.primoAleatorio(N + 1)\n",
    "        # n = p * q\n",
    "        self.n = self.p * self.q\n",
    "        # Funcao totiente de euler = (p-1)*(q-1)\n",
    "        self.phi = (self.p-1)*(self.q-1)\n",
    "        # Escolher um inteiro aleatorio e entre 1 < e < φ(n) e que e e φ(n) sejam relativamente primos\n",
    "        self.e = ZZ.random_element(self.phi)\n",
    "        while gcd(self.e, self.phi) != 1:\n",
    "            self.e = ZZ.random_element(self.phi)\n",
    "        \n",
    "        # Para calcular d, usamos o 'extended Euclidean algorithm': de−k⋅φ(n)=1 -> Assimm, so precisamos de descobrir d e -k\n",
    "        # xgcd(x, y) retorna um triplo (g, s, t) que satisfaz a identidade de Bézout: g=gcd(x,y)=sx+ty \n",
    "        self.bezout = xgcd(self.e, self.phi)\n",
    "        # d = mod(s,φ(n)), uma vez que 1 < d < φ(n)\n",
    "        self.d = Integer(mod(self.bezout[1], self.phi))\n",
    "        \n",
    "          \n",
    "    # Retorna um primo aleatorio entre 2^(N-1) e 2^N - 1\n",
    "    def primoAleatorio(self, N):\n",
    "        \n",
    "        return random_prime(2**N-1,True,2**(N-1))\n",
    "\n",
    "    \n",
    "    # Funcao que serve para encapsular a chave que for acordada a partir de uma chave publica\n",
    "    def encapsula(self, e, n):\n",
    "        \n",
    "        # Escolher um inteiro aleatorio r entre 0 < r < n \n",
    "        r = ZZ.random_element(n)\n",
    "        \n",
    "        # Criptograma com este inteiro usado para o encapsulamento da chave (c ← r^e mod n)\n",
    "        c = Integer(power_mod(r, e, n))\n",
    "        \n",
    "        # Gerar o salt para derivar a chave\n",
    "        salt = os.urandom(16)\n",
    "        # Geracao da chave simetrica a partir do r (W ← KDF(r))\n",
    "        w = hashlib.pbkdf2_hmac('sha256', str(r).encode(), salt, 100000)\n",
    "        \n",
    "        return (w, salt + str(c).encode())\n",
    "    \n",
    "    \n",
    "    # Funcao usada para desencapsular uma chave, a partir do seu \"encapsulamento\"\n",
    "    def desencapsula(self, cs):\n",
    "        \n",
    "        # Buscar os 16 primeiros bytes para obter o salt e o restante é o \"encapsulamento\" da chave\n",
    "        salt = cs[:16]\n",
    "        c = int(cs[16:].decode())\n",
    "        \n",
    "        # Obter o r (r ← c^d mod n) com o algoritmo power_mod\n",
    "        r = Integer(power_mod(c, self.d, self.n))\n",
    "        \n",
    "        # Geracao da chave simetrica a partir do r (W ← KDF(r))\n",
    "        w = hashlib.pbkdf2_hmac('sha256', str(r).encode(), salt, 100000)\n",
    "        \n",
    "        return w\n",
    "        "
   ]
  },
  {
   "cell_type": "markdown",
   "metadata": {},
   "source": [
    "**Testagem da classe definida acima:**"
   ]
  },
  {
   "cell_type": "code",
   "execution_count": 89,
   "metadata": {},
   "outputs": [
    {
     "name": "stdout",
     "output_type": "stream",
     "text": [
      "Chave devolvida pelo encapsulamento: \n",
      "b'>iN\\n\\xee:uNe\\xcf;m\\xfd\\xec>\\xad6\\xde\\x0b\\xd0t7J\\xb8\\xd7?\\'\"\\x06\\x11\\xb8\\x1d'\n",
      "\n",
      "'Encapsulamento' da chave: \n",
      "b'\\xc22\\x01T\\xac\\xfd\\xc5QMo\\xa1\\x86@\\x92l\\xa710532067822825801805377844922718841480917297303947499157924271209537208771548687624569416118776305927616683626909878847639515377689778578285867366585750716734401255598642812782128377404073619552291508644675361899615525653135497696907454652151630436729540286692517934577502749906370784553044017732218538204864730152463505276131242532492426152481009000428480440793733759312344805523203377631505605785239638017573521704235236842850171312391504052957402780112114567192309640355860749202120098211905515024037064650110050989452689427637262685534263542945416771634698361698177829248487813500509498136253323660482615662748069'\n",
      "\n",
      "Chave devolvida pelo desencapsulamento: \n",
      "b'>iN\\n\\xee:uNe\\xcf;m\\xfd\\xec>\\xad6\\xde\\x0b\\xd0t7J\\xb8\\xd7?\\'\"\\x06\\x11\\xb8\\x1d'\n"
     ]
    }
   ],
   "source": [
    "# Parametro de seguranca\n",
    "N = 1024\n",
    "\n",
    "# Chave publica: (n,e)\n",
    "# Chave privada: (p,q,d)\n",
    "# Inicializacao da classe responsavel por implementar o KEM-RSA\n",
    "kemrsa = KEM_RSA(N)\n",
    "\n",
    "# Verificar que ed == 1 (mod φ(n))\n",
    "#print(mod(kemrsa.e * kemrsa.d, kemrsa.phi))\n",
    "\n",
    "# Procede-se ao encapsulamento\n",
    "(w,c) = kemrsa.encapsula(kemrsa.e, kemrsa.n)\n",
    "\n",
    "print(\"Chave devolvida pelo encapsulamento: \")\n",
    "print(w)\n",
    "print(\"\\n'Encapsulamento' da chave: \")\n",
    "print(c)\n",
    "\n",
    "# Procede-se ao desencapsulamento\n",
    "w1 = kemrsa.desencapsula(c)\n",
    "print(\"\\nChave devolvida pelo desencapsulamento: \")\n",
    "print(w1)"
   ]
  },
  {
   "cell_type": "markdown",
   "metadata": {},
   "source": [
    "### Construir,  a partir do KEM definido anteriormente e usando a transformação de Fujisaki-Okamoto, um PKE que seja IND-CCA seguro."
   ]
  },
  {
   "cell_type": "code",
   "execution_count": null,
   "metadata": {},
   "outputs": [],
   "source": []
  }
 ],
 "metadata": {
  "kernelspec": {
   "display_name": "SageMath 9.2",
   "language": "sage",
   "name": "sagemath"
  },
  "language_info": {
   "codemirror_mode": {
    "name": "ipython",
    "version": 3
   },
   "file_extension": ".py",
   "mimetype": "text/x-python",
   "name": "python",
   "nbconvert_exporter": "python",
   "pygments_lexer": "ipython3",
   "version": "3.7.7"
  }
 },
 "nbformat": 4,
 "nbformat_minor": 4
}
