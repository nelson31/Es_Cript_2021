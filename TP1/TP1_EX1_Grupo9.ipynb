{
 "cells": [
  {
   "cell_type": "markdown",
   "id": "oriental-formation",
   "metadata": {},
   "source": [
    "# Trabalho Prático 1 de Estruturas Criptográficas"
   ]
  },
  {
   "cell_type": "markdown",
   "id": "detected-thumb",
   "metadata": {},
   "source": [
    "- **Autores:** (Grupo 9)\n",
    "     - Nelson Faria (A84727)\n",
    "     - Miguel Oliveira (A83819)"
   ]
  },
  {
   "cell_type": "markdown",
   "id": "cooked-elimination",
   "metadata": {},
   "source": [
    "## Exercício 1"
   ]
  },
  {
   "cell_type": "code",
   "execution_count": 4,
   "id": "wrong-writer",
   "metadata": {},
   "outputs": [],
   "source": [
    "'''\n",
    "Imports necessários para a execução deste mesmo Notebook\n",
    "'''\n",
    "import io, os\n",
    "import multiprocessing as mp\n",
    "\n",
    "from cryptography.hazmat.primitives.ciphers import Cipher, algorithms, modes\n",
    "from cryptography.hazmat.primitives import hashes\n",
    "from cryptography.hazmat.primitives import padding\n",
    "\n",
    "from cryptography.hazmat.primitives.asymmetric import dsa\n",
    "from cryptography.hazmat.primitives.asymmetric import dh\n",
    "from cryptography.hazmat.primitives.kdf.hkdf import HKDF\n",
    "from cryptography.hazmat.primitives.asymmetric.padding import PSS, MGF1, PKCS1v15\n",
    "\n",
    "from cryptography.hazmat.primitives.serialization import Encoding, PublicFormat, PrivateFormat, NoEncryption\n",
    "from cryptography.hazmat.primitives.serialization import load_pem_public_key\n",
    "from cryptography.hazmat.primitives.serialization import load_pem_private_key"
   ]
  },
  {
   "cell_type": "markdown",
   "id": "expanded-tobago",
   "metadata": {},
   "source": [
    "O principal objetivo deste primeiro exercício prático passava pela implementação de uma **comunicação síncrona** e **segura** entre duas entidades, um **receiver** e um **emitter** seguindo determinados parâmetros que vão sendo explicitados e demonstrados em cada uma das alíneas que se seguem."
   ]
  },
  {
   "cell_type": "markdown",
   "id": "induced-bible",
   "metadata": {},
   "source": [
    "### Alínea a - Implementar um gerador de nounces"
   ]
  },
  {
   "cell_type": "markdown",
   "id": "pressing-diving",
   "metadata": {},
   "source": [
    "Como se encontra explícito no próprio título desta subsecção, a principal finalidade desta alínea era a implementação de um **gerador de nounces** de modo a que, sempre que seja solicitado uma nova instância de **nounce**, temos a garantia de que ele é **aleatório** e ainda que **nunca foi retornado**, numa ocasião prévia por esse mesmo gerador.\n",
    "\n",
    "Com isto em mente, desenvolvemos a seguinte classe em **Python**, designada de **NGenerator**, a qual apenas apresenta um método que permite o acesso a um novo **nounce**, designado de **get()**. De modo a implementar essa funcionalidade no **NGenerator**, recorremos a uma lista que vai armazenando os **nounces** que vão sendo retornados, à qual acedemos sempre aquando da solicitação da geração de um novo nounce de modo a verificar se tal nounce já foi retornado previamente. Em caso afirmativo, essa instância recém-gerada **é descartada** e é gerada **uma nova instância** para ser retornada, adicionando-a, previamente ao *historic* do respetivo **NGenerator**."
   ]
  },
  {
   "cell_type": "code",
   "execution_count": 11,
   "id": "useful-order",
   "metadata": {},
   "outputs": [],
   "source": [
    "''' \n",
    "Classe que permite gerar \n",
    "nounces que nunca se repetem\n",
    "'''\n",
    "class NGenerator :\n",
    "\n",
    "    # Construtor para objetos da classe NGenerator\n",
    "    def __init__(self,size) :\n",
    "\n",
    "        self.size = size\n",
    "        self.historic = []\n",
    "\n",
    "    ''' \n",
    "    Método que nos permite obter um novo nounce\n",
    "    '''\n",
    "    def get(self) :\n",
    "\n",
    "        nounce = os.urandom(self.size)\n",
    "        while nounce in self.historic :\n",
    "            nounce = os.urandom(self.size)\n",
    "        self.historic.append(nounce)\n",
    "        return nounce\n",
    "\n",
    "    '''\n",
    "    Método que nos permnite adicionar um novo nounce \n",
    "    ao historico. Método importante para registar os \n",
    "    nounces usados pelo peer.\n",
    "    '''\n",
    "    def addToHistoric(self,nounce) :\n",
    "\n",
    "        self.historic.append(nounce)"
   ]
  },
  {
   "cell_type": "markdown",
   "id": "conservative-choir",
   "metadata": {},
   "source": [
    "> De seguida, mostramos o exemplo de execução do método que permite obter uma nova instância de **nounce**."
   ]
  },
  {
   "cell_type": "code",
   "execution_count": 12,
   "id": "expired-argument",
   "metadata": {},
   "outputs": [
    {
     "data": {
      "text/plain": [
       "b'\\xfb\\xa0\\x98X\\x18\\xd9\\x17\\xd4\\x04\\xe6\\xd5P\\xba~\\xf1\\r\\x82\\xd2e\\x0fv\\xa7\\x05\\xbf\\x8e\\x0e\\x05D\"\\xb7\\xcb\\xe3'"
      ]
     },
     "execution_count": 12,
     "metadata": {},
     "output_type": "execute_result"
    }
   ],
   "source": [
    "ng = NGenerator(32)\n",
    "ng.get()"
   ]
  },
  {
   "cell_type": "markdown",
   "id": "atmospheric-termination",
   "metadata": {},
   "source": [
    "### Implementação da comunicação entre as duas entidades (*Emitter* e *Receiver*)"
   ]
  },
  {
   "cell_type": "markdown",
   "id": "native-grain",
   "metadata": {},
   "source": [
    "As alíneas **b** e **c** não podem ser isoladas do mesmo modo que aconteceu com a alínea a, visto que estas últimas representam alguns **requisitos** aos quais a comunicação entre as duas diferentes partes devem obedecer, pelo que falaremos de cada uma delas ao longo da explicação acerca da implementação realizada pelo nosso grupo quando tal seja oportuno."
   ]
  },
  {
   "cell_type": "markdown",
   "id": "alive-update",
   "metadata": {},
   "source": [
    "Numa primeira fase, pensamos que seria necessário ambas as entidades conhecerem a **chave pública** uma da outra, de modo a que fosse possível, para qualquer uma destas, verificarem as **assinaturas** uma da outra, na fase de **handshake**, a qual segue o **algorítmo de Diffie-Hellman**, de modo a ambas as partes acordarem num **chave simétrica** a ser usada para a **cifragem de mensagens** durante a comunicação. Definimos, para além disso, os parâmetros **p** e **g** a serem usados no **Diffie-Hellman**."
   ]
  },
  {
   "cell_type": "code",
   "execution_count": 23,
   "id": "informed-aberdeen",
   "metadata": {},
   "outputs": [],
   "source": [
    "# Chaves públicas DSA de emitter e receiver\n",
    "sender_public_key = None\n",
    "receiver_public_key = None\n",
    "\n",
    "# RFC 3526's parameters for Diffie-Hellman. Easier to hardcode...\n",
    "p = 0xFFFFFFFFFFFFFFFFC90FDAA22168C234C4C6628B80DC1CD129024E088A67CC74020BBEA63B139B22514A08798E3404DDEF9519B3CD3A431B302B0A6DF25F14374FE1356D6D51C245E485B576625E7EC6F44C42E9A637ED6B0BFF5CB6F406B7EDEE386BFB5A899FA5AE9F24117C4B1FE649286651ECE45B3DC2007CB8A163BF0598DA48361C55D39A69163FA8FD24CF5F83655D23DCA3AD961C62F356208552BB9ED529077096966D670C354E4ABC9804F1746C08CA18217C32905E462E36CE3BE39E772C180E86039B2783A2EC07A28FB5C55DF06F4C52C9DE2BCBF6955817183995497CEA956AE515D2261898FA051015728E5A8AACAA68FFFFFFFFFFFFFFFF\n",
    "g = 2\n",
    "params_numbers = dh.DHParameterNumbers(p,g)\n",
    "parameters = params_numbers.parameters()"
   ]
  },
  {
   "cell_type": "markdown",
   "id": "overhead-priest",
   "metadata": {},
   "source": [
    "Os métodos apresentados já de seguida são responsáveis pela geração de **chaves DSA privadas** e **públicas**, de modo a que seja possível, aquando da fase de **handshake**, para ambos os intervinientes na comunicação se conseguirem autenticar. No nosso contexto de teste em particular, o processo \"principal\" (método **main**) é responsável por gerar ambas as chaves privadas numa primeira instância, e, de seguida, transmití-las aos respetivos portadores das mesmas, cada um a correr num **processo distinto** (recorremos ao **multiprocessing do Python**)."
   ]
  },
  {
   "cell_type": "markdown",
   "id": "awful-fraction",
   "metadata": {},
   "source": [
    "De seguida, a partir do par de **chaves privadas** gerado, gera, para cada uma, a sua respetiva **chave pública**, esta sim, conhecida de ambas as entidades. "
   ]
  },
  {
   "cell_type": "code",
   "execution_count": 22,
   "id": "missing-relationship",
   "metadata": {},
   "outputs": [],
   "source": [
    "# Size of dsa keys\n",
    "DSA_KEY_SIZE = 2048 #bits\n",
    "\n",
    "''' \n",
    "Função que permite gerar uma chave privada e \n",
    "que irá ser usada por ambas as entidades, sender e \n",
    "emitter para poder realizar a troca de chaves\n",
    "'''\n",
    "def generatePrivateKeys() :\n",
    "\n",
    "    sender_private_key = dsa.generate_private_key(\n",
    "        key_size=DSA_KEY_SIZE,\n",
    "    )\n",
    "    receiver_private_key = dsa.generate_private_key(\n",
    "        key_size=DSA_KEY_SIZE,\n",
    "    )\n",
    "    return sender_private_key,receiver_private_key\n",
    "\n",
    "'''\n",
    "Função que recebe o par de chaves privadas geradas \n",
    "e gera cada uma das correspondentes chaves públicas\n",
    "'''\n",
    "def generatePublicKeys(private_pair) :\n",
    "\n",
    "    global sender_public_key, receiver_public_key\n",
    "    sender_public_key = private_pair[0].public_key()\n",
    "    receiver_public_key = private_pair[1].public_key()"
   ]
  },
  {
   "cell_type": "markdown",
   "id": "bridal-clearance",
   "metadata": {},
   "source": [
    "#### Fase de Handshake"
   ]
  },
  {
   "cell_type": "markdown",
   "id": "basic-negotiation",
   "metadata": {},
   "source": [
    "Passamos agora para a explicação acerca da fase de handshake, a qual é, obviamente, distinta para os dois intervenientes na comunicação. Começamos então por explicar o procedimento seguido pelo agente **emitter**."
   ]
  },
  {
   "cell_type": "code",
   "execution_count": 7,
   "id": "passive-pakistan",
   "metadata": {},
   "outputs": [],
   "source": [
    "''' \n",
    "Função que representa a execução da entidade sender\n",
    "'''\n",
    "def sender(conn,stdin):\n",
    "    message = stdin.recv()\n",
    "\n",
    "    while len(message) > 0 :\n",
    "        conn.send(message.encode('utf-8'))\n",
    "        assert 'ok' == conn.recv()     # para garantir o sincronismo\n",
    "        ''' Pedimos à thread principal a \n",
    "        próxima mensagem lida a partir do stdin'''\n",
    "        stdin.send('next')\n",
    "        message = stdin.recv()\n",
    "\n",
    "    # Para terminar a conexão\n",
    "    conn.send(message.encode('utf-8'))\n",
    "    conn.close()\n",
    "    print('[SENDER] SHUTDOWN')\n",
    "\n",
    "''' \n",
    "Função que representa a execução da entidade receiver \n",
    "'''\n",
    "def receiver(conn):\n",
    "    try:\n",
    "        message = bytes(conn.recv()).decode('utf-8')\n",
    "    except EOFError:\n",
    "        print('EOFError')\n",
    "    while len(message) > 0:\n",
    "        # Imprimimos o conteudo da mensagem recebida\n",
    "        print('[Receiver] RECEIVED: ' + message)\n",
    "        conn.send('ok')        # para garantir o sincronismo\n",
    "        try:\n",
    "            message = bytes(conn.recv()).decode('utf-8')\n",
    "        except EOFError:\n",
    "            break\n",
    "    conn.close()\n",
    "    print('[RECEIVER] SHUTDOWN')\n",
    "\n",
    "\n",
    "''' \n",
    "Função responsável por arrancar a \n",
    "execução de ambas as entidades, o emitter \n",
    "e o receiver. Para além disto é responsável por \n",
    "mediar a comunicação entre o stdin e o sender\n",
    "'''\n",
    "def main() :\n",
    "    try:\n",
    "        mp.set_start_method('fork')\n",
    "    except:\n",
    "        print(\"O start_method já foi inicializado anteriormente \")\n",
    "\n",
    "    receiver_conn, sender_conn = mp.Pipe()\n",
    "    receiver_stdin, main_stdin = mp.Pipe()\n",
    "    s = mp.Process(target=sender, args=(sender_conn,receiver_stdin))\n",
    "    r = mp.Process(target=receiver, args=(receiver_conn,))\n",
    "    s.start()\n",
    "    r.start()\n",
    "\n",
    "    message = input('[Emitter] > Mensagem a ser enviada: \\n')\n",
    "    while len(message) != 0 and message != 'exit':\n",
    "        main_stdin.send(message)\n",
    "        ''' Esperamos a confirmação do sender para \n",
    "        receber nova mensagem do stdin'''\n",
    "        assert 'next' == main_stdin.recv()\n",
    "        message = input('[Emitter] > Mensagem a ser enviada: \\n')\n",
    "    # Para terminar a ligação\n",
    "    main_stdin.send('')"
   ]
  },
  {
   "cell_type": "code",
   "execution_count": 8,
   "id": "sized-fraction",
   "metadata": {},
   "outputs": [
    {
     "name": "stdout",
     "output_type": "stream",
     "text": [
      "O start_method já foi inicializado anteriormente \n"
     ]
    },
    {
     "name": "stdin",
     "output_type": "stream",
     "text": [
      "[Emitter] > Mensagem a ser enviada: \n",
      " olá tudo bem oh receiver?\n"
     ]
    },
    {
     "name": "stdout",
     "output_type": "stream",
     "text": [
      "[Receiver] RECEIVED: olá tudo bem oh receiver?\n"
     ]
    },
    {
     "name": "stdin",
     "output_type": "stream",
     "text": [
      "[Emitter] > Mensagem a ser enviada: \n",
      " Não falas não é?\n"
     ]
    },
    {
     "name": "stdout",
     "output_type": "stream",
     "text": [
      "[Receiver] RECEIVED: Não falas não é?\n"
     ]
    },
    {
     "name": "stdin",
     "output_type": "stream",
     "text": [
      "[Emitter] > Mensagem a ser enviada: \n",
      " Vou ali e já venho...\n"
     ]
    },
    {
     "name": "stdout",
     "output_type": "stream",
     "text": [
      "[Receiver] RECEIVED: Vou ali e já venho...\n"
     ]
    },
    {
     "name": "stdin",
     "output_type": "stream",
     "text": [
      "[Emitter] > Mensagem a ser enviada: \n",
      " exit\n"
     ]
    },
    {
     "name": "stdout",
     "output_type": "stream",
     "text": [
      "[RECEIVER] SHUTDOWN[SENDER] SHUTDOWN\n",
      "\n"
     ]
    }
   ],
   "source": [
    "main()"
   ]
  },
  {
   "cell_type": "code",
   "execution_count": null,
   "id": "human-routine",
   "metadata": {},
   "outputs": [],
   "source": []
  }
 ],
 "metadata": {
  "kernelspec": {
   "display_name": "Python 3",
   "language": "python",
   "name": "python3"
  },
  "language_info": {
   "codemirror_mode": {
    "name": "ipython",
    "version": 3
   },
   "file_extension": ".py",
   "mimetype": "text/x-python",
   "name": "python",
   "nbconvert_exporter": "python",
   "pygments_lexer": "ipython3",
   "version": "3.9.0"
  }
 },
 "nbformat": 4,
 "nbformat_minor": 5
}
