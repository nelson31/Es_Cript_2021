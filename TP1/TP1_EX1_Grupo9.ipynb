{
 "cells": [
  {
   "cell_type": "markdown",
   "id": "proud-wheel",
   "metadata": {},
   "source": [
    "# Trabalho Prático 1 de Estruturas Criptográficas"
   ]
  },
  {
   "cell_type": "markdown",
   "id": "prescribed-maximum",
   "metadata": {},
   "source": [
    "- **Autores:** (Grupo 9)\n",
    "     - Nelson Faria (A84727)\n",
    "     - Miguel Oliveira (A83819)"
   ]
  },
  {
   "cell_type": "markdown",
   "id": "regulation-enlargement",
   "metadata": {},
   "source": [
    "## Exercício 1"
   ]
  },
  {
   "cell_type": "code",
   "execution_count": 4,
   "id": "marine-continuity",
   "metadata": {},
   "outputs": [],
   "source": [
    "'''\n",
    "Imports necessários para a execução deste mesmo Notebook\n",
    "'''\n",
    "import os"
   ]
  },
  {
   "cell_type": "markdown",
   "id": "precious-motorcycle",
   "metadata": {},
   "source": [
    "O principal objetivo deste primeiro exercício prático passava pela implementação de uma **comunicação síncrona** e **segura** entre duas entidades, um **receiver** e um **emitter** seguindo determinados parâmetros que vão sendo explicitados e demonstrados em cada uma das alíneas que se seguem."
   ]
  },
  {
   "cell_type": "markdown",
   "id": "lucky-agriculture",
   "metadata": {},
   "source": [
    "### Alínea a - Implementar um gerador de nounces"
   ]
  },
  {
   "cell_type": "markdown",
   "id": "identified-montana",
   "metadata": {},
   "source": [
    "Como se encontra explícito no próprio título desta subsecção, a principal finalidade desta alínea era a implementação de um **gerador de nounces** de modo a que, sempre que seja solicitado uma nova instância de **nounce**, temos a garantia de que ele é **aleatório** e ainda que **nunca foi retornado**, numa ocasião prévia por esse mesmo gerador.\n",
    "\n",
    "Com isto em mente, desenvolvemos a seguinte classe em **Python**, designada de **NGenerator**, a qual apenas apresenta um método que permite o acesso a um novo **nounce**, designado de **get()**. De modo a implementar essa funcionalidade no **NGenerator**, recorremos a uma lista que vai armazenando os **nounces** que vão sendo retornados, à qual acedemos sempre aquando da solicitação da geração de um novo nounce de modo a verificar se tal nounce já foi retornado previamente. Em caso afirmativo, essa instância recém-gerada **é descartada** e é gerada **uma nova instância** para ser retornada, adicionando-a, previamente ao *historic* do respetivo **NGenerator**."
   ]
  },
  {
   "cell_type": "code",
   "execution_count": 5,
   "id": "resistant-tractor",
   "metadata": {},
   "outputs": [],
   "source": [
    "''' \n",
    "Classe que permite gerar \n",
    "nounces que nunca se repetem\n",
    "'''\n",
    "class NGenerator :\n",
    "\n",
    "    '''\n",
    "    Construtor para objetos da classe NGenerator\n",
    "    '''\n",
    "    def __init__(self) :\n",
    "        self.historic = []\n",
    "\n",
    "    ''' \n",
    "    Método que nos permite obter um novo nounce\n",
    "    '''\n",
    "    def get(self) :\n",
    "        nounce = os.urandom(12)\n",
    "        while nounce in self.historic :\n",
    "            nounce = os.urandom(12)\n",
    "        self.historic.append(nounce)\n",
    "        return nounce"
   ]
  },
  {
   "cell_type": "markdown",
   "id": "fatty-slovakia",
   "metadata": {},
   "source": [
    "> De seguida, mostramos o exemplo de execução do método que permite obter uma nova instância de **nounce**."
   ]
  },
  {
   "cell_type": "code",
   "execution_count": 9,
   "id": "complimentary-opposition",
   "metadata": {},
   "outputs": [
    {
     "data": {
      "text/plain": [
       "b'\\x04\\xbcg\\xf9p\\xba\\x9d\\x18\\xb0\\xcc\\x0e\\xd6'"
      ]
     },
     "execution_count": 9,
     "metadata": {},
     "output_type": "execute_result"
    }
   ],
   "source": [
    "ng = NGenerator()\n",
    "ng.get()"
   ]
  },
  {
   "cell_type": "code",
   "execution_count": null,
   "id": "political-partnership",
   "metadata": {},
   "outputs": [],
   "source": []
  }
 ],
 "metadata": {
  "kernelspec": {
   "display_name": "Python 3",
   "language": "python",
   "name": "python3"
  },
  "language_info": {
   "codemirror_mode": {
    "name": "ipython",
    "version": 3
   },
   "file_extension": ".py",
   "mimetype": "text/x-python",
   "name": "python",
   "nbconvert_exporter": "python",
   "pygments_lexer": "ipython3",
   "version": "3.9.0"
  }
 },
 "nbformat": 4,
 "nbformat_minor": 5
}
