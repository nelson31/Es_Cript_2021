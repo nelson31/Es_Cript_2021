{
 "cells": [
  {
   "cell_type": "markdown",
   "id": "actual-utilization",
   "metadata": {},
   "source": [
    "# Trabalho Prático 1 de Estruturas Criptográficas"
   ]
  },
  {
   "cell_type": "markdown",
   "id": "parliamentary-emission",
   "metadata": {},
   "source": [
    "- **Autores:** (Grupo 9)\n",
    "     - Nelson Faria (A84727)\n",
    "     - Miguel Oliveira (A83819)"
   ]
  },
  {
   "cell_type": "markdown",
   "id": "acceptable-dictionary",
   "metadata": {},
   "source": [
    "## Exercício 1"
   ]
  },
  {
   "cell_type": "code",
   "execution_count": 6,
   "id": "powered-slave",
   "metadata": {},
   "outputs": [],
   "source": [
    "'''\n",
    "Imports necessários para a execução deste mesmo Notebook\n",
    "'''\n",
    "import os, io\n",
    "import multiprocessing as mp\n",
    "from cryptography.hazmat.primitives import hashes\n",
    "from cryptography.hazmat.primitives.asymmetric import dsa"
   ]
  },
  {
   "cell_type": "markdown",
   "id": "dense-consumption",
   "metadata": {},
   "source": [
    "O principal objetivo deste primeiro exercício prático passava pela implementação de uma **comunicação síncrona** e **segura** entre duas entidades, um **receiver** e um **emitter** seguindo determinados parâmetros que vão sendo explicitados e demonstrados em cada uma das alíneas que se seguem."
   ]
  },
  {
   "cell_type": "markdown",
   "id": "buried-tanzania",
   "metadata": {},
   "source": [
    "### Alínea a - Implementar um gerador de nounces"
   ]
  },
  {
   "cell_type": "markdown",
   "id": "applicable-novelty",
   "metadata": {},
   "source": [
    "Como se encontra explícito no próprio título desta subsecção, a principal finalidade desta alínea era a implementação de um **gerador de nounces** de modo a que, sempre que seja solicitado uma nova instância de **nounce**, temos a garantia de que ele é **aleatório** e ainda que **nunca foi retornado**, numa ocasião prévia por esse mesmo gerador.\n",
    "\n",
    "Com isto em mente, desenvolvemos a seguinte classe em **Python**, designada de **NGenerator**, a qual apenas apresenta um método que permite o acesso a um novo **nounce**, designado de **get()**. De modo a implementar essa funcionalidade no **NGenerator**, recorremos a uma lista que vai armazenando os **nounces** que vão sendo retornados, à qual acedemos sempre aquando da solicitação da geração de um novo nounce de modo a verificar se tal nounce já foi retornado previamente. Em caso afirmativo, essa instância recém-gerada **é descartada** e é gerada **uma nova instância** para ser retornada, adicionando-a, previamente ao *historic* do respetivo **NGenerator**."
   ]
  },
  {
   "cell_type": "code",
   "execution_count": 5,
   "id": "lesser-terrace",
   "metadata": {},
   "outputs": [],
   "source": [
    "''' \n",
    "Classe que permite gerar \n",
    "nounces que nunca se repetem\n",
    "'''\n",
    "class NGenerator :\n",
    "\n",
    "    '''\n",
    "    Construtor para objetos da classe NGenerator\n",
    "    '''\n",
    "    def __init__(self) :\n",
    "        self.historic = []\n",
    "\n",
    "    ''' \n",
    "    Método que nos permite obter um novo nounce\n",
    "    '''\n",
    "    def get(self) :\n",
    "        nounce = os.urandom(12)\n",
    "        while nounce in self.historic :\n",
    "            nounce = os.urandom(12)\n",
    "        self.historic.append(nounce)\n",
    "        return nounce"
   ]
  },
  {
   "cell_type": "markdown",
   "id": "introductory-array",
   "metadata": {},
   "source": [
    "> De seguida, mostramos o exemplo de execução do método que permite obter uma nova instância de **nounce**."
   ]
  },
  {
   "cell_type": "code",
   "execution_count": 9,
   "id": "entitled-jewel",
   "metadata": {},
   "outputs": [
    {
     "data": {
      "text/plain": [
       "b'\\x04\\xbcg\\xf9p\\xba\\x9d\\x18\\xb0\\xcc\\x0e\\xd6'"
      ]
     },
     "execution_count": 9,
     "metadata": {},
     "output_type": "execute_result"
    }
   ],
   "source": [
    "ng = NGenerator()\n",
    "ng.get()"
   ]
  },
  {
   "cell_type": "markdown",
   "id": "lightweight-friday",
   "metadata": {},
   "source": [
    "### Exemplo simples daquilo que será a comunicação: (Ainda sem qualquer requisito de segurança pedido)\n",
    "\n",
    "[FIXME]"
   ]
  },
  {
   "cell_type": "code",
   "execution_count": 7,
   "id": "nominated-density",
   "metadata": {},
   "outputs": [],
   "source": [
    "''' \n",
    "Função que representa a execução da entidade sender\n",
    "'''\n",
    "def sender(conn,stdin):\n",
    "    message = stdin.recv()\n",
    "\n",
    "    while len(message) > 0 :\n",
    "        conn.send(message.encode('utf-8'))\n",
    "        assert 'ok' == conn.recv()     # para garantir o sincronismo\n",
    "        ''' Pedimos à thread principal a \n",
    "        próxima mensagem lida a partir do stdin'''\n",
    "        stdin.send('next')\n",
    "        message = stdin.recv()\n",
    "\n",
    "    # Para terminar a conexão\n",
    "    conn.send(message.encode('utf-8'))\n",
    "    conn.close()\n",
    "    print('[SENDER] SHUTDOWN')\n",
    "\n",
    "''' \n",
    "Função que representa a execução da entidade receiver \n",
    "'''\n",
    "def receiver(conn):\n",
    "    try:\n",
    "        message = bytes(conn.recv()).decode('utf-8')\n",
    "    except EOFError:\n",
    "        print('EOFError')\n",
    "    while len(message) > 0:\n",
    "        # Imprimimos o conteudo da mensagem recebida\n",
    "        print('[Receiver] RECEIVED: ' + message)\n",
    "        conn.send('ok')        # para garantir o sincronismo\n",
    "        try:\n",
    "            message = bytes(conn.recv()).decode('utf-8')\n",
    "        except EOFError:\n",
    "            break\n",
    "    conn.close()\n",
    "    print('[RECEIVER] SHUTDOWN')\n",
    "\n",
    "\n",
    "''' \n",
    "Função responsável por arrancar a \n",
    "execução de ambas as entidades, o emitter \n",
    "e o receiver. Para além disto é responsável por \n",
    "mediar a comunicação entre o stdin e o sender\n",
    "'''\n",
    "def main() :\n",
    "    try:\n",
    "        mp.set_start_method('fork')\n",
    "    except:\n",
    "        print(\"O start_method já foi inicializado anteriormente \")\n",
    "\n",
    "    receiver_conn, sender_conn = mp.Pipe()\n",
    "    receiver_stdin, main_stdin = mp.Pipe()\n",
    "    s = mp.Process(target=sender, args=(sender_conn,receiver_stdin))\n",
    "    r = mp.Process(target=receiver, args=(receiver_conn,))\n",
    "    s.start()\n",
    "    r.start()\n",
    "\n",
    "    message = input('[Emitter] > Mensagem a ser enviada: \\n')\n",
    "    while len(message) != 0 and message != 'exit':\n",
    "        main_stdin.send(message)\n",
    "        ''' Esperamos a confirmação do sender para \n",
    "        receber nova mensagem do stdin'''\n",
    "        assert 'next' == main_stdin.recv()\n",
    "        message = input('[Emitter] > Mensagem a ser enviada: \\n')\n",
    "    # Para terminar a ligação\n",
    "    main_stdin.send('')"
   ]
  },
  {
   "cell_type": "code",
   "execution_count": 8,
   "id": "crazy-dryer",
   "metadata": {},
   "outputs": [
    {
     "name": "stdout",
     "output_type": "stream",
     "text": [
      "O start_method já foi inicializado anteriormente \n"
     ]
    },
    {
     "name": "stdin",
     "output_type": "stream",
     "text": [
      "[Emitter] > Mensagem a ser enviada: \n",
      " olá tudo bem oh receiver?\n"
     ]
    },
    {
     "name": "stdout",
     "output_type": "stream",
     "text": [
      "[Receiver] RECEIVED: olá tudo bem oh receiver?\n"
     ]
    },
    {
     "name": "stdin",
     "output_type": "stream",
     "text": [
      "[Emitter] > Mensagem a ser enviada: \n",
      " Não falas não é?\n"
     ]
    },
    {
     "name": "stdout",
     "output_type": "stream",
     "text": [
      "[Receiver] RECEIVED: Não falas não é?\n"
     ]
    },
    {
     "name": "stdin",
     "output_type": "stream",
     "text": [
      "[Emitter] > Mensagem a ser enviada: \n",
      " Vou ali e já venho...\n"
     ]
    },
    {
     "name": "stdout",
     "output_type": "stream",
     "text": [
      "[Receiver] RECEIVED: Vou ali e já venho...\n"
     ]
    },
    {
     "name": "stdin",
     "output_type": "stream",
     "text": [
      "[Emitter] > Mensagem a ser enviada: \n",
      " exit\n"
     ]
    },
    {
     "name": "stdout",
     "output_type": "stream",
     "text": [
      "[RECEIVER] SHUTDOWN[SENDER] SHUTDOWN\n",
      "\n"
     ]
    }
   ],
   "source": [
    "main()"
   ]
  },
  {
   "cell_type": "code",
   "execution_count": null,
   "id": "special-citizenship",
   "metadata": {},
   "outputs": [],
   "source": []
  }
 ],
 "metadata": {
  "kernelspec": {
   "display_name": "Python 3",
   "language": "python",
   "name": "python3"
  },
  "language_info": {
   "codemirror_mode": {
    "name": "ipython",
    "version": 3
   },
   "file_extension": ".py",
   "mimetype": "text/x-python",
   "name": "python",
   "nbconvert_exporter": "python",
   "pygments_lexer": "ipython3",
   "version": "3.9.0"
  }
 },
 "nbformat": 4,
 "nbformat_minor": 5
}
