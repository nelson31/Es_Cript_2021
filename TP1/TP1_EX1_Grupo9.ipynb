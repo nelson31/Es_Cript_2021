{
 "cells": [
  {
   "cell_type": "markdown",
   "id": "painted-majority",
   "metadata": {},
   "source": [
    "# Trabalho Prático 1 de Estruturas Criptográficas"
   ]
  },
  {
   "cell_type": "markdown",
   "id": "parliamentary-gothic",
   "metadata": {},
   "source": [
    "- **Autores:** (Grupo 9)\n",
    "     - Nelson Faria (A84727)\n",
    "     - Miguel Oliveira (A83819)"
   ]
  },
  {
   "cell_type": "markdown",
   "id": "warming-transmission",
   "metadata": {},
   "source": [
    "## Exercício 1"
   ]
  },
  {
   "cell_type": "code",
   "execution_count": 1,
   "id": "scheduled-orientation",
   "metadata": {},
   "outputs": [],
   "source": [
    "'''\n",
    "Imports necessários para a execução deste mesmo Notebook\n",
    "'''\n",
    "import io, os\n",
    "import multiprocessing as mp\n",
    "\n",
    "from cryptography.hazmat.primitives.ciphers import Cipher, algorithms, modes\n",
    "from cryptography.hazmat.primitives import hashes, hmac\n",
    "from cryptography.hazmat.primitives import padding\n",
    "\n",
    "from cryptography.hazmat.primitives.asymmetric import dsa\n",
    "from cryptography.hazmat.primitives.asymmetric import dh\n",
    "from cryptography.hazmat.primitives.kdf.hkdf import HKDF\n",
    "from cryptography.hazmat.primitives.asymmetric.padding import PSS, MGF1, PKCS1v15\n",
    "\n",
    "from cryptography.hazmat.primitives.serialization import Encoding, PublicFormat, PrivateFormat, NoEncryption\n",
    "from cryptography.hazmat.primitives.serialization import load_pem_public_key\n",
    "from cryptography.hazmat.primitives.serialization import load_pem_private_key"
   ]
  },
  {
   "cell_type": "markdown",
   "id": "supreme-expert",
   "metadata": {},
   "source": [
    "O principal objetivo deste primeiro exercício prático passava pela implementação de uma **comunicação síncrona** e **segura** entre duas entidades, um **receiver** e um **emitter** seguindo determinados parâmetros que vão sendo explicitados e demonstrados em cada uma das alíneas que se seguem."
   ]
  },
  {
   "cell_type": "markdown",
   "id": "verbal-jefferson",
   "metadata": {},
   "source": [
    "### Alínea a - Implementar um gerador de nounces"
   ]
  },
  {
   "cell_type": "markdown",
   "id": "regulation-spray",
   "metadata": {},
   "source": [
    "Como se encontra explícito no próprio título desta subsecção, a principal finalidade desta alínea era a implementação de um **gerador de nounces** de modo a que, sempre que seja solicitado uma nova instância de **nounce**, temos a garantia de que ele é **aleatório** e ainda que **nunca foi retornado**, numa ocasião prévia por esse mesmo gerador.\n",
    "\n",
    "Com isto em mente, desenvolvemos a seguinte classe em **Python**, designada de **NGenerator**, a qual apenas apresenta um método que permite o acesso a um novo **nounce**, designado de **get()**. De modo a implementar essa funcionalidade no **NGenerator**, recorremos a uma lista que vai armazenando os **nounces** que vão sendo retornados, à qual acedemos sempre aquando da solicitação da geração de um novo nounce de modo a verificar se tal nounce já foi retornado previamente. Em caso afirmativo, essa instância recém-gerada **é descartada** e é gerada **uma nova instância** para ser retornada, adicionando-a, previamente ao *historic* do respetivo **NGenerator**."
   ]
  },
  {
   "cell_type": "code",
   "execution_count": 2,
   "id": "indoor-citation",
   "metadata": {},
   "outputs": [],
   "source": [
    "''' \n",
    "Classe que permite gerar \n",
    "nounces que nunca se repetem\n",
    "'''\n",
    "class NGenerator :\n",
    "\n",
    "    # Construtor para objetos da classe NGenerator\n",
    "    def __init__(self,size) :\n",
    "\n",
    "        self.size = size\n",
    "        self.historic = []\n",
    "\n",
    "    ''' \n",
    "    Método que nos permite obter um novo nounce\n",
    "    '''\n",
    "    def get(self) :\n",
    "\n",
    "        nounce = os.urandom(self.size)\n",
    "        while nounce in self.historic :\n",
    "            nounce = os.urandom(self.size)\n",
    "        self.historic.append(nounce)\n",
    "        return nounce\n",
    "\n",
    "    '''\n",
    "    Método que nos permnite adicionar um novo nounce \n",
    "    ao historico. Método importante para registar os \n",
    "    nounces usados pelo peer.\n",
    "    '''\n",
    "    def addToHistoric(self,nounce) :\n",
    "\n",
    "        self.historic.append(nounce)"
   ]
  },
  {
   "cell_type": "markdown",
   "id": "interested-dubai",
   "metadata": {},
   "source": [
    "> De seguida, mostramos o exemplo de execução do método que permite obter uma nova instância de **nounce**."
   ]
  },
  {
   "cell_type": "code",
   "execution_count": 3,
   "id": "selective-crowd",
   "metadata": {},
   "outputs": [
    {
     "data": {
      "text/plain": [
       "b'`/\\x1c\\xd7\\xca\\xa6\\n!\\x98\\xba\\xd6\\xac\\xbf\\xda\\xebA\\x9f\\x8e\\xa4\\xf9\\xf7\\x95\\xb9\\xa9\\xdb|\\x8c5\\x19q\\xb4\\x86'"
      ]
     },
     "execution_count": 3,
     "metadata": {},
     "output_type": "execute_result"
    }
   ],
   "source": [
    "ng = NGenerator(32)\n",
    "ng.get()\n"
   ]
  },
  {
   "cell_type": "markdown",
   "id": "italian-tissue",
   "metadata": {},
   "source": [
    "### Implementação da comunicação entre as duas entidades (*Emitter* e *Receiver*) - Alíneas b) e c)"
   ]
  },
  {
   "cell_type": "markdown",
   "id": "occasional-signal",
   "metadata": {},
   "source": [
    "As alíneas **b** e **c** não podem ser isoladas do mesmo modo que aconteceu com a alínea a, visto que estas últimas representam alguns **requisitos** aos quais a comunicação entre as duas diferentes partes devem obedecer, pelo que falaremos de cada uma delas ao longo da explicação acerca da implementação realizada pelo nosso grupo quando tal seja oportuno."
   ]
  },
  {
   "cell_type": "markdown",
   "id": "sought-prediction",
   "metadata": {},
   "source": [
    "Numa primeira fase, pensamos que seria necessário ambas as entidades conhecerem a **chave pública** uma da outra, de modo a que fosse possível, para qualquer uma destas, verificarem as **assinaturas** uma da outra, na fase de **handshake**, a qual segue o **algorítmo de Diffie-Hellman**, de modo a ambas as partes acordarem num **chave simétrica** a ser usada para a **cifragem de mensagens** durante a comunicação. Definimos, para além disso, os parâmetros **p** e **g** a serem usados no **Diffie-Hellman**."
   ]
  },
  {
   "cell_type": "code",
   "execution_count": 4,
   "id": "conservative-spring",
   "metadata": {},
   "outputs": [],
   "source": [
    "# Chaves públicas DSA de emitter e receiver\n",
    "sender_public_key = None\n",
    "receiver_public_key = None\n",
    "\n",
    "# RFC 3526's parameters for Diffie-Hellman. Easier to hardcode...\n",
    "p = 0xFFFFFFFFFFFFFFFFC90FDAA22168C234C4C6628B80DC1CD129024E088A67CC74020BBEA63B139B22514A08798E3404DDEF9519B3CD3A431B302B0A6DF25F14374FE1356D6D51C245E485B576625E7EC6F44C42E9A637ED6B0BFF5CB6F406B7EDEE386BFB5A899FA5AE9F24117C4B1FE649286651ECE45B3DC2007CB8A163BF0598DA48361C55D39A69163FA8FD24CF5F83655D23DCA3AD961C62F356208552BB9ED529077096966D670C354E4ABC9804F1746C08CA18217C32905E462E36CE3BE39E772C180E86039B2783A2EC07A28FB5C55DF06F4C52C9DE2BCBF6955817183995497CEA956AE515D2261898FA051015728E5A8AACAA68FFFFFFFFFFFFFFFF\n",
    "g = 2\n",
    "params_numbers = dh.DHParameterNumbers(p,g)\n",
    "parameters = params_numbers.parameters()"
   ]
  },
  {
   "cell_type": "markdown",
   "id": "received-chance",
   "metadata": {},
   "source": [
    "Os métodos apresentados já de seguida são responsáveis pela geração de **chaves DSA privadas** e **públicas**, de modo a que seja possível, aquando da fase de **handshake**, para ambos os intervinientes na comunicação se conseguirem autenticar. No nosso contexto de teste em particular, o processo \"principal\" (método **main**) é responsável por gerar ambas as chaves privadas numa primeira instância, e, de seguida, transmití-las aos respetivos portadores das mesmas, cada um a correr num **processo distinto** (recorremos ao **multiprocessing do Python**)."
   ]
  },
  {
   "cell_type": "markdown",
   "id": "associate-bacteria",
   "metadata": {},
   "source": [
    "De seguida, a partir do par de **chaves privadas** gerado, gera, para cada uma, a sua respetiva **chave pública**, esta sim, conhecida de ambas as entidades. "
   ]
  },
  {
   "cell_type": "code",
   "execution_count": 5,
   "id": "technical-mobile",
   "metadata": {},
   "outputs": [],
   "source": [
    "# Size of dsa keys\n",
    "DSA_KEY_SIZE = 2048 #bits\n",
    "\n",
    "''' \n",
    "Função que permite gerar uma chave privada e \n",
    "que irá ser usada por ambas as entidades, sender e \n",
    "emitter para poder realizar a troca de chaves\n",
    "'''\n",
    "def generatePrivateKeys() :\n",
    "\n",
    "    sender_private_key = dsa.generate_private_key(\n",
    "        key_size=DSA_KEY_SIZE,\n",
    "    )\n",
    "    receiver_private_key = dsa.generate_private_key(\n",
    "        key_size=DSA_KEY_SIZE,\n",
    "    )\n",
    "    return sender_private_key,receiver_private_key\n",
    "\n",
    "'''\n",
    "Função que recebe o par de chaves privadas geradas \n",
    "e gera cada uma das correspondentes chaves públicas\n",
    "'''\n",
    "def generatePublicKeys(private_pair) :\n",
    "\n",
    "    global sender_public_key, receiver_public_key\n",
    "    sender_public_key = private_pair[0].public_key()\n",
    "    receiver_public_key = private_pair[1].public_key()\n",
    "    "
   ]
  },
  {
   "cell_type": "markdown",
   "id": "isolated-thing",
   "metadata": {},
   "source": [
    "#### Fase de Handshake"
   ]
  },
  {
   "cell_type": "markdown",
   "id": "published-thumb",
   "metadata": {},
   "source": [
    "Uma vez explicado o procedimento para a **geração** dos **pares de chaves DSA** **públicas** e **privadas** para cada uma das entidades que fazem parte da comunicação neste nosso exemplo prático, passamos agora para a explicação acerca da fase de **handshake**, na qual decorre não só o acordo, entre ambas as partes, para a **chave simétrica** a ser usada para a **cifragem** e respetiva **garatia de integridade (mac)** de mensagens, como também a **autenticação** de cada uma das partes intervenientes na comunicação."
   ]
  },
  {
   "cell_type": "markdown",
   "id": "forbidden-texture",
   "metadata": {},
   "source": [
    "Esta fase é composta por 4 etapas essenciais:\n",
    "\n",
    "* **Emitter** gera a sua chave privada **DH**, $g^{x}$, e envia-a para o **Receiver**.\n",
    "* **Receiver** gera, por sua vez, a sua chave **DH**, $g^{y}$, estando já em condições de computar a chave partilhada, $g^{xy}$. De seguida envia a seguinte mensagem para o **Emitter**: ($g^{y}$, $cifra_k$(S($g^{y}$,$g^{x}$))), onde k=$g^{xy}$, **cifra** é o algorítmo de cifragem optado pelo grupo para o problema em questão e que irá ser aprofundado mais à frente e em que o oráculo S(.) representa a assinatura do par de chaves privadas **DH** geradas por cada uma das entidades realizada com a **chave privada DSA** do **Receiver**, de modo a que seja possível ao **Emitter** verificar a assinatura através da **chave pública DSA** do próprio **Receiver** e, deste modo, comprovar a autenticidade desse mesmo agente. Neste ponto, o **Receiver** já se encontra em condições de calcular a **chave simétrica**, $g^{xy}$, que irá ser diretamente aplicada no algorítmo de cifragem, que, no nosso caso, consiste na aplicação da cifra **AES** no modo **CBC**, assim como no **HMAC**, que será usado para a geração de um digest, com o intuito de que seja sempre possível verificar a **integridade** de toda e qualquer mensagem trocada entre estas duas entidades.\n",
    "* **Emitter**, após receber a chave privada, $g^{y}$, gerada proveniente do seu peer nesta fase de handshake, poderá, desde já, calcular, à semelhança do que já foi explicado no ponto anterior, a chave $g^{xy}$. Após isto, em jeito de **autenticação** de si próprio para com o seu peer, envia a seguinte mensagem: $cifra_k$(S($g^{x}$,$g^{y}$)), com k=$g^{xy}$, **cifra** é o algorítmo de cifragem optado pelo grupo para o problema em questão e que irá ser aprofundado mais à frente, para que tal assinatura seja, depois, verificada pelo **Receiver**.\n",
    "* **Receiver** faz uso da chave gerada e envia para o **Emitter** a seguinte mensagem: \"END HANDSHAKE\", fazendo já uso dos métodos de **cifragem** e **mac** já explicados anteriormente, de modo a que seja garantido o **sincronismo** característico desta comunicação.\n",
    "    \n",
    "Mostra-se, de seguida, as funções em python responsáveis pela implementação daquilo que foi descrito até agora, em que cada uma representa o procedimento seguido por cada um dos peers.\n",
    "\n",
    "Ambas estas funções recebem uma instância de **Connection**, **conn**, a qual permite a cada uma das entidades comunicar com a outra, a respetiva chave privada da entidade que representam, assim como um **NGenerator**, este último que permite a geração de **nounces** e que tem utilidade na cifragem de mensagens, cujo procedimento será explicado mais à frente. Nota para o facto de que ambas as funções retornam a **chave simétrica** acordada para a cifragem de mensagens no decorrer da comunicação entre ambos os intervenientes.\n"
   ]
  },
  {
   "cell_type": "code",
   "execution_count": 6,
   "id": "little-queue",
   "metadata": {},
   "outputs": [],
   "source": [
    "'''\n",
    "Função responsável pelo handshake a ser \n",
    "realizado por parte do sender. Retorna a chave a \n",
    "ser usada para a comunicação entre ambas as entidades.\n",
    "'''\n",
    "def sender_handshake(conn, private_key, ng) :\n",
    "\n",
    "    # Generate and Send the client's generated key: g^x\n",
    "    dh_g_x = parameters.generate_private_key()\n",
    "    dh_g_x_as_bytes = dh_g_x.private_bytes(Encoding.PEM,PrivateFormat.PKCS8,NoEncryption())\n",
    "    conn.send(dh_g_x_as_bytes)\n",
    "\n",
    "    # Recebemos a primeira mensagem do receiver\n",
    "    data = conn.recv()\n",
    "    args = data.split(sep=b'\\r\\n\\r\\n')\n",
    "    dh_g_y_as_bytes = args[0]\n",
    "    dh_g_y = load_pem_private_key(dh_g_y_as_bytes,password=None)\n",
    "    ciphered_signature = args[1]\n",
    "    \n",
    "    # Generate the shared key between server<->client communication\n",
    "    shared_key = dh_g_x.exchange(dh_g_y.public_key())\n",
    "    # Perform key derivation.\n",
    "    derived_key = HKDF(\n",
    "        algorithm=hashes.SHA256(),\n",
    "        length=32,\n",
    "        salt=None,\n",
    "        info=b'handshake data',\n",
    "    ).derive(shared_key)\n",
    "    \n",
    "    signature = decrypt(derived_key,ciphered_signature,ng)\n",
    "    \n",
    "    # Verificamos a assinatura do receiver -> FIXME WITH TRY... CATCH\n",
    "    verify(receiver_public_key,dh_g_y_as_bytes + b'\\r\\n\\r\\n' + dh_g_x_as_bytes, signature)\n",
    "\n",
    "\n",
    "    # Envia a respetiva assinatura para ser verificada pelo receiver\n",
    "    conn.send(encrypt(derived_key,sign(private_key, dh_g_x_as_bytes + b'\\r\\n\\r\\n' + dh_g_y_as_bytes),ng))\n",
    "\n",
    "    # No final é recebida, pelo sender (emitter) uma mensagem de termino da fase de handshake\n",
    "    assert decrypt(derived_key,conn.recv(),ng).decode('utf-8') == 'END HANDSHAKE'\n",
    "\n",
    "    print('[SENDER] Handshake phase successfully done!')\n",
    "\n",
    "    return derived_key\n"
   ]
  },
  {
   "cell_type": "code",
   "execution_count": 7,
   "id": "supported-accommodation",
   "metadata": {},
   "outputs": [],
   "source": [
    "'''\n",
    "Função responsável pelo handshake a ser \n",
    "realizado por parte do receiver. Retorna a chave a \n",
    "ser usada para a comunicação entre ambas as entidades.\n",
    "'''\n",
    "def receiver_handshake(conn, private_key, ng) :\n",
    "\n",
    "    # Recebemos a chave gerada pelo sender\n",
    "    dh_g_x_as_bytes = conn.recv()\n",
    "    dh_g_x = load_pem_private_key(dh_g_x_as_bytes,password=None)\n",
    "\n",
    "    # Generate and Send the server's generated key: g^y\n",
    "    dh_g_y = parameters.generate_private_key()\n",
    "    dh_g_y_as_bytes = dh_g_y.private_bytes(Encoding.PEM,PrivateFormat.PKCS8,NoEncryption())\n",
    "\n",
    "    # Generate the shared key between server<->client communication\n",
    "    shared_key = dh_g_y.exchange(dh_g_x.public_key())\n",
    "\n",
    "    # Perform key derivation.\n",
    "    derived_key = HKDF(\n",
    "        algorithm=hashes.SHA256(),\n",
    "        length=32,\n",
    "        salt=None,\n",
    "        info=b'handshake data',\n",
    "    ).derive(shared_key)\n",
    "\n",
    "    # Enviamos para o sender a chave gerada e a respetiva assinatura\n",
    "    conn.send(dh_g_y_as_bytes + b'\\r\\n\\r\\n' + encrypt(derived_key,sign(private_key, dh_g_y_as_bytes + b'\\r\\n\\r\\n' + dh_g_x_as_bytes),ng))\n",
    "\n",
    "    # Recebemos a assinatura e verificamos se é autentica -> FIXME WITH TRY... CATCH\n",
    "    data = conn.recv()\n",
    "    signature = decrypt(derived_key,data,ng)\n",
    "    verify(sender_public_key, dh_g_x_as_bytes + b'\\r\\n\\r\\n' + dh_g_y_as_bytes, signature)\n",
    "\n",
    "    # No final é enviada uma mensagem de termino da fase de handshake\n",
    "    conn.send(encrypt(derived_key,'END HANDSHAKE'.encode('utf-8'),ng))\n",
    "\n",
    "    print('[RECEIVER] Handshake phase successfully done!')\n",
    "\n",
    "    return derived_key\n"
   ]
  },
  {
   "cell_type": "markdown",
   "id": "adequate-turtle",
   "metadata": {},
   "source": [
    "#### Gestão das assinaturas (com o uso de chaves DSA)\n",
    "\n",
    "Para a agilizar todo o processo de **assinatura** e **verificação** da mesma mediante a apresentação de uma assinatura propriamente dita, foram implementadas as funções **sign()** e **verify()**. A primeira recebe a **chave privada DSA** da entidade que pretende assinar uma determinada mensagem, assim como o próprio conteúdo da mensagem e retorna um digest de **32 bytes**, fazendo uso do hash **SHA256**. Já a segunda, recebe a **chave pública DSA** da entidade que assinou determinada mensagem, o conteúdo da própria mensagem, como não poderia deixar de ser e ainda a respetiva **tag gerada** pelo gerador da mensagem. Nota para o facto de que, aquando da não correspondência entre mensagem e tag, aquando do processo de verificação, é lançada uma exceção pelo próprio método **verify()**.\n",
    "\n",
    "Contextualizando com a subsecção de **handshake**, os oráculos S(.) de cada uma das entidades mencionados na explicação de implementação desta fase inicial da comunicação entre o **Emitter** e o **Receiver**, não são mais do que a aplicação direta da função **sign** com a **chave privada DSA** da entidade respetiva.\n"
   ]
  },
  {
   "cell_type": "code",
   "execution_count": 8,
   "id": "medium-celebrity",
   "metadata": {},
   "outputs": [],
   "source": [
    "'''\n",
    "Função que permite assinar uma determinada mensagem \n",
    "com uma determinada chave privada\n",
    "'''\n",
    "def sign(private_key, data) :\n",
    "\n",
    "    signature = private_key.sign(\n",
    "        data,\n",
    "        hashes.SHA256()\n",
    "    )\n",
    "    return signature\n",
    "\n",
    "'''\n",
    "Função que permite verificar uma determinada assinatura.\n",
    "'''\n",
    "def verify(public_key, data, signature) :\n",
    "\n",
    "    public_key.verify(\n",
    "        signature,\n",
    "        data,\n",
    "        hashes.SHA256()\n",
    "    )\n",
    "    "
   ]
  },
  {
   "cell_type": "markdown",
   "id": "federal-syndicate",
   "metadata": {},
   "source": [
    "#### Processo de cifragem e decifragem de mensagens\n",
    "\n",
    "No contexto da cifragem e decifragem de dados, realizados quer pelo **Emitter**, quer pelo **Receiver**, aquando da intenção de comunicar com o seu peer, foram também implementados dois métodos com o intuito de facilitar a aplicação prática não só de **cifragem** dos dados, de modo a garantir a **confidencialidade** da comunicação, mas também, o uso do algorítmo **hmac** de modo a garantir a integridade das mensagens trocadas entre os dois intervenientes. \n",
    "\n",
    "Por outras palavras, os métodos **encrypt()** e **decrypt()** não podem ser interpretados no seu sentido literal, tendo em conta que cobrem também todas as questões relacionadas com a geração e verificação de tags relacionadas com o **hmac**, para além de aplicarem a cifra **AES** no modo **CBC**. Tendo optado, uma vez, pelo modo **CBC**, seria necessário usar algum tipo de **padding**, de modo a permitir o envio de mensagem de qualquer comprimento, não restringindo o conjunto de mensagens a serem enviadas àquelas que possuam um comprimento que seja múltiplo do tamanho de cada bloco da cifra **AES**, de **16 bytes**. O algorítmo de padding utilizado foi, então, o **PKCS7**. Para além disto, o modo **CBC** implica o uso de um vetor de inicialização, **iv** que precisa de ser único para cada mensagem trocada entre peers. Partindo deste pressuposto, seria necessário algum tipo de gerador que garanta esta característica. Ora, já resolvemos este problema no contexto da **alínea a**, com a implementação da classe **NGenerator**. Com esta podemos definir o tamanho de **nounces** a serem gerados para **16 bytes** e temos este problema completamente resolvido. Será importante não esquecer que, aquando do consumo de uma mensagem, o **recetor** (quer seja ele **Emitter** ou **Receiver**) da mesma terá de notificar a sua instância de **NGenerator** de que o **iv** nela presente, e gerado pelo peer, já foi usado, de modo a que este não seja reutilizado na comunicação.\n",
    "\n",
    "A construção do \"criptograma\" como um todo, isto é, incluindo já a **tag** para a verificação de integridade do criptograma própriamente dito, ou seja, gerado pela aplicação do **AES** no modo **CBC**, foi então feita do seguinte modo:\n",
    "\n",
    "> criptograma = **(N,iv,ct,tag)** where N=**sizeof**(iv+ct), tag=**$hmac_k$**(iv,ct), ct=**$cifra_k$**(m)\n",
    "\n",
    "No pseudo-código acima mencionado importa que referir que **criptograma** é um array de bytes composto por **N**, com um comprimento de **4 bytes** que representa o tamanho do **(iv,ct)**, em que **ct** é o resultado da aplicação da cifra **AES** com a **chave k** no modo **CBC** com o uso do **vetor de inicialização iv**. Este **N** é necessário de modo a que seja possível, aquando do processo de decifragem, saber onde termina o campo **(iv,ct)** e onde começa o campo **tag**, uma vez que o **(iv,ct)** não possui um comprimento fixo (apesar de ser sempre múltipo de **16**).\n",
    "\n",
    "Dito isto, apresentamos agora as funções **encrypt()** e **decrypt()**. "
   ]
  },
  {
   "cell_type": "code",
   "execution_count": 9,
   "id": "toxic-mathematics",
   "metadata": {},
   "outputs": [],
   "source": [
    "PKCS7_BIT_LEN = 128 # bits\n",
    "AES_BLOCK_LEN = 16 # bytes\n",
    "HMAC_KEY_LEN = 32 # bytes\n",
    "\n",
    "# Header do ciphertext que guarda o tamanho do ciphertext propriamente dito (sem o digest)\n",
    "CIPHERTEXT_HEADER_LEN = 4 # bytes\n",
    "\n",
    "# Receives and returns bytes.\n",
    "def encrypt(k, m, iv_gen):\n",
    "\n",
    "    padder = padding.PKCS7(PKCS7_BIT_LEN).padder()\n",
    "    padded_data = padder.update(m) + padder.finalize()\n",
    "    iv = iv_gen.get()\n",
    "    cipher = Cipher(algorithms.AES(k), modes.CBC(iv))\n",
    "    encryptor = cipher.encryptor()\n",
    "\n",
    "    ct = encryptor.update(padded_data) + encryptor.finalize()\n",
    "    ct = iv+ct\n",
    "    len_ct = len(ct)\n",
    "    len_ct_bytes = len_ct.to_bytes(CIPHERTEXT_HEADER_LEN,'little')\n",
    "\n",
    "    h = hmac.HMAC(k, hashes.SHA256())\n",
    "    h.update(ct)\n",
    "    digest = h.finalize()\n",
    "    return len_ct_bytes+ct+digest\n",
    "\n",
    "# Receives and returns bytes.\n",
    "def decrypt(k, c, iv_gen):\n",
    "\n",
    "    len_ct_bytes = c[:CIPHERTEXT_HEADER_LEN]\n",
    "    len_ct = int.from_bytes(len_ct_bytes,'little',signed=True)\n",
    "    ct, digest = c[CIPHERTEXT_HEADER_LEN:(len_ct+CIPHERTEXT_HEADER_LEN)], c[(len_ct+CIPHERTEXT_HEADER_LEN):]\n",
    "    iv, ct = ct[:AES_BLOCK_LEN], ct[AES_BLOCK_LEN:]\n",
    "    \n",
    "    iv_gen.addToHistoric(iv)\n",
    "\n",
    "    # Verificamos, logo, a assinatura\n",
    "    h = hmac.HMAC(k, hashes.SHA256())\n",
    "    h.update(iv+ct)\n",
    "    h.verify(digest)\n",
    "\n",
    "    cipher = Cipher(algorithms.AES(k), modes.CBC(iv))\n",
    "    decryptor = cipher.decryptor()\n",
    "    pt = decryptor.update(ct) + decryptor.finalize()\n",
    "    unpadder = padding.PKCS7(PKCS7_BIT_LEN).unpadder()\n",
    "    pt = unpadder.update(pt) + unpadder.finalize()\n",
    "    return pt"
   ]
  },
  {
   "cell_type": "markdown",
   "id": "strange-application",
   "metadata": {},
   "source": [
    "Nota para o facto de que a função **encrypt()** para além da chave simétrica, **k** e a mensagem para ser cifrada, **m**, recebe também o **NGenerator** iv_gen, o qual é responsável pela geração de **iv's** para aplicação direta do modo **CBC** com a cifra **AES**. Algo semelhante acontece com a função **decrypt()**."
   ]
  },
  {
   "cell_type": "markdown",
   "id": "bacterial-funeral",
   "metadata": {},
   "source": [
    "#### Comunicação entre Emitter e Receiver\n",
    "\n",
    "Neste ponto, encontramo-nos em condições de descrever como decorre a comunicação propriamente dita entre **Emitter** e **Receiver**. Após a fase de **handshake**, com a aplicação do algorítmo de **Diffie-Hellman**, ambas as partes possuem a chave simétrica a ser utilizada para a cifragem de conteúdos trocados entre si. Assim sendo, a implementação da comunicação torna-se algo trivial.\n",
    "\n",
    "Os métodos apresentados no excerto de código seguinte implementam o comportamento de cada uma das partes na comunicação entre essas mesmas partes. Ambos os métodos **sender()** e **receiver()** recebem uma instância de **Connection**, **conn**, as quais representam as extremidades de um **pipe bidirecional**, que lhes permite comunicar um com o outro e a respetiva **chave privada DSA** de cada um, as quais serão usadas na fase de **handshake**, como já foi explicado anteriormente.\n",
    "\n",
    "No entanto, a função **sender()** exige um outro parâmetro designado de **stdin**. Este parâmetro não é mais do que outra instância de **Connection**, mas uma outra que permite a comunicação com o processo **pai** (método main). Fomos obrigado a recorrer a isto, visto que pretendiamos que o processo que encapsulava a execução do **Emitter (sender)**, lêsse mensagens do **standard in** (ler do teclado recorrendo à função **input()** disponibilizada pelo **python**). No entanto, após vários testes verificamos que tal só poderia acontecer no **processo pai**. Deste modo, a nossa solução passou por criar um **pipe** adicional em que uma das extremidades fica entregue ao **Emitter** e a outra, ao processo responsável por lançar o **Emitter** e o **Receiver**."
   ]
  },
  {
   "cell_type": "code",
   "execution_count": 10,
   "id": "demonstrated-robin",
   "metadata": {},
   "outputs": [],
   "source": [
    "''' \n",
    "Função que representa a execução da entidade sender/emitter\n",
    "'''\n",
    "def sender(conn,private_key,stdin):\n",
    "\n",
    "    iv_generator = NGenerator(AES_BLOCK_LEN)\n",
    "    # Iniciamos a fase de handshake com o receiver...\n",
    "    shared_key = sender_handshake(conn,private_key,iv_generator)\n",
    "    stdin.send('ready')\n",
    "\n",
    "    message = stdin.recv()\n",
    "\n",
    "    while message != 'exit' and len(message) > 0 :\n",
    "        conn.send(encrypt(shared_key,message.encode('utf-8'),iv_generator))\n",
    "        assert 'ok' == decrypt(shared_key,conn.recv(),iv_generator).decode('utf-8') # para garantir o sincronismo\n",
    "        ''' Pedimos à thread principal a \n",
    "        próxima mensagem lida a partir do stdin'''\n",
    "        stdin.send('next')\n",
    "        message = stdin.recv()\n",
    "\n",
    "    # Para terminar a conexão\n",
    "    conn.send(encrypt(shared_key,'exit'.encode('utf-8'),iv_generator))\n",
    "    conn.close()\n",
    "    print('[Emitter] SHUTDOWN')\n"
   ]
  },
  {
   "cell_type": "code",
   "execution_count": 11,
   "id": "retired-russian",
   "metadata": {},
   "outputs": [],
   "source": [
    "''' \n",
    "Função que representa a execução da entidade receiver \n",
    "'''\n",
    "def receiver(conn,private_key):\n",
    "\n",
    "    iv_generator = NGenerator(AES_BLOCK_LEN)\n",
    "    # Iniciamos a fase de handshake com o sender\n",
    "    shared_key = receiver_handshake(conn,private_key,iv_generator)\n",
    "\n",
    "    try:\n",
    "        message = decrypt(shared_key,bytes(conn.recv()),iv_generator).decode('utf-8')\n",
    "        while message != 'exit':\n",
    "            # Imprimimos o conteudo da mensagem recebida\n",
    "            print('[Receiver] RECEIVED: ' + message)\n",
    "            conn.send(encrypt(shared_key,'ok'.encode('utf-8'),iv_generator)) # para garantir o sincronismo\n",
    "            message = decrypt(shared_key,bytes(conn.recv()),iv_generator).decode('utf-8')\n",
    "    except EOFError:\n",
    "        print('[Receiver] SHUTDOWN')\n",
    "\n",
    "    print('[Receiver] SHUTDOWN')\n",
    "    conn.close()"
   ]
  },
  {
   "cell_type": "markdown",
   "id": "several-cooler",
   "metadata": {},
   "source": [
    "Posto isto, estamos em condições de apresentar o código do programa principal, responsável por arrancar ambas as entidades, **Emitter** e **Receiver**:"
   ]
  },
  {
   "cell_type": "code",
   "execution_count": 12,
   "id": "injured-surfing",
   "metadata": {},
   "outputs": [],
   "source": [
    "''' \n",
    "Função responsável por arrancar a \n",
    "execução de ambas as entidades, o emitter \n",
    "e o receiver. Para além disto é responsável por \n",
    "mediar a comunicação entre o stdin e o sender\n",
    "'''\n",
    "def communication() :\n",
    "    try:\n",
    "        mp.set_start_method('fork')\n",
    "    except:\n",
    "        print(\"O start_method já foi inicializado anteriormente \")\n",
    "\n",
    "    # Geramos a chave privada para cada uma das entidades e, de seguida, as chaves públicas\n",
    "    sender_private_key, receiver_private_key = generatePrivateKeys()\n",
    "    generatePublicKeys((sender_private_key, receiver_private_key))\n",
    "\n",
    "    receiver_conn, sender_conn = mp.Pipe()\n",
    "    receiver_stdin, main_stdin = mp.Pipe()\n",
    "    s = mp.Process(target=sender, args=(sender_conn,sender_private_key,receiver_stdin))\n",
    "    r = mp.Process(target=receiver, args=(receiver_conn,receiver_private_key))\n",
    "    s.start()\n",
    "    r.start()\n",
    "\n",
    "    # Esperamos que o emitter esteja a postos para receber mensagens para serem enviadas\n",
    "    assert 'ready' == main_stdin.recv()\n",
    "\n",
    "    message = input('[Emitter] > Mensagem a ser enviada: \\n')\n",
    "    while len(message) != 0 and message != 'exit':\n",
    "        main_stdin.send(message)\n",
    "        ''' Esperamos a confirmação do sender para \n",
    "        receber nova mensagem do stdin'''\n",
    "        assert 'next' == main_stdin.recv()\n",
    "        message = input('[Emitter] > Mensagem a ser enviada: \\n')\n",
    "    # Para terminar a ligação\n",
    "    main_stdin.send('')"
   ]
  },
  {
   "cell_type": "code",
   "execution_count": 13,
   "id": "suspected-plaza",
   "metadata": {},
   "outputs": [
    {
     "name": "stdout",
     "output_type": "stream",
     "text": [
      "[RECEIVER] Handshake phase successfully done![SENDER] Handshake phase successfully done!\n",
      "\n"
     ]
    },
    {
     "name": "stdin",
     "output_type": "stream",
     "text": [
      "[Emitter] > Mensagem a ser enviada: \n",
      " Hello!\n"
     ]
    },
    {
     "name": "stdout",
     "output_type": "stream",
     "text": [
      "[Receiver] RECEIVED: Hello!\n"
     ]
    },
    {
     "name": "stdin",
     "output_type": "stream",
     "text": [
      "[Emitter] > Mensagem a ser enviada: \n",
      " Tudo bem ou não queres dizer aqui ao pessoal?\n"
     ]
    },
    {
     "name": "stdout",
     "output_type": "stream",
     "text": [
      "[Receiver] RECEIVED: Tudo bem ou não queres dizer aqui ao pessoal?\n"
     ]
    },
    {
     "name": "stdin",
     "output_type": "stream",
     "text": [
      "[Emitter] > Mensagem a ser enviada: \n",
      " Hasta\n"
     ]
    },
    {
     "name": "stdout",
     "output_type": "stream",
     "text": [
      "[Receiver] RECEIVED: Hasta\n"
     ]
    },
    {
     "name": "stdin",
     "output_type": "stream",
     "text": [
      "[Emitter] > Mensagem a ser enviada: \n",
      " \n"
     ]
    },
    {
     "name": "stdout",
     "output_type": "stream",
     "text": [
      "[Receiver] SHUTDOWN[Emitter] SHUTDOWN\n",
      "\n"
     ]
    }
   ],
   "source": [
    "communication()\n",
    "    "
   ]
  },
  {
   "cell_type": "markdown",
   "id": "convenient-shuttle",
   "metadata": {},
   "source": [
    "### Alínea d - Uso de ECDH e ECDSA"
   ]
  },
  {
   "cell_type": "markdown",
   "id": "running-italian",
   "metadata": {},
   "source": [
    "Nesta alínea é-nos pedido para substituir o algorítmo de acordo de chaves **DH** pelo **ECDH** e, para além disto, ao invés de utilizar o **DSA** como algoritmo de assinatura de dados, passar a usar p **ECDSA**. Assim sendo, a principal diferença para o esquema anterior reside na fase de **handshake**, uma vez que o desenrolar da comunicação após esta fase em nada depende destes algorítmos citados anteriormente. Após a fase de handshake, os algorítmos usados são a cifra **AES** com o modo **CBC**, tirando partido da chave acordada na fase de **handshake** e de **iv's** que vão sendo gerados por instâncias de **NGenerator** pertencentes a ambas as partes envolvidas na comunicação, assim como o **HMAC** para geração de tag's com o intuito de garantir integridade na comunicação.\n",
    "\n",
    "Partindo disto, notamos que à partida, temos que mudar a geração de **chaves públicas** e **privadas DSA** para a geração de *EllipticCurvePublicKeys* e *EllipticCurvePrivateKeys*.\n"
   ]
  },
  {
   "cell_type": "code",
   "execution_count": 14,
   "id": "designing-toilet",
   "metadata": {},
   "outputs": [],
   "source": [
    "from cryptography.hazmat.primitives import hashes\n",
    "from cryptography.hazmat.primitives.asymmetric import ec\n",
    "\n",
    "sender_ec_public_key = None\n",
    "receiver_ec_public_key = None\n",
    "\n",
    "''' \n",
    "Função que permite gerar uma chave privada e \n",
    "que irá ser usada por ambas as entidades, sender e \n",
    "emitter para poder realizar a troca de chaves\n",
    "'''\n",
    "def generateEllipticCurvePrivateKeys() :\n",
    "\n",
    "    sender_private_key = ec.generate_private_key(\n",
    "        ec.SECP384R1()\n",
    "    )\n",
    "    receiver_private_key = ec.generate_private_key(\n",
    "        ec.SECP384R1()\n",
    "    )\n",
    "    return sender_private_key,receiver_private_key\n",
    "\n",
    "'''\n",
    "Função que recebe o par de chaves privadas geradas \n",
    "e gera cada uma das correspondentes chaves públicas\n",
    "'''\n",
    "def generateEllipticCurvePublicKeys(private_pair) :\n",
    "\n",
    "    global sender_ec_public_key, receiver_ec_public_key\n",
    "    sender_ec_public_key = private_pair[0].public_key()\n",
    "    receiver_ec_public_key = private_pair[1].public_key()\n",
    "    "
   ]
  },
  {
   "cell_type": "markdown",
   "id": "southeast-rachel",
   "metadata": {},
   "source": [
    "O passo seguinte passa por alterar as funções de **sign()** e **verify()**, visto que agora estamos a usar **curvas elípticas** e não **DSA**."
   ]
  },
  {
   "cell_type": "code",
   "execution_count": 15,
   "id": "english-sense",
   "metadata": {},
   "outputs": [],
   "source": [
    "'''\n",
    "Função que permite assinar uma determinada mensagem \n",
    "com uma determinada chave privada\n",
    "'''\n",
    "def sign_ec(private_key, data) :\n",
    "\n",
    "    signature = private_key.sign(\n",
    "        data,\n",
    "        ec.ECDSA(hashes.SHA256())\n",
    "    )\n",
    "    return signature\n",
    "\n",
    "'''\n",
    "Função que permite verificar uma determinada assinatura.\n",
    "'''\n",
    "def verify_ec(public_key, data, signature) :\n",
    "\n",
    "    public_key.verify(\n",
    "        signature, \n",
    "        data, \n",
    "        ec.ECDSA(hashes.SHA256())\n",
    "    )"
   ]
  },
  {
   "cell_type": "markdown",
   "id": "excellent-vampire",
   "metadata": {},
   "source": [
    "De momento, tendo em conta que na nossa fase de handshake estamos a utilizar **Diffie-Hellman**, esta terá que ser alterada no sentido de passarmos a aplicar **ECDH** - *Elliptic Curve Diffie-Hellman Key Exchange algorithm*."
   ]
  },
  {
   "cell_type": "code",
   "execution_count": 16,
   "id": "scheduled-philippines",
   "metadata": {},
   "outputs": [],
   "source": [
    "'''\n",
    "Função responsável pelo handshake a ser \n",
    "realizado por parte do sender. Retorna a chave a \n",
    "ser usada para a comunicação entre ambas as entidades.\n",
    "'''\n",
    "def sender_ec_handshake(conn, private_key, ng) :\n",
    "\n",
    "    # Generate and Send the client's generated key: g^x\n",
    "    dh_g_x = ec.generate_private_key(ec.SECP384R1())\n",
    "    dh_g_x_as_bytes = dh_g_x.private_bytes(Encoding.PEM,PrivateFormat.PKCS8,NoEncryption())\n",
    "    conn.send(dh_g_x_as_bytes)\n",
    "\n",
    "    # Recebemos a primeira mensagem do receiver\n",
    "    data = conn.recv()\n",
    "    args = data.split(sep=b'\\r\\n\\r\\n')\n",
    "    dh_g_y_as_bytes = args[0]\n",
    "    dh_g_y = load_pem_private_key(dh_g_y_as_bytes,password=None)\n",
    "    ciphered_signature = args[1]\n",
    "    \n",
    "    # Generate the shared key between server<->client communication\n",
    "    shared_key = dh_g_x.exchange(ec.ECDH(),dh_g_y.public_key())\n",
    "    # Perform key derivation.\n",
    "    derived_key = HKDF(\n",
    "        algorithm=hashes.SHA256(),\n",
    "        length=32,\n",
    "        salt=None,\n",
    "        info=b'handshake data',\n",
    "    ).derive(shared_key)\n",
    "    \n",
    "    signature = decrypt(derived_key,ciphered_signature,ng)\n",
    "    \n",
    "    # Verificamos a assinatura do receiver -> FIXME WITH TRY... CATCH\n",
    "    verify_ec(receiver_ec_public_key,dh_g_y_as_bytes + b'\\r\\n\\r\\n' + dh_g_x_as_bytes, signature)\n",
    "\n",
    "\n",
    "    # Envia a respetiva assinatura para ser verificada pelo receiver\n",
    "    conn.send(encrypt(derived_key,sign_ec(private_key, dh_g_x_as_bytes + b'\\r\\n\\r\\n' + dh_g_y_as_bytes),ng))\n",
    "\n",
    "    # No final é recebida, pelo sender (emitter) uma mensagem de termino da fase de handshake\n",
    "    assert decrypt(derived_key,conn.recv(),ng).decode('utf-8') == 'END HANDSHAKE'\n",
    "\n",
    "    print('[SENDER] Handshake phase successfully done!')\n",
    "\n",
    "    return derived_key\n",
    "\n"
   ]
  },
  {
   "cell_type": "code",
   "execution_count": 17,
   "id": "meaning-notice",
   "metadata": {},
   "outputs": [],
   "source": [
    "'''\n",
    "Função responsável pelo handshake a ser \n",
    "realizado por parte do receiver. Retorna a chave a \n",
    "ser usada para a comunicação entre ambas as entidades.\n",
    "'''\n",
    "def receiver_ec_handshake(conn, private_key, ng) :\n",
    "\n",
    "    # Recebemos a chave gerada pelo sender\n",
    "    dh_g_x_as_bytes = conn.recv()\n",
    "    dh_g_x = load_pem_private_key(dh_g_x_as_bytes,password=None)\n",
    "\n",
    "    # Generate and Send the server's generated key: g^y\n",
    "    dh_g_y = ec.generate_private_key(ec.SECP384R1())\n",
    "    dh_g_y_as_bytes = dh_g_y.private_bytes(Encoding.PEM,PrivateFormat.PKCS8,NoEncryption())\n",
    "\n",
    "    # Generate the shared key between server<->client communication\n",
    "    shared_key = dh_g_y.exchange(ec.ECDH(),dh_g_x.public_key())\n",
    "\n",
    "    # Perform key derivation.\n",
    "    derived_key = HKDF(\n",
    "        algorithm=hashes.SHA256(),\n",
    "        length=32,\n",
    "        salt=None,\n",
    "        info=b'handshake data',\n",
    "    ).derive(shared_key)\n",
    "\n",
    "    # Enviamos para o sender a chave gerada e a respetiva assinatura\n",
    "    conn.send(dh_g_y_as_bytes + b'\\r\\n\\r\\n' + encrypt(derived_key,sign_ec(private_key, dh_g_y_as_bytes + b'\\r\\n\\r\\n' + dh_g_x_as_bytes),ng))\n",
    "\n",
    "    # Recebemos a assinatura e verificamos se é autentica -> FIXME WITH TRY... CATCH\n",
    "    data = conn.recv()\n",
    "    signature = decrypt(derived_key,data,ng)\n",
    "    verify_ec(sender_ec_public_key, dh_g_x_as_bytes + b'\\r\\n\\r\\n' + dh_g_y_as_bytes, signature)\n",
    "\n",
    "    # No final é enviada uma mensagem de termino da fase de handshake\n",
    "    conn.send(encrypt(derived_key,'END HANDSHAKE'.encode('utf-8'),ng))\n",
    "\n",
    "    print('[RECEIVER] Handshake phase successfully done!')\n",
    "\n",
    "    return derived_key\n",
    "\n"
   ]
  },
  {
   "cell_type": "markdown",
   "id": "confirmed-evolution",
   "metadata": {},
   "source": [
    "Agora teremos que alterar as funções **sender()** e **receiver()**, aplicando as funções agora implementadas:"
   ]
  },
  {
   "cell_type": "code",
   "execution_count": 18,
   "id": "imperial-intake",
   "metadata": {},
   "outputs": [],
   "source": [
    "''' \n",
    "Função que representa a execução da entidade sender/emitter\n",
    "'''\n",
    "def sender_ec(conn,private_key,stdin):\n",
    "\n",
    "    iv_generator = NGenerator(AES_BLOCK_LEN)\n",
    "    # Iniciamos a fase de handshake com o receiver...\n",
    "    shared_key = sender_ec_handshake(conn,private_key,iv_generator)\n",
    "    stdin.send('ready')\n",
    "\n",
    "    message = stdin.recv()\n",
    "\n",
    "    while message != 'exit' and len(message) > 0 :\n",
    "        conn.send(encrypt(shared_key,message.encode('utf-8'),iv_generator))\n",
    "        assert 'ok' == decrypt(shared_key,conn.recv(),iv_generator).decode('utf-8') # para garantir o sincronismo\n",
    "        ''' Pedimos à thread principal a \n",
    "        próxima mensagem lida a partir do stdin'''\n",
    "        stdin.send('next')\n",
    "        message = stdin.recv()\n",
    "\n",
    "    # Para terminar a conexão\n",
    "    conn.send(encrypt(shared_key,'exit'.encode('utf-8'),iv_generator))\n",
    "    conn.close()\n",
    "    print('[Emitter] SHUTDOWN')"
   ]
  },
  {
   "cell_type": "code",
   "execution_count": 19,
   "id": "global-privilege",
   "metadata": {},
   "outputs": [],
   "source": [
    "''' \n",
    "Função que representa a execução da entidade receiver \n",
    "'''\n",
    "def receiver_ec(conn,private_key):\n",
    "\n",
    "    iv_generator = NGenerator(AES_BLOCK_LEN)\n",
    "    # Iniciamos a fase de handshake com o sender\n",
    "    shared_key = receiver_ec_handshake(conn,private_key,iv_generator)\n",
    "\n",
    "    try:\n",
    "        message = decrypt(shared_key,bytes(conn.recv()),iv_generator).decode('utf-8')\n",
    "        while message != 'exit':\n",
    "            # Imprimimos o conteudo da mensagem recebida\n",
    "            print('[Receiver] RECEIVED: ' + message)\n",
    "            conn.send(encrypt(shared_key,'ok'.encode('utf-8'),iv_generator)) # para garantir o sincronismo\n",
    "            message = decrypt(shared_key,bytes(conn.recv()),iv_generator).decode('utf-8')\n",
    "    except EOFError:\n",
    "        print('[Receiver] SHUTDOWN')\n",
    "\n",
    "    print('[Receiver] SHUTDOWN')\n",
    "    conn.close()"
   ]
  },
  {
   "cell_type": "markdown",
   "id": "balanced-captain",
   "metadata": {},
   "source": [
    "Por fim, teremos que implementar a função que arranca com o **Emitter** e **Receiver**:"
   ]
  },
  {
   "cell_type": "code",
   "execution_count": 20,
   "id": "logical-gothic",
   "metadata": {},
   "outputs": [],
   "source": [
    "''' \n",
    "Função responsável por arrancar a \n",
    "execução de ambas as entidades, o emitter \n",
    "e o receiver. Para além disto é responsável por \n",
    "mediar a comunicação entre o stdin e o sender\n",
    "'''\n",
    "def ec_communication() :\n",
    "    try:\n",
    "        mp.set_start_method('fork')\n",
    "    except:\n",
    "        print(\"O start_method já foi inicializado anteriormente \")\n",
    "\n",
    "    # Geramos a chave privada para cada uma das entidades e, de seguida, as chaves públicas\n",
    "    sender_private_key, receiver_private_key = generateEllipticCurvePrivateKeys()\n",
    "    generateEllipticCurvePublicKeys((sender_private_key, receiver_private_key))\n",
    "\n",
    "    receiver_conn, sender_conn = mp.Pipe()\n",
    "    receiver_stdin, main_stdin = mp.Pipe()\n",
    "    s = mp.Process(target=sender_ec, args=(sender_conn,sender_private_key,receiver_stdin))\n",
    "    r = mp.Process(target=receiver_ec, args=(receiver_conn,receiver_private_key))\n",
    "    s.start()\n",
    "    r.start()\n",
    "\n",
    "    # Esperamos que o emitter esteja a postos para receber mensagens para serem enviadas\n",
    "    assert 'ready' == main_stdin.recv()\n",
    "\n",
    "    message = input('[Emitter] > Mensagem a ser enviada: \\n')\n",
    "    while len(message) != 0 and message != 'exit':\n",
    "        main_stdin.send(message)\n",
    "        ''' Esperamos a confirmação do sender para \n",
    "        receber nova mensagem do stdin'''\n",
    "        assert 'next' == main_stdin.recv()\n",
    "        message = input('[Emitter] > Mensagem a ser enviada: \\n')\n",
    "    # Para terminar a ligação\n",
    "    main_stdin.send('')"
   ]
  },
  {
   "cell_type": "code",
   "execution_count": 21,
   "id": "civil-pasta",
   "metadata": {},
   "outputs": [
    {
     "name": "stdout",
     "output_type": "stream",
     "text": [
      "O start_method já foi inicializado anteriormente \n",
      "[RECEIVER] Handshake phase successfully done![SENDER] Handshake phase successfully done!\n",
      "\n"
     ]
    },
    {
     "name": "stdin",
     "output_type": "stream",
     "text": [
      "[Emitter] > Mensagem a ser enviada: \n",
      " Hello\n"
     ]
    },
    {
     "name": "stdout",
     "output_type": "stream",
     "text": [
      "[Receiver] RECEIVED: Hello\n"
     ]
    },
    {
     "name": "stdin",
     "output_type": "stream",
     "text": [
      "[Emitter] > Mensagem a ser enviada: \n",
      " Tudo bem ou não queres dizer aqui ao pessoal?\n"
     ]
    },
    {
     "name": "stdout",
     "output_type": "stream",
     "text": [
      "[Receiver] RECEIVED: Tudo bem ou não queres dizer aqui ao pessoal?\n"
     ]
    },
    {
     "name": "stdin",
     "output_type": "stream",
     "text": [
      "[Emitter] > Mensagem a ser enviada: \n",
      " Xauz...\n"
     ]
    },
    {
     "name": "stdout",
     "output_type": "stream",
     "text": [
      "[Receiver] RECEIVED: Xauz...\n"
     ]
    },
    {
     "name": "stdin",
     "output_type": "stream",
     "text": [
      "[Emitter] > Mensagem a ser enviada: \n",
      " \n"
     ]
    },
    {
     "name": "stdout",
     "output_type": "stream",
     "text": [
      "[Emitter] SHUTDOWN[Receiver] SHUTDOWN\n",
      "\n"
     ]
    }
   ],
   "source": [
    "ec_communication()"
   ]
  },
  {
   "cell_type": "markdown",
   "id": "driven-season",
   "metadata": {},
   "source": [
    "Com o intuito de embelezar a nossa solução deste exercício desenvolvemos o seguinte programa que permite ao utilizador testar ambas as versões desenvolvidas, isto é, com e sem o uso de **Elliptic Curves**."
   ]
  },
  {
   "cell_type": "code",
   "execution_count": 24,
   "id": "geographic-monroe",
   "metadata": {},
   "outputs": [
    {
     "name": "stdin",
     "output_type": "stream",
     "text": [
      "Want to use Elliptic curves? (y/n) y\n"
     ]
    },
    {
     "name": "stdout",
     "output_type": "stream",
     "text": [
      "> Started using EC...\n",
      "O start_method já foi inicializado anteriormente \n",
      "[RECEIVER] Handshake phase successfully done![SENDER] Handshake phase successfully done!\n",
      "\n"
     ]
    },
    {
     "name": "stdin",
     "output_type": "stream",
     "text": [
      "[Emitter] > Mensagem a ser enviada: \n",
      " Tudo bem ou não queres dizer ao Zé Guel?\n"
     ]
    },
    {
     "name": "stdout",
     "output_type": "stream",
     "text": [
      "[Receiver] RECEIVED: Tudo bem ou não queres dizer ao Zé Guel?\n"
     ]
    },
    {
     "name": "stdin",
     "output_type": "stream",
     "text": [
      "[Emitter] > Mensagem a ser enviada: \n",
      " \n"
     ]
    },
    {
     "name": "stdout",
     "output_type": "stream",
     "text": [
      "[Receiver] SHUTDOWN[Emitter] SHUTDOWN\n",
      "\n"
     ]
    }
   ],
   "source": [
    "def main():\n",
    "    \n",
    "    msg = input('Want to use Elliptic curves? (y/n)')\n",
    "    if msg=='y' or msg=='Y':\n",
    "        print('> Started using EC...')\n",
    "        ec_communication()\n",
    "    elif msg=='n' or msg=='N':\n",
    "        print('> Started not using EC...')\n",
    "        communication()\n",
    "    else:\n",
    "        print('Invalid option, please try again... bye')\n",
    "        \n",
    "if __name__ == \"__main__\":\n",
    "    main()"
   ]
  },
  {
   "cell_type": "code",
   "execution_count": null,
   "id": "proprietary-gamma",
   "metadata": {},
   "outputs": [],
   "source": []
  }
 ],
 "metadata": {
  "kernelspec": {
   "display_name": "Python 3",
   "language": "python",
   "name": "python3"
  },
  "language_info": {
   "codemirror_mode": {
    "name": "ipython",
    "version": 3
   },
   "file_extension": ".py",
   "mimetype": "text/x-python",
   "name": "python",
   "nbconvert_exporter": "python",
   "pygments_lexer": "ipython3",
   "version": "3.9.0"
  }
 },
 "nbformat": 4,
 "nbformat_minor": 5
}
